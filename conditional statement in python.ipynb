{
 "cells": [
  {
   "cell_type": "raw",
   "metadata": {},
   "source": [
    "if condtion :\n",
    "    print('condition num 1')\n",
    "elif :\n",
    "    print('condtition num 2')\n",
    "elif :\n",
    "    print('condition num 3')\n",
    "else:\n",
    "    print('all above condition if false')"
   ]
  },
  {
   "cell_type": "code",
   "execution_count": 4,
   "metadata": {},
   "outputs": [
    {
     "name": "stdout",
     "output_type": "stream",
     "text": [
      "before conditions\n",
      "this is third condition\n",
      "after the conditions\n"
     ]
    }
   ],
   "source": [
    "print('before conditions')\n",
    "if 0:\n",
    "    print('This is the first condition and it is true')\n",
    "elif 0:\n",
    "    print('this is second condition')\n",
    "elif 1:\n",
    "    print('this is third condition')\n",
    "else:\n",
    "    print('all false')\n",
    "print('after the conditions')"
   ]
  },
  {
   "cell_type": "code",
   "execution_count": 7,
   "metadata": {},
   "outputs": [
    {
     "name": "stdout",
     "output_type": "stream",
     "text": [
      "Enter the numbers like 1,2,3 : 2\n",
      "no. is  2\n"
     ]
    }
   ],
   "source": [
    "num = int(input('Enter the numbers like 1,2,3 : '))\n",
    "if num == 1:\n",
    "    print('no. is ',num)\n",
    "elif num == 2:\n",
    "    print('no. is ',num)\n",
    "else:\n",
    "    print('no. is ',num)"
   ]
  },
  {
   "cell_type": "code",
   "execution_count": 8,
   "metadata": {},
   "outputs": [],
   "source": [
    "import random"
   ]
  },
  {
   "cell_type": "code",
   "execution_count": 9,
   "metadata": {},
   "outputs": [],
   "source": [
    "numbers = [random.randint(1,1000) for var in range(100)]"
   ]
  },
  {
   "cell_type": "code",
   "execution_count": 12,
   "metadata": {},
   "outputs": [
    {
     "name": "stdout",
     "output_type": "stream",
     "text": [
      "this is even number 248\n",
      "this is odd number 89\n",
      "this is even number 644\n",
      "this is even number 418\n",
      "this is odd number 233\n",
      "this is even number 620\n",
      "this is even number 550\n",
      "this is even number 168\n",
      "this is odd number 295\n",
      "this is odd number 3\n",
      "this is even number 512\n",
      "this is even number 528\n",
      "this is odd number 441\n",
      "this is odd number 233\n",
      "this is even number 578\n",
      "this is odd number 109\n",
      "this is even number 562\n",
      "this is even number 276\n",
      "this is even number 898\n",
      "this is odd number 113\n",
      "this is odd number 581\n",
      "this is even number 564\n",
      "this is odd number 171\n",
      "this is odd number 507\n",
      "this is odd number 67\n",
      "this is odd number 941\n",
      "this is even number 226\n",
      "this is even number 552\n",
      "this is even number 66\n",
      "this is even number 512\n",
      "this is even number 118\n",
      "this is even number 498\n",
      "this is even number 122\n",
      "this is even number 322\n",
      "this is odd number 205\n",
      "this is odd number 233\n",
      "this is odd number 47\n",
      "this is odd number 285\n",
      "this is odd number 591\n",
      "this is odd number 59\n",
      "this is even number 756\n",
      "this is odd number 601\n",
      "this is even number 188\n",
      "this is even number 248\n",
      "this is odd number 645\n",
      "this is odd number 211\n",
      "this is even number 600\n",
      "this is odd number 921\n",
      "this is even number 42\n",
      "this is even number 858\n",
      "this is even number 428\n",
      "this is odd number 165\n",
      "this is even number 500\n",
      "this is odd number 669\n",
      "this is even number 998\n",
      "this is odd number 683\n",
      "this is even number 90\n",
      "this is even number 256\n",
      "this is odd number 147\n",
      "this is odd number 781\n",
      "this is odd number 29\n",
      "this is odd number 205\n",
      "this is odd number 475\n",
      "this is even number 470\n",
      "this is odd number 553\n",
      "this is odd number 615\n",
      "this is odd number 577\n",
      "this is odd number 891\n",
      "this is even number 270\n",
      "this is even number 544\n",
      "this is odd number 987\n",
      "this is even number 80\n",
      "this is even number 580\n",
      "this is odd number 71\n",
      "this is odd number 957\n",
      "this is odd number 865\n",
      "this is even number 508\n",
      "this is odd number 861\n",
      "this is even number 962\n",
      "this is odd number 877\n",
      "this is odd number 419\n",
      "this is odd number 153\n",
      "this is even number 442\n",
      "this is odd number 937\n",
      "this is odd number 221\n",
      "this is odd number 807\n",
      "this is even number 668\n",
      "this is even number 928\n",
      "this is even number 706\n",
      "this is odd number 935\n",
      "this is even number 576\n",
      "this is odd number 35\n",
      "this is odd number 309\n",
      "this is odd number 67\n",
      "this is odd number 405\n",
      "this is even number 734\n",
      "this is even number 796\n",
      "this is even number 562\n",
      "this is odd number 215\n",
      "this is odd number 633\n"
     ]
    }
   ],
   "source": [
    "for var in numbers:\n",
    "    if var % 2 == 0 :\n",
    "        print('this is even number',var)\n",
    "    else :\n",
    "        print('this is odd number',var)"
   ]
  },
  {
   "cell_type": "code",
   "execution_count": 17,
   "metadata": {},
   "outputs": [
    {
     "name": "stdout",
     "output_type": "stream",
     "text": [
      "enter a number :12\n",
      "this no. is even 12\n"
     ]
    }
   ],
   "source": [
    "t = int(input('enter a number :'))\n",
    "if t % 2 == 0:\n",
    "    print(f\"this no. is even {t}\")\n",
    "else:\n",
    "    print(f\"this no. is odd {t}\")"
   ]
  },
  {
   "cell_type": "code",
   "execution_count": 18,
   "metadata": {},
   "outputs": [
    {
     "name": "stdout",
     "output_type": "stream",
     "text": [
      "0\n",
      "4\n",
      "8\n",
      "12\n",
      "16\n",
      "20\n",
      "24\n",
      "28\n",
      "32\n",
      "36\n",
      "40\n",
      "44\n",
      "48\n",
      "52\n",
      "56\n",
      "60\n",
      "64\n",
      "68\n",
      "72\n",
      "76\n",
      "80\n",
      "84\n",
      "88\n",
      "92\n",
      "96\n"
     ]
    }
   ],
   "source": [
    "for var in range(100):\n",
    "    if var % 4 == 0:\n",
    "        print(var)"
   ]
  },
  {
   "cell_type": "code",
   "execution_count": 19,
   "metadata": {},
   "outputs": [],
   "source": [
    "var = [var for var in range(20) if var%2==0]"
   ]
  },
  {
   "cell_type": "code",
   "execution_count": 20,
   "metadata": {},
   "outputs": [
    {
     "data": {
      "text/plain": [
       "[0, 2, 4, 6, 8, 10, 12, 14, 16, 18]"
      ]
     },
     "execution_count": 20,
     "metadata": {},
     "output_type": "execute_result"
    }
   ],
   "source": [
    "var"
   ]
  },
  {
   "cell_type": "code",
   "execution_count": 27,
   "metadata": {},
   "outputs": [
    {
     "name": "stdout",
     "output_type": "stream",
     "text": [
      "········\n",
      "········\n",
      "Player 1 is win\n"
     ]
    }
   ],
   "source": [
    "from getpass import getpass\n",
    "\n",
    "ch1 = getpass()\n",
    "ch2 = getpass()\n",
    "\n",
    "player1_win = [('rock','scissor'),('paper','rock'),('scissor','paper')]\n",
    "ch = (ch1,ch2)\n",
    "\n",
    "if ch1 == ch2 :\n",
    "    print('Match is Tie ')\n",
    "elif ch in player1_win :\n",
    "    print('Player 1 is win')\n",
    "else:\n",
    "    print('Player 2 is win')"
   ]
  },
  {
   "cell_type": "code",
   "execution_count": 28,
   "metadata": {},
   "outputs": [
    {
     "data": {
      "text/plain": [
       "True"
      ]
     },
     "execution_count": 28,
     "metadata": {},
     "output_type": "execute_result"
    }
   ],
   "source": [
    "ch in player1_win"
   ]
  },
  {
   "cell_type": "code",
   "execution_count": 29,
   "metadata": {},
   "outputs": [
    {
     "name": "stdout",
     "output_type": "stream",
     "text": [
      "i am greater than 15\n"
     ]
    }
   ],
   "source": [
    "i = 20\n",
    "if i < 15:\n",
    "    print('i am smaller than 15')\n",
    "else:\n",
    "    print('i am greater than 15')"
   ]
  },
  {
   "cell_type": "code",
   "execution_count": 57,
   "metadata": {},
   "outputs": [
    {
     "name": "stdout",
     "output_type": "stream",
     "text": [
      "i am smaller than 15\n",
      "all of above\n"
     ]
    }
   ],
   "source": [
    "i = 10\n",
    "if i == 10:\n",
    "    if i < 15:\n",
    "        print('i am smaller than 15')\n",
    "    if i > 12:\n",
    "        print('i am smaller than 12 too')\n",
    "    else:\n",
    "        print('all of above')"
   ]
  },
  {
   "cell_type": "code",
   "execution_count": 37,
   "metadata": {},
   "outputs": [
    {
     "name": "stdout",
     "output_type": "stream",
     "text": [
      "Enter the first number : 9\n",
      "Enter the second number : 6\n",
      "Enter the third number : 4\n",
      "A is greater\n"
     ]
    }
   ],
   "source": [
    "a = int(input('Enter the first number : '))\n",
    "b = int(input('Enter the second number : '))\n",
    "c = int(input('Enter the third number : '))\n",
    "\n",
    "if a >= b and a >= c:\n",
    "    print('A is greater')\n",
    "elif b >= c:\n",
    "    print('B is greater')\n",
    "else:\n",
    "    print('C is greater')"
   ]
  },
  {
   "cell_type": "code",
   "execution_count": 38,
   "metadata": {},
   "outputs": [
    {
     "name": "stdout",
     "output_type": "stream",
     "text": [
      "b he bada hai yr\n"
     ]
    }
   ],
   "source": [
    "a,b = 10,20\n",
    "\n",
    "if a != b:\n",
    "    if a > b:\n",
    "        print('a is greater than b')\n",
    "    else:\n",
    "        print('b he bada hai yr')"
   ]
  },
  {
   "cell_type": "code",
   "execution_count": 56,
   "metadata": {},
   "outputs": [
    {
     "name": "stdout",
     "output_type": "stream",
     "text": [
      "Enter the a number : 5\n",
      "Enter the b number : 6\n",
      "Enter the c number : 4\n",
      "A is greater\n"
     ]
    }
   ],
   "source": [
    "a = int(input('Enter the a number : '))\n",
    "b = int(input('Enter the b number : '))\n",
    "c = int(input('Enter the c number : '))\n",
    "\n",
    "if a > b or a > c:\n",
    "    print('A is greater')\n",
    "elif b > c:\n",
    "    print('B is greater')\n",
    "else:\n",
    "    print('C is greater')"
   ]
  },
  {
   "cell_type": "code",
   "execution_count": 3,
   "metadata": {},
   "outputs": [
    {
     "name": "stdout",
     "output_type": "stream",
     "text": [
      "does phython is a interpreted language yes or no.........?????    yes\n",
      "you are passed goood answer\n"
     ]
    }
   ],
   "source": [
    "num = input('does phython is a interpreted language yes or no.........?????    ')\n",
    "if num == 'yes':\n",
    "    print('you are passed goood answer')\n",
    "elif num == 'no':\n",
    "    print('not good bad answer ')\n",
    "else:\n",
    "    print('plz give a valid input')"
   ]
  },
  {
   "cell_type": "code",
   "execution_count": 7,
   "metadata": {},
   "outputs": [
    {
     "name": "stdout",
     "output_type": "stream",
     "text": [
      "enter foo or bar :     f  o   O   \n",
      "bar\n"
     ]
    }
   ],
   "source": [
    "inp = input('enter foo or bar : ').strip().lower()\n",
    "inp = ''.join(inp.split())\n",
    "if inp == 'foo':\n",
    "    print('bar')\n",
    "elif inp == 'bar':\n",
    "    print('foo')\n",
    "else:\n",
    "    print('foo|bar')"
   ]
  },
  {
   "cell_type": "code",
   "execution_count": 10,
   "metadata": {},
   "outputs": [
    {
     "name": "stdout",
     "output_type": "stream",
     "text": [
      "     f    o    o      \n"
     ]
    }
   ],
   "source": [
    "a = input()"
   ]
  },
  {
   "cell_type": "code",
   "execution_count": 12,
   "metadata": {},
   "outputs": [],
   "source": [
    "b = a.split()"
   ]
  },
  {
   "cell_type": "code",
   "execution_count": 13,
   "metadata": {},
   "outputs": [
    {
     "data": {
      "text/plain": [
       "'foo'"
      ]
     },
     "execution_count": 13,
     "metadata": {},
     "output_type": "execute_result"
    }
   ],
   "source": [
    "''.join(b)"
   ]
  },
  {
   "cell_type": "code",
   "execution_count": 14,
   "metadata": {},
   "outputs": [],
   "source": [
    "from getpass import getpass"
   ]
  },
  {
   "cell_type": "code",
   "execution_count": 15,
   "metadata": {},
   "outputs": [
    {
     "name": "stdout",
     "output_type": "stream",
     "text": [
      "········\n",
      "mynamw is khan\n"
     ]
    }
   ],
   "source": [
    "ch= getpass()\n",
    "print(ch)"
   ]
  },
  {
   "cell_type": "code",
   "execution_count": null,
   "metadata": {},
   "outputs": [],
   "source": []
  }
 ],
 "metadata": {
  "kernelspec": {
   "display_name": "Python 3",
   "language": "python",
   "name": "python3"
  },
  "language_info": {
   "codemirror_mode": {
    "name": "ipython",
    "version": 3
   },
   "file_extension": ".py",
   "mimetype": "text/x-python",
   "name": "python",
   "nbconvert_exporter": "python",
   "pygments_lexer": "ipython3",
   "version": "3.7.3"
  }
 },
 "nbformat": 4,
 "nbformat_minor": 2
}
