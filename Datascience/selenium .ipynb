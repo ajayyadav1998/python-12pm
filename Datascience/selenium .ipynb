{
 "cells": [
  {
   "cell_type": "code",
   "execution_count": 13,
   "metadata": {},
   "outputs": [],
   "source": [
    "from selenium import webdriver\n",
    "from selenium.webdriver.common.keys import Keys\n",
    "import time\n",
    "\n",
    "browser  = webdriver.Firefox()\n",
    "\n",
    "browser.get('https://www.quora.com/topic/Fashion-and-Style-Advice/all_questions')\n",
    "\n",
    "\n",
    "post = browser.find_element_by_tag_name('body')\n",
    "\n",
    "no_of_page = 20\n",
    "\n",
    "while no_of_page:\n",
    "    post.send_keys(Keys.PAGE_DOWN)\n",
    "    time.sleep(1)\n",
    "    no_of_page -= 1\n",
    "    \n",
    "post_data = browser.find_elements_by_class_name('ui_qtext_rendered_qtext')\n",
    "\n",
    "file = open('text.txt','w')\n",
    "c = 1\n",
    "for var in post_data:\n",
    "    file.write(str(str(c)+var.text))\n",
    "    file.write('\\n')\n",
    "    c += 1\n",
    "file.close()"
   ]
  },
  {
   "cell_type": "code",
   "execution_count": null,
   "metadata": {},
   "outputs": [],
   "source": [
    "from selenium import webdriver\n",
    "from selenium.webdriver.common.keys import Keys\n",
    "import time\n",
    "\n",
    "browser  = webdriver.Firefox()\n",
    "\n",
    "browser.get('https://www.goodreads.com/quotes/tag/life-quotes')\n",
    "\n",
    "\n",
    "post = browser.find_element_by_tag_name('body')\n",
    "\n",
    "no_of_page = 20\n",
    "\n",
    "while no_of_page:\n",
    "    post.send_keys(Keys.PAGE_DOWN)\n",
    "    time.sleep(1)\n",
    "    no_of_page -= 1\n",
    "    \n",
    "post_data = browser.find_elements_by_class_name('quoteText')\n",
    "\n",
    "\n",
    "for var in post_data:\n",
    "    file.write(str(str(c)+var.text))\n",
    "    file.write('\\n')\n",
    "    c += 1\n",
    "le.close()"
   ]
  }
 ],
 "metadata": {
  "kernelspec": {
   "display_name": "Python 3",
   "language": "python",
   "name": "python3"
  },
  "language_info": {
   "codemirror_mode": {
    "name": "ipython",
    "version": 3
   },
   "file_extension": ".py",
   "mimetype": "text/x-python",
   "name": "python",
   "nbconvert_exporter": "python",
   "pygments_lexer": "ipython3",
   "version": "3.7.3"
  }
 },
 "nbformat": 4,
 "nbformat_minor": 2
}
