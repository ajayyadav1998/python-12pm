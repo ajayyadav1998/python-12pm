{
 "cells": [
  {
   "cell_type": "code",
   "execution_count": 1,
   "metadata": {},
   "outputs": [],
   "source": [
    "import numpy as np\n",
    "import pandas as pd\n",
    "import matplotlib.pyplot as plt\n",
    "%matplotlib inline"
   ]
  },
  {
   "cell_type": "code",
   "execution_count": 2,
   "metadata": {},
   "outputs": [],
   "source": [
    "a = [1,2,3,4,5,6,7,8]"
   ]
  },
  {
   "cell_type": "code",
   "execution_count": 3,
   "metadata": {},
   "outputs": [],
   "source": [
    "a = np.array(a)"
   ]
  },
  {
   "cell_type": "code",
   "execution_count": 4,
   "metadata": {},
   "outputs": [
    {
     "data": {
      "text/plain": [
       "array([1, 2, 3, 4, 5, 6, 7, 8])"
      ]
     },
     "execution_count": 4,
     "metadata": {},
     "output_type": "execute_result"
    }
   ],
   "source": [
    "a"
   ]
  },
  {
   "cell_type": "code",
   "execution_count": 8,
   "metadata": {},
   "outputs": [
    {
     "data": {
      "text/plain": [
       "array([1, 2, 3, 4, 5, 6, 7])"
      ]
     },
     "execution_count": 8,
     "metadata": {},
     "output_type": "execute_result"
    }
   ],
   "source": [
    "b = [1,2,3,4,5,6,7]\n",
    "b = np.array(b)\n",
    "b"
   ]
  },
  {
   "cell_type": "code",
   "execution_count": 9,
   "metadata": {},
   "outputs": [],
   "source": [
    "a = np.array([\n",
    "    [1,2,3],\n",
    "    [4,5,6],\n",
    "    [7,8,9]\n",
    "])"
   ]
  },
  {
   "cell_type": "code",
   "execution_count": 10,
   "metadata": {},
   "outputs": [],
   "source": [
    "b = np.array([\n",
    "    [9,8,7],\n",
    "    [6,5,4],\n",
    "    [3,2,1]\n",
    "])"
   ]
  },
  {
   "cell_type": "code",
   "execution_count": 11,
   "metadata": {},
   "outputs": [
    {
     "data": {
      "text/plain": [
       "array([[1, 2, 3],\n",
       "       [4, 5, 6],\n",
       "       [7, 8, 9]])"
      ]
     },
     "execution_count": 11,
     "metadata": {},
     "output_type": "execute_result"
    }
   ],
   "source": [
    "a"
   ]
  },
  {
   "cell_type": "code",
   "execution_count": 12,
   "metadata": {},
   "outputs": [
    {
     "data": {
      "text/plain": [
       "array([[9, 8, 7],\n",
       "       [6, 5, 4],\n",
       "       [3, 2, 1]])"
      ]
     },
     "execution_count": 12,
     "metadata": {},
     "output_type": "execute_result"
    }
   ],
   "source": [
    "b"
   ]
  },
  {
   "cell_type": "code",
   "execution_count": 13,
   "metadata": {},
   "outputs": [
    {
     "data": {
      "text/plain": [
       "array([[ 9, 16, 21],\n",
       "       [24, 25, 24],\n",
       "       [21, 16,  9]])"
      ]
     },
     "execution_count": 13,
     "metadata": {},
     "output_type": "execute_result"
    }
   ],
   "source": [
    "a * b"
   ]
  },
  {
   "cell_type": "code",
   "execution_count": 15,
   "metadata": {},
   "outputs": [
    {
     "data": {
      "text/plain": [
       "array([[ 30,  24,  18],\n",
       "       [ 84,  69,  54],\n",
       "       [138, 114,  90]])"
      ]
     },
     "execution_count": 15,
     "metadata": {},
     "output_type": "execute_result"
    }
   ],
   "source": [
    "a @ b # matrix multiplication"
   ]
  },
  {
   "cell_type": "code",
   "execution_count": 18,
   "metadata": {},
   "outputs": [
    {
     "data": {
      "text/plain": [
       "2"
      ]
     },
     "execution_count": 18,
     "metadata": {},
     "output_type": "execute_result"
    }
   ],
   "source": [
    "a.ndim #to check dimention of the array"
   ]
  },
  {
   "cell_type": "code",
   "execution_count": 20,
   "metadata": {},
   "outputs": [
    {
     "data": {
      "text/plain": [
       "(3, 3)"
      ]
     },
     "execution_count": 20,
     "metadata": {},
     "output_type": "execute_result"
    }
   ],
   "source": [
    "b.shape # define the shape of matrix"
   ]
  },
  {
   "cell_type": "code",
   "execution_count": 62,
   "metadata": {},
   "outputs": [
    {
     "data": {
      "text/plain": [
       "9"
      ]
     },
     "execution_count": 62,
     "metadata": {},
     "output_type": "execute_result"
    }
   ],
   "source": [
    "b.size # shows how much values it will contain"
   ]
  },
  {
   "cell_type": "code",
   "execution_count": 21,
   "metadata": {},
   "outputs": [],
   "source": [
    "y = np.arange(1,101)"
   ]
  },
  {
   "cell_type": "code",
   "execution_count": 22,
   "metadata": {},
   "outputs": [
    {
     "data": {
      "text/plain": [
       "array([  1,   2,   3,   4,   5,   6,   7,   8,   9,  10,  11,  12,  13,\n",
       "        14,  15,  16,  17,  18,  19,  20,  21,  22,  23,  24,  25,  26,\n",
       "        27,  28,  29,  30,  31,  32,  33,  34,  35,  36,  37,  38,  39,\n",
       "        40,  41,  42,  43,  44,  45,  46,  47,  48,  49,  50,  51,  52,\n",
       "        53,  54,  55,  56,  57,  58,  59,  60,  61,  62,  63,  64,  65,\n",
       "        66,  67,  68,  69,  70,  71,  72,  73,  74,  75,  76,  77,  78,\n",
       "        79,  80,  81,  82,  83,  84,  85,  86,  87,  88,  89,  90,  91,\n",
       "        92,  93,  94,  95,  96,  97,  98,  99, 100])"
      ]
     },
     "execution_count": 22,
     "metadata": {},
     "output_type": "execute_result"
    }
   ],
   "source": [
    "y"
   ]
  },
  {
   "cell_type": "code",
   "execution_count": 24,
   "metadata": {},
   "outputs": [
    {
     "data": {
      "text/plain": [
       "50.0"
      ]
     },
     "execution_count": 24,
     "metadata": {},
     "output_type": "execute_result"
    }
   ],
   "source": [
    "100/2"
   ]
  },
  {
   "cell_type": "code",
   "execution_count": 25,
   "metadata": {},
   "outputs": [
    {
     "data": {
      "text/plain": [
       "array([[  1,   2,   3,   4,   5],\n",
       "       [  6,   7,   8,   9,  10],\n",
       "       [ 11,  12,  13,  14,  15],\n",
       "       [ 16,  17,  18,  19,  20],\n",
       "       [ 21,  22,  23,  24,  25],\n",
       "       [ 26,  27,  28,  29,  30],\n",
       "       [ 31,  32,  33,  34,  35],\n",
       "       [ 36,  37,  38,  39,  40],\n",
       "       [ 41,  42,  43,  44,  45],\n",
       "       [ 46,  47,  48,  49,  50],\n",
       "       [ 51,  52,  53,  54,  55],\n",
       "       [ 56,  57,  58,  59,  60],\n",
       "       [ 61,  62,  63,  64,  65],\n",
       "       [ 66,  67,  68,  69,  70],\n",
       "       [ 71,  72,  73,  74,  75],\n",
       "       [ 76,  77,  78,  79,  80],\n",
       "       [ 81,  82,  83,  84,  85],\n",
       "       [ 86,  87,  88,  89,  90],\n",
       "       [ 91,  92,  93,  94,  95],\n",
       "       [ 96,  97,  98,  99, 100]])"
      ]
     },
     "execution_count": 25,
     "metadata": {},
     "output_type": "execute_result"
    }
   ],
   "source": [
    "y.reshape((-1,5))"
   ]
  },
  {
   "cell_type": "code",
   "execution_count": 28,
   "metadata": {},
   "outputs": [],
   "source": [
    "y = y.reshape((-1,5))"
   ]
  },
  {
   "cell_type": "code",
   "execution_count": 29,
   "metadata": {},
   "outputs": [
    {
     "data": {
      "text/plain": [
       "array([[  1,   2,   3,   4,   5],\n",
       "       [  6,   7,   8,   9,  10],\n",
       "       [ 11,  12,  13,  14,  15],\n",
       "       [ 16,  17,  18,  19,  20],\n",
       "       [ 21,  22,  23,  24,  25],\n",
       "       [ 26,  27,  28,  29,  30],\n",
       "       [ 31,  32,  33,  34,  35],\n",
       "       [ 36,  37,  38,  39,  40],\n",
       "       [ 41,  42,  43,  44,  45],\n",
       "       [ 46,  47,  48,  49,  50],\n",
       "       [ 51,  52,  53,  54,  55],\n",
       "       [ 56,  57,  58,  59,  60],\n",
       "       [ 61,  62,  63,  64,  65],\n",
       "       [ 66,  67,  68,  69,  70],\n",
       "       [ 71,  72,  73,  74,  75],\n",
       "       [ 76,  77,  78,  79,  80],\n",
       "       [ 81,  82,  83,  84,  85],\n",
       "       [ 86,  87,  88,  89,  90],\n",
       "       [ 91,  92,  93,  94,  95],\n",
       "       [ 96,  97,  98,  99, 100]])"
      ]
     },
     "execution_count": 29,
     "metadata": {},
     "output_type": "execute_result"
    }
   ],
   "source": [
    "y"
   ]
  },
  {
   "cell_type": "code",
   "execution_count": 34,
   "metadata": {},
   "outputs": [],
   "source": [
    "lin = np.linspace(0,5,11)"
   ]
  },
  {
   "cell_type": "code",
   "execution_count": 35,
   "metadata": {},
   "outputs": [
    {
     "data": {
      "text/plain": [
       "array([0. , 0.5, 1. , 1.5, 2. , 2.5, 3. , 3.5, 4. , 4.5, 5. ])"
      ]
     },
     "execution_count": 35,
     "metadata": {},
     "output_type": "execute_result"
    }
   ],
   "source": [
    "lin"
   ]
  },
  {
   "cell_type": "code",
   "execution_count": 36,
   "metadata": {},
   "outputs": [],
   "source": [
    "bins = lin**2"
   ]
  },
  {
   "cell_type": "code",
   "execution_count": 37,
   "metadata": {},
   "outputs": [
    {
     "data": {
      "text/plain": [
       "array([ 0.  ,  0.25,  1.  ,  2.25,  4.  ,  6.25,  9.  , 12.25, 16.  ,\n",
       "       20.25, 25.  ])"
      ]
     },
     "execution_count": 37,
     "metadata": {},
     "output_type": "execute_result"
    }
   ],
   "source": [
    "bins"
   ]
  },
  {
   "cell_type": "code",
   "execution_count": 40,
   "metadata": {},
   "outputs": [
    {
     "data": {
      "image/png": "[encoded data removed]",
      "text/plain": [
       "<Figure size 432x288 with 1 Axes>"
      ]
     },
     "metadata": {
      "needs_background": "light"
     },
     "output_type": "display_data"
    }
   ],
   "source": [
    "plt.plot(lin,bins)\n",
    "plt.tight_layout()"
   ]
  },
  {
   "cell_type": "code",
   "execution_count": 41,
   "metadata": {},
   "outputs": [
    {
     "data": {
      "text/plain": [
       "array([[1., 0., 0., 0., 0., 0., 0., 0., 0., 0.],\n",
       "       [0., 1., 0., 0., 0., 0., 0., 0., 0., 0.],\n",
       "       [0., 0., 1., 0., 0., 0., 0., 0., 0., 0.],\n",
       "       [0., 0., 0., 1., 0., 0., 0., 0., 0., 0.],\n",
       "       [0., 0., 0., 0., 1., 0., 0., 0., 0., 0.],\n",
       "       [0., 0., 0., 0., 0., 1., 0., 0., 0., 0.],\n",
       "       [0., 0., 0., 0., 0., 0., 1., 0., 0., 0.],\n",
       "       [0., 0., 0., 0., 0., 0., 0., 1., 0., 0.],\n",
       "       [0., 0., 0., 0., 0., 0., 0., 0., 1., 0.],\n",
       "       [0., 0., 0., 0., 0., 0., 0., 0., 0., 1.]])"
      ]
     },
     "execution_count": 41,
     "metadata": {},
     "output_type": "execute_result"
    }
   ],
   "source": [
    "np.eye(10)"
   ]
  },
  {
   "cell_type": "code",
   "execution_count": 44,
   "metadata": {},
   "outputs": [
    {
     "data": {
      "text/plain": [
       "array([[8, 8, 8, 8, 8, 8, 8, 8, 8, 8],\n",
       "       [8, 8, 8, 8, 8, 8, 8, 8, 8, 8],\n",
       "       [8, 8, 8, 8, 8, 8, 8, 8, 8, 8],\n",
       "       [8, 8, 8, 8, 8, 8, 8, 8, 8, 8],\n",
       "       [8, 8, 8, 8, 8, 8, 8, 8, 8, 8],\n",
       "       [8, 8, 8, 8, 8, 8, 8, 8, 8, 8],\n",
       "       [8, 8, 8, 8, 8, 8, 8, 8, 8, 8],\n",
       "       [8, 8, 8, 8, 8, 8, 8, 8, 8, 8],\n",
       "       [8, 8, 8, 8, 8, 8, 8, 8, 8, 8],\n",
       "       [8, 8, 8, 8, 8, 8, 8, 8, 8, 8]])"
      ]
     },
     "execution_count": 44,
     "metadata": {},
     "output_type": "execute_result"
    }
   ],
   "source": [
    "np.full((10,10),8)"
   ]
  },
  {
   "cell_type": "code",
   "execution_count": 47,
   "metadata": {},
   "outputs": [
    {
     "data": {
      "text/plain": [
       "array([[  1,   6,  11,  16,  21,  26,  31,  36,  41,  46,  51,  56,  61,\n",
       "         66,  71,  76,  81,  86,  91,  96],\n",
       "       [  2,   7,  12,  17,  22,  27,  32,  37,  42,  47,  52,  57,  62,\n",
       "         67,  72,  77,  82,  87,  92,  97],\n",
       "       [  3,   8,  13,  18,  23,  28,  33,  38,  43,  48,  53,  58,  63,\n",
       "         68,  73,  78,  83,  88,  93,  98],\n",
       "       [  4,   9,  14,  19,  24,  29,  34,  39,  44,  49,  54,  59,  64,\n",
       "         69,  74,  79,  84,  89,  94,  99],\n",
       "       [  5,  10,  15,  20,  25,  30,  35,  40,  45,  50,  55,  60,  65,\n",
       "         70,  75,  80,  85,  90,  95, 100]])"
      ]
     },
     "execution_count": 47,
     "metadata": {},
     "output_type": "execute_result"
    }
   ],
   "source": [
    "y.T #transpose"
   ]
  },
  {
   "cell_type": "code",
   "execution_count": 48,
   "metadata": {},
   "outputs": [
    {
     "data": {
      "text/plain": [
       "3.141592653589793"
      ]
     },
     "execution_count": 48,
     "metadata": {},
     "output_type": "execute_result"
    }
   ],
   "source": [
    "np.pi"
   ]
  },
  {
   "cell_type": "code",
   "execution_count": 53,
   "metadata": {
    "collapsed": true
   },
   "outputs": [
    {
     "data": {
      "text/plain": [
       "array([ 4.72186182e+01,  1.18793266e+02,  5.05568487e+00,  1.37494100e+02,\n",
       "        4.37163906e+01,  1.44495144e+02, -4.17061077e+01, -6.93428878e+01,\n",
       "       -2.65647599e+01,  1.32668712e+01,  4.31485782e+01, -9.44374679e+01,\n",
       "       -1.42535392e+02, -1.88466181e+02, -2.37962473e+01,  3.23931222e+01,\n",
       "       -1.04124523e+02, -1.34813626e+01,  9.48558221e+01,  1.15550041e+02,\n",
       "       -1.74301041e+01,  1.13654022e+02, -6.08474862e+01, -9.83311061e+01,\n",
       "        2.33322855e+01, -9.16573865e+01,  1.91269357e+02, -3.26981546e+01,\n",
       "       -2.45528074e+02,  4.58616504e+01, -7.09704493e+01,  6.95937325e+01,\n",
       "        1.20357121e+02,  1.47208702e+02, -1.28768213e+02, -1.35691343e+00,\n",
       "       -9.89914710e+01, -1.07517773e+02,  9.44591699e+01, -2.05558784e+01,\n",
       "        7.88519485e+01,  1.01145009e+02, -9.47333749e+01,  1.09962762e+02,\n",
       "        6.23986772e+01,  8.80592001e+01, -1.84121976e+01,  2.73179501e+01,\n",
       "       -7.42709971e+01,  1.47482593e+02, -4.97003995e+01, -2.03921511e+02,\n",
       "        7.68620258e+01, -7.52412231e+01, -1.55643988e+02,  1.55066957e+02,\n",
       "       -1.36856390e+01, -8.21797124e+01,  1.16793790e+02,  1.06163987e+02,\n",
       "        8.94614783e+00, -9.15744754e+01, -7.49353514e+01, -4.86679872e+01,\n",
       "       -1.95949090e+02,  1.56065618e+02, -6.15655812e+01,  1.20206200e+02,\n",
       "        1.05475098e+01,  8.25167320e+00, -1.55798221e+02,  3.87832236e+01,\n",
       "       -9.69962355e+00, -3.08772287e+01,  7.55321416e+01, -3.36328123e+01,\n",
       "       -1.14179757e+02, -3.11946503e+01,  7.03180400e+01, -8.25210773e+01,\n",
       "       -1.52205091e+02,  7.13476701e+01, -1.26642277e+02, -3.46593764e+01,\n",
       "       -3.49375691e+00,  1.55386458e+02, -2.78861962e+01, -3.13469562e+01,\n",
       "        4.87214611e+01,  6.13577480e+01,  1.14182431e+02, -2.56095553e+01,\n",
       "       -9.27850957e+01,  1.46153981e+02, -1.26837211e+02, -1.46151592e+02,\n",
       "        1.05870862e+02,  2.11322366e+02, -2.08016974e+01,  1.40507100e+02,\n",
       "       -1.38702259e+02,  1.30241076e+01,  5.66394068e+01, -1.05093941e+01,\n",
       "       -7.04038768e+01,  1.91887583e+01,  1.39301190e+02, -9.20931511e+01,\n",
       "        6.33244081e+01,  1.09138267e+01,  1.33342824e+02,  3.86772770e+01,\n",
       "        4.95939022e+01,  1.41256801e+02,  9.78716493e+01,  3.02411672e+01,\n",
       "        5.31889797e+01,  1.02336253e+02,  7.28073882e+01, -9.28916401e+00,\n",
       "       -1.24838428e+02, -5.33964115e+01,  1.26074568e+02, -1.11541852e+02,\n",
       "       -4.30946686e+01,  6.62921059e+01,  4.73117870e+01, -1.19817470e+02,\n",
       "       -3.23776635e+01,  1.42458913e+02,  7.39604544e+01,  6.33653642e+01,\n",
       "       -1.54082595e+02, -8.66853032e+01,  5.13929852e+01,  1.06220231e+02,\n",
       "        3.98656561e+01, -1.50687057e+01,  9.86346031e+01, -3.12507527e+01,\n",
       "       -1.22620557e+02, -4.87030078e+00, -2.09248340e+02,  2.91332895e+00,\n",
       "        5.97383907e+01,  4.72929834e+01, -8.21027072e+01, -1.30537901e+02,\n",
       "       -9.89409589e+01, -7.84129409e+01, -1.92709606e+02, -1.34494354e+01,\n",
       "        1.80758454e+02, -6.77231866e+01,  3.78476718e+01, -5.37834684e+01,\n",
       "       -6.19066895e+01,  8.02488980e+01,  3.01370849e+01,  1.69818263e+02,\n",
       "        2.38324039e+01, -6.63556027e+01, -2.34562525e+02,  1.71538170e+02,\n",
       "       -2.57415611e+01, -2.60638454e+01,  1.49657014e+02,  5.21540502e+01,\n",
       "        1.23807518e+01,  4.83231136e+00, -9.96380616e+01, -2.32999636e+01,\n",
       "       -6.57325140e+01,  3.99258212e+01,  2.58810353e+01, -2.56764096e+01,\n",
       "        1.12009742e+02,  1.23686211e+02, -3.92740740e+00, -2.09718415e+02,\n",
       "       -5.11619615e+01,  1.44505196e+02,  5.42676192e+01,  6.13022175e+01,\n",
       "       -3.21698153e+01, -1.69541098e+02, -3.73402530e+01,  2.82560757e+01,\n",
       "       -3.10068491e+02, -5.20483551e+01, -8.78617256e+01, -5.11299950e+01,\n",
       "       -9.38061716e+01, -6.70495646e+01, -1.10814086e+02, -1.72036997e+01,\n",
       "       -5.11694888e+01,  1.41135228e+02,  2.24429243e+02, -2.07330202e+01,\n",
       "        1.62806385e+02, -2.23833141e+01, -2.43835290e+02,  5.36727909e+01,\n",
       "        5.66897624e+01, -4.61383068e+01, -5.95905156e+01,  1.59824786e+02,\n",
       "       -2.49218513e+02, -2.67834319e+01, -6.92981602e+01,  9.63054402e+01,\n",
       "        3.22957334e+02, -1.41793564e+02,  3.13524114e+01,  1.62998109e+02,\n",
       "        8.97160568e+01, -8.51727793e+01,  9.46302914e+01, -8.76085444e+01,\n",
       "       -7.84799849e+01,  2.19014563e+01,  8.84920026e+00, -8.56505679e+01,\n",
       "        8.70355909e+01,  1.24090825e+02,  1.15276033e+02,  6.07088085e+01,\n",
       "       -7.83875329e+01,  3.53968311e+01, -8.92138190e+01, -5.00534224e+01,\n",
       "       -6.44550611e+01, -1.73125715e+02,  1.26697188e+02,  1.26124265e+02,\n",
       "        1.84632859e+01, -1.45015067e+01,  3.37487204e+01, -2.16598899e+02,\n",
       "        8.41693714e+01,  1.37341060e+02, -6.66515884e+01,  1.79487253e+02,\n",
       "        5.74846216e+01,  1.37074870e+02,  6.37983664e+01, -6.75652873e+01,\n",
       "       -8.51528450e+01,  1.89445545e+02, -8.30741271e+01, -2.20684428e+01,\n",
       "       -1.60128491e+02, -6.33724827e+01,  1.61698173e+01, -1.41843948e+02,\n",
       "       -2.14044316e+02, -7.11123940e+01,  9.11874699e+01, -1.23181174e+01,\n",
       "       -1.79957054e+02, -5.61536434e+01, -2.21085797e+01, -2.00176375e+02,\n",
       "        2.27567303e+01,  7.40197444e+01,  5.43546963e+01, -1.96620716e+01,\n",
       "       -3.06780626e+01,  4.71980643e+01, -9.78846917e+01,  5.50173593e+01,\n",
       "       -8.22604794e+01,  1.26804625e+02, -1.06687121e+02,  6.85984608e+01,\n",
       "       -1.35533104e+02, -4.53798258e+01,  8.45115566e+01, -5.64144524e+01,\n",
       "        5.66373950e+01,  9.57405156e+00, -5.72334849e+01, -9.10219376e+01,\n",
       "       -1.76553512e+02,  6.39519448e+01,  7.67208338e+01,  4.51671641e+01,\n",
       "       -6.91609578e+01,  4.26830965e+01, -1.50369079e+02, -3.05576516e+00,\n",
       "        9.92561968e+01,  7.10020901e+01,  2.70412076e+01,  5.71425550e+00,\n",
       "       -5.54158634e+01, -4.52589887e+00,  3.69976729e+01, -1.17054799e+02,\n",
       "        7.77472035e+01,  1.00466215e+02, -1.96264826e+02,  8.69323159e+01,\n",
       "       -6.78832380e+01,  1.23370592e+02, -2.54865732e+02,  4.38615115e+01,\n",
       "        1.47601047e+02,  6.31731806e+01, -7.59199060e+01, -1.53548573e+02,\n",
       "       -1.33890410e+01,  6.90140726e+01,  5.29328965e+01,  5.03095176e+01,\n",
       "        3.99280687e+01, -1.64307032e+01,  9.78712978e+01,  8.88732875e+01,\n",
       "       -3.34170163e+01,  9.10708973e+01,  8.56224084e+00, -1.15934681e+02,\n",
       "       -1.53461204e+01, -1.55353398e+01, -8.55601255e+01, -8.34562706e+01,\n",
       "       -1.00498228e+02, -7.17802327e+01, -1.57417642e+01, -2.12168610e+02,\n",
       "       -1.03170534e+02, -1.10214929e+02,  2.92004192e+01,  7.17562304e+01,\n",
       "        8.22061383e+00,  5.32036427e+01,  5.17030935e+01,  9.98154664e+00,\n",
       "        4.78066977e+00,  1.80591905e+02, -4.31426214e+01, -1.95534828e+01,\n",
       "       -8.03836107e+01,  1.40961640e+01, -8.93423899e+01,  1.17177678e+02,\n",
       "       -5.89153317e+00, -5.00675544e+01, -1.64675652e+02,  9.14894926e+01,\n",
       "        1.25994404e+02,  2.98199157e+01,  1.77159833e+02,  5.69516148e+01,\n",
       "        2.54095812e+01,  1.17279752e+01, -7.80117305e+01, -1.26801762e+02,\n",
       "       -1.73338131e+02,  2.62192208e+02,  1.44687252e+02, -1.03307317e+02,\n",
       "        7.89360670e+01, -6.79858809e+01,  4.60724302e+01,  4.93071552e+01,\n",
       "        2.51993890e+01,  1.73796050e+02, -1.58132469e+00,  1.03509103e+02,\n",
       "        1.30735629e+02, -1.20569420e+01, -3.41831903e+01,  8.20936291e+01,\n",
       "        5.60459811e+01, -4.03270052e+01,  6.61747152e+01,  4.07913695e+01,\n",
       "       -1.42235227e+02,  2.25346011e+01, -5.11592323e+01, -8.59168652e+01,\n",
       "       -9.72285526e+01, -1.38579076e+02, -1.33181488e+01,  7.50899429e+01,\n",
       "        7.65538715e+01, -5.68376509e+01,  8.07248346e+01,  1.03192226e+01,\n",
       "       -2.16054121e+01, -6.34560463e+01, -7.66994549e+01,  3.00808094e+01,\n",
       "        1.17645778e+01, -5.71453666e+01,  1.04082994e+02, -1.69000033e+02,\n",
       "       -4.97426211e+01,  6.17117383e+01, -1.08265797e+02,  5.61530409e+01,\n",
       "        3.38730871e+01, -6.06400726e+01, -4.11893120e+01, -1.50951624e+02,\n",
       "        9.79797255e+01, -1.24987693e+00, -4.85431796e+01,  6.54927460e+01,\n",
       "        7.04006176e+00,  3.62358657e+01, -1.36448433e+02,  4.11516552e+01,\n",
       "        4.50557545e+01, -1.29300671e+02, -5.05400512e+01, -7.71379362e+01,\n",
       "       -1.21282596e+02, -1.83175519e+02, -1.27764300e+02, -1.90342155e+01,\n",
       "        8.37162716e+01,  6.18975380e+01, -1.01118324e+02, -1.21517729e+02,\n",
       "        1.00507297e+02,  1.08986493e+01,  1.31387621e+02, -1.14384053e+02,\n",
       "       -4.03951509e+01,  3.77434698e+01, -5.17257657e+01,  6.64364715e+01,\n",
       "       -1.92574054e+00, -3.70293250e+01,  4.01559492e+01, -6.26544259e+01,\n",
       "        3.79885074e+01,  1.22726190e+02,  2.49288669e+01, -3.62870152e+01,\n",
       "        2.11525532e+02,  4.53812049e+01,  1.60926506e+01,  1.17903602e+02,\n",
       "       -2.13456211e+02,  3.34870452e+01,  6.83630004e+01, -3.80702159e+01,\n",
       "       -4.57725654e+01, -9.76798880e+00, -5.39613392e+01,  8.09850953e+01,\n",
       "       -2.92191247e+01, -8.54169736e+01,  8.05139015e+01,  6.97154557e+01,\n",
       "        1.35084796e+01, -1.23889312e+02, -6.09718917e+01, -5.61169475e+01,\n",
       "       -1.12110959e+02, -8.03950799e+01, -5.09906333e+01, -9.37542578e+00,\n",
       "       -1.19323561e+02, -4.74239826e+01,  1.58521395e+02, -1.50294475e+01,\n",
       "       -3.70441323e-01, -8.29813640e+01, -1.23487455e+02, -9.13577708e+00,\n",
       "       -1.76276275e+01,  6.96082481e+01,  5.99665796e+01,  9.82162733e+01,\n",
       "        4.33926261e+00, -2.66928853e+02, -9.08800895e+01,  6.74619822e+01,\n",
       "        5.67705302e+01, -5.71748652e+01,  1.40449182e+01, -2.57834294e+01,\n",
       "       -7.38380329e+01,  5.02008982e+01, -6.76778516e+01,  6.46073488e+01,\n",
       "       -1.29482902e+01, -8.52432435e+01,  4.01380320e+01, -7.42120224e+01,\n",
       "       -1.42532669e+02, -3.45616600e+02, -4.38198127e+01,  2.17044745e+01,\n",
       "       -7.57489124e+01,  8.11022089e+01,  1.35519248e+01,  4.83026055e+01,\n",
       "        1.05869105e+02,  9.21044598e+01,  1.18692694e+02, -5.60105787e+01,\n",
       "        1.29421612e+02, -1.45186569e+01, -1.32916705e+01, -4.88137865e+01,\n",
       "       -2.71705511e+00, -5.73865473e+01,  7.29129829e+01, -3.09797570e+01,\n",
       "       -1.92245374e+01, -4.83935421e+00,  1.32500381e+01, -9.83884683e+01,\n",
       "        5.65271622e+01,  2.87596907e+01,  7.63275980e+01, -1.00919725e+02,\n",
       "       -1.56986868e+01,  3.03142241e+01,  2.86149061e+01,  7.97479161e+00,\n",
       "        1.24355424e+02,  1.20487004e+02, -2.22537920e+02, -1.44404677e+02,\n",
       "       -1.91414227e+02,  9.07209439e+01, -4.09603735e+01, -9.20649309e+01,\n",
       "        1.57632030e+01, -3.95748012e+00, -1.20595485e+01,  2.40475027e+01,\n",
       "       -9.17799439e+01,  5.27149374e+01,  1.84204938e+02,  9.76959914e+01,\n",
       "       -6.81176314e+01,  1.56914789e+01,  1.45608098e+02, -1.50502558e+02,\n",
       "       -9.27294064e+01,  1.77182173e+01, -9.21951396e+01,  5.26539636e+01,\n",
       "       -3.80370350e+01,  1.53736105e+02,  9.29860088e+01,  4.84380851e+00,\n",
       "       -3.48404866e+01, -4.87587003e+01, -1.05836813e+02,  1.14128576e+01,\n",
       "       -1.84407682e+01,  6.62803835e+01,  1.04166071e+01, -1.04014006e+01,\n",
       "       -1.29694119e+02, -2.55378744e+01,  9.44238342e+01,  2.72050889e+01,\n",
       "       -1.31278668e+01, -2.71090982e+00,  9.65172335e+01,  3.69107206e+01,\n",
       "        1.71802751e+01,  4.11576514e+01, -1.03233102e+02, -1.04813822e+02,\n",
       "       -2.61459969e+01,  7.80115986e+01, -1.04924948e+01, -1.02374723e+01,\n",
       "       -2.74232637e+00,  4.05862212e+01,  1.26318630e+02, -1.63496457e+02,\n",
       "       -2.21964426e+01, -6.42067365e+01,  6.89122326e+01,  2.20938477e+01,\n",
       "       -4.48431191e+01, -9.67029920e+01,  2.60974566e+01,  1.26753891e+02,\n",
       "        6.82595003e+01, -2.04776096e+02, -1.87120243e+02,  1.60232005e+02,\n",
       "       -9.61385910e+00, -5.49791927e+01, -8.97127494e+01,  7.03035873e+01,\n",
       "        2.09301757e+01,  7.36733730e+01, -7.37051167e+01, -4.99952118e+01,\n",
       "        6.19809452e+01, -6.39926957e+01,  6.84330349e+01,  6.36035760e+01,\n",
       "        4.37932634e+00, -4.45111517e+00,  5.56909224e+01,  5.25448992e+00,\n",
       "        9.07987821e+01,  1.08009462e+02,  4.42566286e+01,  4.29816370e+01,\n",
       "       -4.72226223e+01,  2.19970455e+01, -4.88727865e+01,  1.05642579e+01,\n",
       "        1.52230524e+02, -1.80715397e+02,  1.18615734e+02,  5.58910507e+00,\n",
       "        2.60020058e+01,  6.54277197e+01,  1.35348145e+02,  2.61043284e+01,\n",
       "       -1.30710628e+02, -1.06148566e+02, -1.28460397e+02,  1.16808700e+00,\n",
       "       -2.09172400e+02,  4.01728338e+01,  7.63096687e+01,  1.10258227e+01,\n",
       "        3.97585856e+01,  1.13328552e+02,  1.49952085e+02,  1.46407741e+02,\n",
       "        1.12313976e+02, -5.43176726e+00, -6.34097077e+01,  5.16151839e+01,\n",
       "       -1.20897827e+02,  9.65367118e+01,  1.41610811e+02, -8.03129137e+00,\n",
       "       -6.41057790e+01,  6.04000254e+01,  5.44897801e+01,  5.47382339e+01,\n",
       "       -1.53060561e+02,  9.38080819e+01, -4.84580184e+01, -2.87123459e+00,\n",
       "        1.78086902e+02,  1.72878602e+01, -2.86785245e+01,  1.19485619e+02,\n",
       "       -2.14180010e+01,  1.00611288e+02,  7.50383475e+01, -7.04886052e+01,\n",
       "       -1.03010867e+02, -1.47074332e+01,  1.59752287e+02, -5.23496902e+01,\n",
       "       -8.02484869e+00,  1.16703599e+02, -2.32419814e+01, -1.24942899e+02,\n",
       "        1.98049880e+02,  5.18456661e+00,  5.36435520e+01,  1.77294540e+01,\n",
       "        1.86527883e+02,  7.59530215e+01, -2.02849698e+01, -1.14715995e+02,\n",
       "       -8.78595630e-01, -2.13381886e+01, -3.65022358e+01, -7.10478923e+01,\n",
       "        9.55124057e+00,  2.57357433e+01, -1.74393692e+01, -2.42869372e+01,\n",
       "       -1.62438016e+01,  1.12199304e+02, -5.93892673e+01,  2.63428746e+01,\n",
       "        2.02796140e+01,  9.70747674e+01,  5.75241878e+01, -7.37914152e+01,\n",
       "       -7.02010621e+01,  1.21178369e+01,  1.53775638e+01, -6.67574181e+01,\n",
       "        1.32776129e+01, -8.81720803e+01,  9.35720180e+01, -5.90170789e+01,\n",
       "       -5.42513497e+01,  1.09643733e+02, -6.89458178e+01, -4.95309709e+01,\n",
       "       -9.86166218e+01,  2.61102648e+02,  3.09296512e+01,  7.90562482e+01,\n",
       "       -1.10920820e+02,  2.56580607e+02, -8.82306240e+01,  1.43191304e+02,\n",
       "       -1.88147926e+02, -4.76513366e+01, -1.11295156e+01, -8.05347792e+01,\n",
       "        1.27933768e+02,  4.31590808e+01,  9.63702397e+01,  1.24136261e+02,\n",
       "        2.23825534e+01,  6.97961846e+01,  5.33053295e+01,  7.99541930e+00,\n",
       "        5.87370698e+01, -2.00910971e+01,  6.56319201e+01,  9.02114504e+01,\n",
       "        4.67112403e+01, -2.19062449e+00, -2.65565774e+02, -1.06574664e+02,\n",
       "        2.10109426e+02, -1.12098542e+00,  1.98948319e+01, -4.91455513e+00,\n",
       "       -2.42472254e+01, -7.78597803e+01, -9.54232252e+01,  6.71276706e+01,\n",
       "        7.91651457e+01, -1.05708816e+01,  8.59061712e+01, -2.83722149e+01,\n",
       "       -6.19953916e+01,  1.10497179e+02,  1.37533718e+01, -1.57505179e+01,\n",
       "        2.03741000e+01,  7.88986014e+01,  6.52630748e+00, -9.43009998e+01,\n",
       "        7.81109077e+01, -2.79768478e+01,  1.98572480e+02,  1.97950123e+01,\n",
       "       -1.06630441e+02, -3.06180204e+01,  4.10041967e+00,  6.85937680e+01,\n",
       "        5.03521269e+01, -5.56408342e+01, -2.99662471e+01,  4.61164984e+01,\n",
       "       -1.16424351e+02, -8.90053526e+01, -1.66577394e+02, -9.40716973e+01,\n",
       "       -1.52204094e+02,  2.28045260e+02,  1.44816903e+02, -2.26888486e+02,\n",
       "       -1.01145663e+01,  8.79626754e+01, -8.33905454e+00, -1.17424983e+01,\n",
       "       -2.79184094e+01,  6.53767146e+01, -3.88504912e+00,  1.23723509e+02,\n",
       "       -2.42008211e+01,  4.85657888e+01, -7.64584822e+01,  9.29666886e+01,\n",
       "        4.22068828e+01, -1.43451665e+01, -2.66305234e+01,  7.31347609e+01,\n",
       "        4.19143221e+01, -2.52414232e+02, -4.03866950e+01,  4.96992460e+01,\n",
       "       -3.60861335e+01,  7.11633760e+01, -1.59091784e+01,  2.51642581e+01,\n",
       "       -2.71823996e+01, -5.81174879e+00, -1.03968650e+01,  1.23054446e+02,\n",
       "        8.17907310e+01, -1.42242328e+02,  1.70685675e+01, -4.42998017e+01,\n",
       "        6.50076873e+01,  2.27505893e+01, -1.02980616e+02, -1.27471579e+02,\n",
       "       -1.60259977e+02, -2.15760231e+01, -1.56603160e+02, -1.77892458e+02,\n",
       "        1.09642343e+02, -6.24038731e+01, -1.65429147e+02,  1.49352500e+02,\n",
       "        1.32503630e+02,  7.00847197e+01,  2.24780089e+00, -2.05477233e+02,\n",
       "        8.52257709e+01,  7.75963687e+01, -7.27818446e+01,  3.40087037e-01,\n",
       "        4.15915219e+01, -1.45440084e+02,  6.53944947e+01, -5.97157313e+01,\n",
       "       -1.45469022e+01, -3.76519348e+01,  1.04877758e+02,  1.38119201e+01,\n",
       "        2.44169651e+01, -9.38917804e+01,  1.23765865e+02,  6.62134844e+00,\n",
       "        5.37835276e+01, -5.41658740e+01, -5.37452003e+01,  7.52917719e+01,\n",
       "       -1.15913068e+02, -1.06257529e+02,  1.63891442e+02, -2.31006735e+02,\n",
       "        6.11436431e+01, -8.66666138e+01,  7.90405344e+01, -1.06499394e+02,\n",
       "        2.14179441e+02,  1.30931972e+01, -2.62771357e+01,  1.64124577e+02,\n",
       "        5.20956535e+01,  1.30813569e+02,  2.15057747e+01, -4.94690744e+01,\n",
       "       -2.90495721e+02,  7.23594683e+01, -1.15496684e+02, -8.63216829e+01,\n",
       "        1.76247366e+02, -1.22815227e+02, -5.49175880e+00,  1.87235245e+02,\n",
       "        5.04830589e+01, -3.16285331e+01,  9.90509766e-02, -2.24710478e+02,\n",
       "       -2.54438767e+00, -9.22182193e+01, -3.67739861e+01, -5.23363013e+01,\n",
       "       -1.61213418e+01,  4.22301025e+01,  8.63426953e+01,  6.89063556e+00,\n",
       "       -2.54380226e+01,  1.27186085e+02,  1.00235263e+02,  7.67388954e+01,\n",
       "       -1.02743725e+02, -2.13449396e+02,  8.96031699e+01, -1.61016327e+01,\n",
       "       -1.56526351e+02, -1.30352042e+02, -1.72523281e+02, -7.74417160e+01,\n",
       "       -6.12572246e+01, -8.11258349e-01,  2.48614006e+02, -1.90138026e+02,\n",
       "       -6.16975444e+01, -9.15630832e+01, -5.83485122e+00, -5.17150507e-01,\n",
       "        1.45266088e+01, -4.74872161e+01, -1.04861463e+02, -7.88049355e+01,\n",
       "        8.80061375e+01, -6.45938928e+01, -7.12046404e+01, -3.91211580e+01,\n",
       "        1.27045871e+01, -2.34919719e+01,  3.58866387e+01,  1.04163195e+02,\n",
       "       -5.03228974e+01,  1.34744697e+01, -7.62616329e+01,  6.83470412e+00,\n",
       "        1.43292894e+02,  9.90979118e+01,  2.23390629e+01, -8.38844525e+01,\n",
       "       -9.88246907e+01,  1.66101317e+02,  3.50953234e+01,  8.43428347e+01,\n",
       "        6.04432619e+01,  1.86651029e+02, -1.60014538e+02, -1.53512626e+02,\n",
       "        1.31956749e+02, -5.81735927e+01,  1.33396322e+02, -2.16080038e+02,\n",
       "        1.01297460e+02,  8.94665536e+01, -1.37294828e+02, -1.55637538e+01,\n",
       "       -3.74160352e+01,  1.42891427e+02,  1.71642000e+02, -5.04317491e+01,\n",
       "       -2.12066178e+01, -9.86481481e+01,  5.71916537e+01, -1.27866301e+02,\n",
       "        5.27882733e+01,  4.41908553e+00, -5.41872091e+01,  1.28592888e+01,\n",
       "       -9.94865354e+01,  5.35446868e+01,  5.33985896e+00, -7.04965463e+01,\n",
       "        1.63011815e+02,  1.00716686e+01, -6.96874947e+01, -1.28303907e+02,\n",
       "       -4.11323483e+01,  9.95512314e+01,  2.06281581e+02,  2.49277834e+01,\n",
       "       -5.67916675e+01,  5.17653074e+00, -5.54515287e+01, -1.30305733e+01,\n",
       "        8.13100894e+01,  7.77130012e+01,  6.87692820e+01,  3.13023367e+01,\n",
       "        8.11696503e+01,  2.66158319e+02, -2.88022269e+01,  8.34497247e+01,\n",
       "       -2.34296902e+02,  2.29702705e+01, -3.94559809e+01,  1.98307161e+00,\n",
       "       -5.25286186e+01,  1.30252469e+02,  4.28169299e+00, -6.60701188e+00,\n",
       "        4.38076780e+01, -4.23042639e+01, -4.19794795e+01, -6.43161293e+01,\n",
       "        1.85964526e+02, -1.49295986e+02, -3.96758138e+01, -2.88185366e+01,\n",
       "       -2.45813711e+02, -1.32944144e+02,  3.35879356e-01, -2.91409697e+02,\n",
       "        2.91411450e+01,  9.24400741e+01, -1.71133638e+02, -4.01363565e+01,\n",
       "        5.23085497e+01,  5.10335669e+01, -1.85062016e+02,  9.91440130e+01])"
      ]
     },
     "execution_count": 53,
     "metadata": {},
     "output_type": "execute_result"
    }
   ],
   "source": [
    "norm = np.random.normal(1,100,1000) # mean,std dev,values\n",
    "norm"
   ]
  },
  {
   "cell_type": "code",
   "execution_count": 102,
   "metadata": {},
   "outputs": [
    {
     "data": {
      "image/png": "[encoded data removed]",
      "text/plain": [
       "<Figure size 720x360 with 1 Axes>"
      ]
     },
     "metadata": {
      "needs_background": "light"
     },
     "output_type": "display_data"
    }
   ],
   "source": [
    "plt.figure(figsize=(10,5))\n",
    "plt.hist(norm,bins=30,edgecolor='black',color='r',label='normal')\n",
    "mean = norm.mean()\n",
    "plt.plot([mean,mean],[0,100],'g',lw=2)\n",
    "plt.title('plot of normal graph')\n",
    "plt.legend()\n",
    "plt.xlabel('X-axis')\n",
    "plt.ylabel('Y-axis')\n",
    "plt.show()"
   ]
  },
  {
   "cell_type": "code",
   "execution_count": 59,
   "metadata": {},
   "outputs": [
    {
     "data": {
      "text/plain": [
       "array([  1,   2,   3,   4,   5,   6,   7,   8,   9,  10,  11,  12,  13,\n",
       "        14,  15,  16,  17,  18,  19,  20,  21,  22,  23,  24,  25,  26,\n",
       "        27,  28,  29,  30,  31,  32,  33,  34,  35,  36,  37,  38,  39,\n",
       "        40,  41,  42,  43,  44,  45,  46,  47,  48,  49,  50,  51,  52,\n",
       "        53,  54,  55,  56,  57,  58,  59,  60,  61,  62,  63,  64,  65,\n",
       "        66,  67,  68,  69,  70,  71,  72,  73,  74,  75,  76,  77,  78,\n",
       "        79,  80,  81,  82,  83,  84,  85,  86,  87,  88,  89,  90,  91,\n",
       "        92,  93,  94,  95,  96,  97,  98,  99, 100])"
      ]
     },
     "execution_count": 59,
     "metadata": {},
     "output_type": "execute_result"
    }
   ],
   "source": [
    "y.flatten()"
   ]
  },
  {
   "cell_type": "code",
   "execution_count": 64,
   "metadata": {},
   "outputs": [],
   "source": [
    "val = np.random.randn(10,4)"
   ]
  },
  {
   "cell_type": "code",
   "execution_count": 66,
   "metadata": {},
   "outputs": [
    {
     "data": {
      "text/plain": [
       "array([[ 0.13681451,  0.33285651,  0.11993841,  1.9218739 ],\n",
       "       [-0.79488074, -0.85178452,  0.10395573,  1.83605121],\n",
       "       [-0.20354349,  1.31342312, -0.72647605, -1.46700084],\n",
       "       [-1.07714063,  0.23163378,  0.77892514,  1.25583724],\n",
       "       [-0.76149405,  1.03690863, -1.75034916,  0.52324465],\n",
       "       [-1.15412033,  0.48887286, -2.46156823,  1.32835429],\n",
       "       [ 1.20869135,  1.66123674,  0.23552852,  1.12474413],\n",
       "       [-0.01248129, -0.64536141, -0.13561333,  1.26867456],\n",
       "       [ 0.57604824,  0.05587518, -0.85291121,  0.1490976 ],\n",
       "       [ 0.35099479,  2.61193598, -0.85006137, -0.00732527]])"
      ]
     },
     "execution_count": 66,
     "metadata": {},
     "output_type": "execute_result"
    }
   ],
   "source": [
    "val"
   ]
  },
  {
   "cell_type": "code",
   "execution_count": 65,
   "metadata": {
    "scrolled": true
   },
   "outputs": [
    {
     "data": {
      "image/png": "[encoded data removed]",
      "text/plain": [
       "<Figure size 432x288 with 1 Axes>"
      ]
     },
     "metadata": {
      "needs_background": "light"
     },
     "output_type": "display_data"
    }
   ],
   "source": [
    "plt.plot(val)\n",
    "plt.show()"
   ]
  },
  {
   "cell_type": "code",
   "execution_count": 68,
   "metadata": {},
   "outputs": [],
   "source": [
    "random = np.random.random(100)"
   ]
  },
  {
   "cell_type": "code",
   "execution_count": 87,
   "metadata": {},
   "outputs": [
    {
     "data": {
      "image/png": "[encoded data removed]",
      "text/plain": [
       "<Figure size 720x360 with 1 Axes>"
      ]
     },
     "metadata": {
      "needs_background": "light"
     },
     "output_type": "display_data"
    }
   ],
   "source": [
    "plt.figure(figsize=(10,5))\n",
    "plt.plot(random,'r',marker='o',markerfacecolor='black',markersize=8,label='random')\n",
    "plt.legend(loc=4)\n",
    "plt.show()"
   ]
  },
  {
   "cell_type": "code",
   "execution_count": 96,
   "metadata": {},
   "outputs": [
    {
     "data": {
      "image/png": "[encoded data removed]",
      "text/plain": [
       "<Figure size 720x360 with 1 Axes>"
      ]
     },
     "metadata": {
      "needs_background": "light"
     },
     "output_type": "display_data"
    }
   ],
   "source": [
    "x = np.linspace(0,20,100)\n",
    "plt.figure(figsize=(10,5))\n",
    "plt.plot(x,x,'r',lw=2,label='x')\n",
    "plt.plot(x,x**2,'y',lw=2,label='$X^2$')\n",
    "plt.plot(x,x**3,'m',lw=4,label='$X^3$')\n",
    "plt.plot(x,x**4,'b',lw=4,label='$X^4$')\n",
    "plt.legend()\n",
    "plt.show()"
   ]
  },
  {
   "cell_type": "code",
   "execution_count": 2,
   "metadata": {},
   "outputs": [],
   "source": [
    "angles = [var*np.pi/180 for var in range(361)]"
   ]
  },
  {
   "cell_type": "code",
   "execution_count": 4,
   "metadata": {},
   "outputs": [
    {
     "data": {
      "text/plain": [
       "[0.0,\n",
       " 0.017453292519943295,\n",
       " 0.03490658503988659,\n",
       " 0.05235987755982988,\n",
       " 0.06981317007977318]"
      ]
     },
     "execution_count": 4,
     "metadata": {},
     "output_type": "execute_result"
    }
   ],
   "source": [
    "angles[:5]"
   ]
  },
  {
   "cell_type": "code",
   "execution_count": 5,
   "metadata": {},
   "outputs": [],
   "source": [
    "sin = np.sin(angles)\n",
    "cos = np.cos(angles)"
   ]
  },
  {
   "cell_type": "code",
   "execution_count": 20,
   "metadata": {},
   "outputs": [
    {
     "data": {
      "image/png": "[encoded data removed]",
      "text/plain": [
       "<Figure size 432x288 with 1 Axes>"
      ]
     },
     "metadata": {
      "needs_background": "light"
     },
     "output_type": "display_data"
    }
   ],
   "source": [
    "plt.plot(angles,sin,'r:',lw=2,label='$sin \\Theta$')\n",
    "plt.plot(angles,cos,'b:',lw=2,label='$cos \\Theta$')\n",
    "plt.legend()\n",
    "plt.show()"
   ]
  },
  {
   "cell_type": "code",
   "execution_count": 12,
   "metadata": {},
   "outputs": [],
   "source": [
    "angles = [(var*np.pi)/180 for var in range(361)]"
   ]
  },
  {
   "cell_type": "code",
   "execution_count": 14,
   "metadata": {},
   "outputs": [],
   "source": [
    "sin = np.sin(angles)\n",
    "cos = np.cos(angles)"
   ]
  },
  {
   "cell_type": "code",
   "execution_count": 15,
   "metadata": {},
   "outputs": [
    {
     "data": {
      "text/plain": [
       "[]"
      ]
     },
     "execution_count": 15,
     "metadata": {},
     "output_type": "execute_result"
    },
    {
     "data": {
      "image/png": "[encoded data removed]",
      "text/plain": [
       "<Figure size 432x288 with 1 Axes>"
      ]
     },
     "metadata": {
      "needs_background": "light"
     },
     "output_type": "display_data"
    }
   ],
   "source": [
    "plt.plot(sin,cos)\n",
    "plt.plot()"
   ]
  },
  {
   "cell_type": "code",
   "execution_count": 17,
   "metadata": {},
   "outputs": [
    {
     "data": {
      "text/plain": [
       "[<matplotlib.lines.Line2D at 0x2b84ad8c4e0>]"
      ]
     },
     "execution_count": 17,
     "metadata": {},
     "output_type": "execute_result"
    },
    {
     "data": {
      "image/png": "[encoded data removed]",
      "text/plain": [
       "<Figure size 432x288 with 1 Axes>"
      ]
     },
     "metadata": {
      "needs_background": "light"
     },
     "output_type": "display_data"
    }
   ],
   "source": [
    "plt.plot(sin/cos)"
   ]
  },
  {
   "cell_type": "code",
   "execution_count": 21,
   "metadata": {},
   "outputs": [],
   "source": [
    "ang = [(var*np.pi/180) for var in range(361)]"
   ]
  },
  {
   "cell_type": "code",
   "execution_count": 22,
   "metadata": {},
   "outputs": [
    {
     "data": {
      "text/plain": [
       "4.71238898038469"
      ]
     },
     "execution_count": 22,
     "metadata": {},
     "output_type": "execute_result"
    }
   ],
   "source": [
    "ang.pop(90)\n",
    "ang.pop(269)"
   ]
  },
  {
   "cell_type": "code",
   "execution_count": 25,
   "metadata": {},
   "outputs": [],
   "source": [
    "a = np.sin(ang)\n",
    "b = np.cos(ang)"
   ]
  },
  {
   "cell_type": "code",
   "execution_count": 26,
   "metadata": {},
   "outputs": [
    {
     "data": {
      "image/png": "[encoded data removed]",
      "text/plain": [
       "<Figure size 432x288 with 1 Axes>"
      ]
     },
     "metadata": {
      "needs_background": "light"
     },
     "output_type": "display_data"
    }
   ],
   "source": [
    "plt.plot(a/b)\n",
    "plt.show()"
   ]
  },
  {
   "cell_type": "code",
   "execution_count": 32,
   "metadata": {},
   "outputs": [
    {
     "data": {
      "text/plain": [
       "array([[8., 8., 8., 8., 8., 8., 8., 8., 8., 8.],\n",
       "       [8., 8., 8., 8., 8., 8., 8., 8., 8., 8.],\n",
       "       [8., 8., 8., 8., 8., 8., 8., 8., 8., 8.],\n",
       "       [8., 8., 8., 8., 8., 8., 8., 8., 8., 8.],\n",
       "       [8., 8., 8., 8., 8., 8., 8., 8., 8., 8.],\n",
       "       [8., 8., 8., 8., 8., 8., 8., 8., 8., 8.],\n",
       "       [8., 8., 8., 8., 8., 8., 8., 8., 8., 8.],\n",
       "       [8., 8., 8., 8., 8., 8., 8., 8., 8., 8.],\n",
       "       [8., 8., 8., 8., 8., 8., 8., 8., 8., 8.],\n",
       "       [8., 8., 8., 8., 8., 8., 8., 8., 8., 8.]])"
      ]
     },
     "execution_count": 32,
     "metadata": {},
     "output_type": "execute_result"
    }
   ],
   "source": [
    "np.ones((10,10))*8"
   ]
  },
  {
   "cell_type": "code",
   "execution_count": null,
   "metadata": {},
   "outputs": [],
   "source": []
  }
 ],
 "metadata": {
  "kernelspec": {
   "display_name": "Python 3",
   "language": "python",
   "name": "python3"
  },
  "language_info": {
   "codemirror_mode": {
    "name": "ipython",
    "version": 3
   },
   "file_extension": ".py",
   "mimetype": "text/x-python",
   "name": "python",
   "nbconvert_exporter": "python",
   "pygments_lexer": "ipython3",
   "version": "3.7.3"
  }
 },
 "nbformat": 4,
 "nbformat_minor": 2
}
