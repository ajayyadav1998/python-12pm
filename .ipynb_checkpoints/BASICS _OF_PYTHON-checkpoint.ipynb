{
 "cells": [
  {
   "cell_type": "markdown",
   "metadata": {},
   "source": [
    "\n",
    "# DATATYPES IN PYTHON\n",
    "datatypes are just set of rules to define our data"
   ]
  },
  {
   "cell_type": "markdown",
   "metadata": {},
   "source": [
    "<ol style='color:blue'>\n",
    "    <li>Numbers --> int,float complex </li>\n",
    "    <li>Strings --> 'python is awsome'</li>\n",
    "    <li>List --> ['item1','item2','item3]</li>\n",
    "    <li>Tupple --> ('same','as','list','but','immutable')</li>\n",
    "    <li>Dictionary --> {1:'python','a':'awsome'}</li> #data is in key,value pair\n",
    "    <li>Set --> {1,2,3,4,5}</li>  #unique numbers \n",
    "</ol>"
   ]
  },
  {
   "cell_type": "markdown",
   "metadata": {},
   "source": [
    "# Numbers "
   ]
  },
  {
   "cell_type": "code",
   "execution_count": 6,
   "metadata": {},
   "outputs": [
    {
     "name": "stdout",
     "output_type": "stream",
     "text": [
      "5\n",
      "6\n"
     ]
    }
   ],
   "source": [
    "a = 5\n",
    "b = 6\n",
    "print(a,b,sep='\\n')"
   ]
  },
  {
   "cell_type": "code",
   "execution_count": 1,
   "metadata": {},
   "outputs": [
    {
     "name": "stdout",
     "output_type": "stream",
     "text": [
      "5\n",
      "6\n",
      "<class 'int'>\t<class 'int'>\n"
     ]
    }
   ],
   "source": [
    "a = 5\n",
    "b = 6\n",
    "print(a,b,sep='\\n')\n",
    "print(type(a),type(b),sep='\\t')"
   ]
  },
  {
   "cell_type": "code",
   "execution_count": 3,
   "metadata": {},
   "outputs": [
    {
     "name": "stdout",
     "output_type": "stream",
     "text": [
      "5\n",
      "6\n",
      "type of x  <class 'int'>\n",
      "type of y  <class 'int'>\n"
     ]
    }
   ],
   "source": [
    "x = 5    ;    y = 6\n",
    "print(x) ; print(y)\n",
    "print('type of x ',type(x)) ; print('type of y ',type(y))"
   ]
  },
  {
   "cell_type": "code",
   "execution_count": 5,
   "metadata": {},
   "outputs": [
    {
     "name": "stdout",
     "output_type": "stream",
     "text": [
      "5\n",
      "5.5\n",
      "(5.6+7j)\n",
      "<class 'int'>\n",
      "<class 'float'>\n",
      "<class 'complex'>\n"
     ]
    }
   ],
   "source": [
    "a = 5\n",
    "b = 5.5\n",
    "c = 5.6+7j\n",
    "print(a,b,c,sep='\\n')\n",
    "print(type(a),type(b),type(c),sep='\\n')"
   ]
  },
  {
   "cell_type": "code",
   "execution_count": 8,
   "metadata": {},
   "outputs": [
    {
     "name": "stdout",
     "output_type": "stream",
     "text": [
      "['__abs__', '__add__', '__and__', '__bool__', '__ceil__', '__class__', '__delattr__', '__dir__', '__divmod__', '__doc__', '__eq__', '__float__', '__floor__', '__floordiv__', '__format__', '__ge__', '__getattribute__', '__getnewargs__', '__gt__', '__hash__', '__index__', '__init__', '__init_subclass__', '__int__', '__invert__', '__le__', '__lshift__', '__lt__', '__mod__', '__mul__', '__ne__', '__neg__', '__new__', '__or__', '__pos__', '__pow__', '__radd__', '__rand__', '__rdivmod__', '__reduce__', '__reduce_ex__', '__repr__', '__rfloordiv__', '__rlshift__', '__rmod__', '__rmul__', '__ror__', '__round__', '__rpow__', '__rrshift__', '__rshift__', '__rsub__', '__rtruediv__', '__rxor__', '__setattr__', '__sizeof__', '__str__', '__sub__', '__subclasshook__', '__truediv__', '__trunc__', '__xor__', 'bit_length', 'conjugate', 'denominator', 'from_bytes', 'imag', 'numerator', 'real', 'to_bytes']\n"
     ]
    }
   ],
   "source": [
    "print(dir(a))"
   ]
  },
  {
   "cell_type": "code",
   "execution_count": 9,
   "metadata": {},
   "outputs": [
    {
     "data": {
      "text/plain": [
       "3"
      ]
     },
     "execution_count": 9,
     "metadata": {},
     "output_type": "execute_result"
    }
   ],
   "source": [
    "a.bit_length()"
   ]
  },
  {
   "cell_type": "code",
   "execution_count": 10,
   "metadata": {},
   "outputs": [
    {
     "data": {
      "text/plain": [
       "1"
      ]
     },
     "execution_count": 10,
     "metadata": {},
     "output_type": "execute_result"
    }
   ],
   "source": [
    "a.denominator"
   ]
  },
  {
   "cell_type": "code",
   "execution_count": 11,
   "metadata": {},
   "outputs": [
    {
     "data": {
      "text/plain": [
       "5"
      ]
     },
     "execution_count": 11,
     "metadata": {},
     "output_type": "execute_result"
    }
   ],
   "source": [
    "a.numerator"
   ]
  },
  {
   "cell_type": "code",
   "execution_count": 13,
   "metadata": {},
   "outputs": [
    {
     "data": {
      "text/plain": [
       "(5.6-7j)"
      ]
     },
     "execution_count": 13,
     "metadata": {},
     "output_type": "execute_result"
    }
   ],
   "source": [
    "c.conjugate()"
   ]
  },
  {
   "cell_type": "code",
   "execution_count": 14,
   "metadata": {},
   "outputs": [
    {
     "data": {
      "text/plain": [
       "7.0"
      ]
     },
     "execution_count": 14,
     "metadata": {},
     "output_type": "execute_result"
    }
   ],
   "source": [
    "c.imag"
   ]
  },
  {
   "cell_type": "code",
   "execution_count": 15,
   "metadata": {},
   "outputs": [
    {
     "data": {
      "text/plain": [
       "5.6"
      ]
     },
     "execution_count": 15,
     "metadata": {},
     "output_type": "execute_result"
    }
   ],
   "source": [
    "c.real"
   ]
  },
  {
   "cell_type": "markdown",
   "metadata": {},
   "source": [
    "# Strings \n",
    "'python is awsome'"
   ]
  },
  {
   "cell_type": "code",
   "execution_count": 7,
   "metadata": {},
   "outputs": [
    {
     "name": "stdout",
     "output_type": "stream",
     "text": [
      "hello world\n",
      " he said,python is awsome\n",
      "<class 'str'>\n",
      "hello world he said,python is awsome\n"
     ]
    }
   ],
   "source": [
    "a = 'hello world'\n",
    "b = ' he said,python is awsome'\n",
    "print(a,b,type(a),sep='\\n')\n",
    "print(a+b) #concatenation"
   ]
  },
  {
   "cell_type": "code",
   "execution_count": 18,
   "metadata": {},
   "outputs": [
    {
     "name": "stdout",
     "output_type": "stream",
     "text": [
      "ajayajayajayajayajay\n"
     ]
    }
   ],
   "source": [
    "a = 'ajay'*5\n",
    "print(a)"
   ]
  },
  {
   "cell_type": "code",
   "execution_count": 20,
   "metadata": {},
   "outputs": [
    {
     "name": "stdout",
     "output_type": "stream",
     "text": [
      "['__add__', '__class__', '__contains__', '__delattr__', '__dir__', '__doc__', '__eq__', '__format__', '__ge__', '__getattribute__', '__getitem__', '__getnewargs__', '__gt__', '__hash__', '__init__', '__init_subclass__', '__iter__', '__le__', '__len__', '__lt__', '__mod__', '__mul__', '__ne__', '__new__', '__reduce__', '__reduce_ex__', '__repr__', '__rmod__', '__rmul__', '__setattr__', '__sizeof__', '__str__', '__subclasshook__', 'capitalize', 'casefold', 'center', 'count', 'encode', 'endswith', 'expandtabs', 'find', 'format', 'format_map', 'index', 'isalnum', 'isalpha', 'isdecimal', 'isdigit', 'isidentifier', 'islower', 'isnumeric', 'isprintable', 'isspace', 'istitle', 'isupper', 'join', 'ljust', 'lower', 'lstrip', 'maketrans', 'partition', 'replace', 'rfind', 'rindex', 'rjust', 'rpartition', 'rsplit', 'rstrip', 'split', 'splitlines', 'startswith', 'strip', 'swapcase', 'title', 'translate', 'upper', 'zfill']\n"
     ]
    }
   ],
   "source": [
    "print(dir(str))"
   ]
  },
  {
   "cell_type": "code",
   "execution_count": 28,
   "metadata": {},
   "outputs": [
    {
     "data": {
      "text/plain": [
       "'hello world'"
      ]
     },
     "execution_count": 28,
     "metadata": {},
     "output_type": "execute_result"
    }
   ],
   "source": [
    "b = \"HELLO WORLD\"\n",
    "b.casefold()"
   ]
  },
  {
   "cell_type": "code",
   "execution_count": 29,
   "metadata": {},
   "outputs": [
    {
     "data": {
      "text/plain": [
       "'hello world'"
      ]
     },
     "execution_count": 29,
     "metadata": {},
     "output_type": "execute_result"
    }
   ],
   "source": [
    "a = 'hello world'\n",
    "a.casefold()"
   ]
  },
  {
   "cell_type": "code",
   "execution_count": 31,
   "metadata": {},
   "outputs": [
    {
     "data": {
      "text/plain": [
       "True"
      ]
     },
     "execution_count": 31,
     "metadata": {},
     "output_type": "execute_result"
    }
   ],
   "source": [
    "'hello world'.casefold() == 'HELLO WORLD'.casefold()"
   ]
  },
  {
   "cell_type": "code",
   "execution_count": 32,
   "metadata": {},
   "outputs": [
    {
     "data": {
      "text/plain": [
       "'hello world'"
      ]
     },
     "execution_count": 32,
     "metadata": {},
     "output_type": "execute_result"
    }
   ],
   "source": [
    "a"
   ]
  },
  {
   "cell_type": "code",
   "execution_count": 8,
   "metadata": {},
   "outputs": [
    {
     "data": {
      "text/plain": [
       "'Hello world'"
      ]
     },
     "execution_count": 8,
     "metadata": {},
     "output_type": "execute_result"
    }
   ],
   "source": [
    "a.capitalize()"
   ]
  },
  {
   "cell_type": "code",
   "execution_count": 34,
   "metadata": {},
   "outputs": [
    {
     "data": {
      "text/plain": [
       "'HELLO WORLD'"
      ]
     },
     "execution_count": 34,
     "metadata": {},
     "output_type": "execute_result"
    }
   ],
   "source": [
    "b"
   ]
  },
  {
   "cell_type": "code",
   "execution_count": 35,
   "metadata": {},
   "outputs": [
    {
     "data": {
      "text/plain": [
       "'Hello world'"
      ]
     },
     "execution_count": 35,
     "metadata": {},
     "output_type": "execute_result"
    }
   ],
   "source": [
    "b.capitalize()"
   ]
  },
  {
   "cell_type": "code",
   "execution_count": 38,
   "metadata": {},
   "outputs": [
    {
     "name": "stdout",
     "output_type": "stream",
     "text": [
      "                                            hello world                                             \n",
      "11\n"
     ]
    }
   ],
   "source": [
    "print(a.center(100))\n",
    "print(len(a))"
   ]
  },
  {
   "cell_type": "code",
   "execution_count": 40,
   "metadata": {},
   "outputs": [
    {
     "data": {
      "text/plain": [
       "3"
      ]
     },
     "execution_count": 40,
     "metadata": {},
     "output_type": "execute_result"
    }
   ],
   "source": [
    "a.count('l')"
   ]
  },
  {
   "cell_type": "code",
   "execution_count": 41,
   "metadata": {},
   "outputs": [
    {
     "name": "stdout",
     "output_type": "stream",
     "text": [
      "<class 'str'>\n",
      "<class 'bytes'>\n"
     ]
    }
   ],
   "source": [
    "a = 'hello world'\n",
    "b = a.encode('ascii')\n",
    "print(type(a))\n",
    "print(type(b))"
   ]
  },
  {
   "cell_type": "code",
   "execution_count": 43,
   "metadata": {},
   "outputs": [
    {
     "data": {
      "text/plain": [
       "True"
      ]
     },
     "execution_count": 43,
     "metadata": {},
     "output_type": "execute_result"
    }
   ],
   "source": [
    "a.endswith('d')"
   ]
  },
  {
   "cell_type": "code",
   "execution_count": 44,
   "metadata": {},
   "outputs": [
    {
     "data": {
      "text/plain": [
       "False"
      ]
     },
     "execution_count": 44,
     "metadata": {},
     "output_type": "execute_result"
    }
   ],
   "source": [
    "a.endswith('a')"
   ]
  },
  {
   "cell_type": "code",
   "execution_count": 46,
   "metadata": {},
   "outputs": [
    {
     "name": "stdout",
     "output_type": "stream",
     "text": [
      "jai                 bhole               ki\n",
      "jai\tbhole\tki\n"
     ]
    }
   ],
   "source": [
    "x = 'jai\\tbhole\\tki'\n",
    "print(x.expandtabs(20))\n",
    "print(x)"
   ]
  },
  {
   "cell_type": "code",
   "execution_count": 49,
   "metadata": {},
   "outputs": [
    {
     "data": {
      "text/plain": [
       "10"
      ]
     },
     "execution_count": 49,
     "metadata": {},
     "output_type": "execute_result"
    }
   ],
   "source": [
    "x.find('k')"
   ]
  },
  {
   "cell_type": "code",
   "execution_count": 54,
   "metadata": {},
   "outputs": [
    {
     "name": "stdout",
     "output_type": "stream",
     "text": [
      "rajes is a good person,he/she has good knowledge of grras\n"
     ]
    }
   ],
   "source": [
    "a = \"{} is a good person,he/she has good knowledge of {}\".format('rajes','grras')\n",
    "print(a)"
   ]
  },
  {
   "cell_type": "code",
   "execution_count": 55,
   "metadata": {},
   "outputs": [
    {
     "name": "stdout",
     "output_type": "stream",
     "text": [
      "enter your name mohit\n",
      "enter your knowlegepython\n",
      "mohit is a good person,he/she has good knowledge of python\n"
     ]
    }
   ],
   "source": [
    "name = input('enter your name ')\n",
    "know = input('enter your knowlege')\n",
    "a = f\"{name} is a good person,he/she has good knowledge of {know}\"\n",
    "print(a)"
   ]
  },
  {
   "cell_type": "code",
   "execution_count": 57,
   "metadata": {},
   "outputs": [
    {
     "name": "stdout",
     "output_type": "stream",
     "text": [
      "enter your name ajay\n",
      "enter your knowlegepython\n",
      "python is a good person,he/she has good knowledge of ajay\n"
     ]
    }
   ],
   "source": [
    "name = input('enter your name ')\n",
    "know = input('enter your knowlege')\n",
    "a = \"{} is a good person,he/she has good knowledge of {}\".format(know,name)\n",
    "print(a)"
   ]
  },
  {
   "cell_type": "code",
   "execution_count": 60,
   "metadata": {},
   "outputs": [
    {
     "data": {
      "text/plain": [
       "12"
      ]
     },
     "execution_count": 60,
     "metadata": {},
     "output_type": "execute_result"
    }
   ],
   "source": [
    "a.index('good')"
   ]
  },
  {
   "cell_type": "code",
   "execution_count": 61,
   "metadata": {},
   "outputs": [
    {
     "data": {
      "text/plain": [
       "'python is a good person,he/she has good knowledge of ajay'"
      ]
     },
     "execution_count": 61,
     "metadata": {},
     "output_type": "execute_result"
    }
   ],
   "source": [
    "a"
   ]
  },
  {
   "cell_type": "code",
   "execution_count": 62,
   "metadata": {},
   "outputs": [
    {
     "data": {
      "text/plain": [
       "False"
      ]
     },
     "execution_count": 62,
     "metadata": {},
     "output_type": "execute_result"
    }
   ],
   "source": [
    "a.isalnum()"
   ]
  },
  {
   "cell_type": "code",
   "execution_count": 63,
   "metadata": {},
   "outputs": [
    {
     "data": {
      "text/plain": [
       "False"
      ]
     },
     "execution_count": 63,
     "metadata": {},
     "output_type": "execute_result"
    }
   ],
   "source": [
    "a.isalpha()"
   ]
  },
  {
   "cell_type": "code",
   "execution_count": 64,
   "metadata": {},
   "outputs": [
    {
     "data": {
      "text/plain": [
       "False"
      ]
     },
     "execution_count": 64,
     "metadata": {},
     "output_type": "execute_result"
    }
   ],
   "source": [
    "a.isdecimal()"
   ]
  },
  {
   "cell_type": "code",
   "execution_count": 65,
   "metadata": {},
   "outputs": [
    {
     "data": {
      "text/plain": [
       "True"
      ]
     },
     "execution_count": 65,
     "metadata": {},
     "output_type": "execute_result"
    }
   ],
   "source": [
    "a = 'hello1234'\n",
    "a.isalnum()"
   ]
  },
  {
   "cell_type": "code",
   "execution_count": 66,
   "metadata": {},
   "outputs": [
    {
     "data": {
      "text/plain": [
       "True"
      ]
     },
     "execution_count": 66,
     "metadata": {},
     "output_type": "execute_result"
    }
   ],
   "source": [
    "a.isidentifier()"
   ]
  },
  {
   "cell_type": "code",
   "execution_count": 67,
   "metadata": {},
   "outputs": [
    {
     "data": {
      "text/plain": [
       "True"
      ]
     },
     "execution_count": 67,
     "metadata": {},
     "output_type": "execute_result"
    }
   ],
   "source": [
    "a.islower()"
   ]
  },
  {
   "cell_type": "code",
   "execution_count": 68,
   "metadata": {},
   "outputs": [
    {
     "data": {
      "text/plain": [
       "False"
      ]
     },
     "execution_count": 68,
     "metadata": {},
     "output_type": "execute_result"
    }
   ],
   "source": [
    "a.isupper()"
   ]
  },
  {
   "cell_type": "code",
   "execution_count": 70,
   "metadata": {},
   "outputs": [
    {
     "data": {
      "text/plain": [
       "'hello1234'"
      ]
     },
     "execution_count": 70,
     "metadata": {},
     "output_type": "execute_result"
    }
   ],
   "source": [
    "a"
   ]
  },
  {
   "cell_type": "code",
   "execution_count": 71,
   "metadata": {},
   "outputs": [
    {
     "data": {
      "text/plain": [
       "'Hello1234'"
      ]
     },
     "execution_count": 71,
     "metadata": {},
     "output_type": "execute_result"
    }
   ],
   "source": [
    "a.title()"
   ]
  },
  {
   "cell_type": "code",
   "execution_count": 72,
   "metadata": {},
   "outputs": [
    {
     "data": {
      "text/plain": [
       "'hello1234'"
      ]
     },
     "execution_count": 72,
     "metadata": {},
     "output_type": "execute_result"
    }
   ],
   "source": [
    "a"
   ]
  },
  {
   "cell_type": "code",
   "execution_count": 73,
   "metadata": {},
   "outputs": [
    {
     "data": {
      "text/plain": [
       "['hell', '1234']"
      ]
     },
     "execution_count": 73,
     "metadata": {},
     "output_type": "execute_result"
    }
   ],
   "source": [
    "a.split('o')"
   ]
  },
  {
   "cell_type": "code",
   "execution_count": 10,
   "metadata": {},
   "outputs": [
    {
     "name": "stdout",
     "output_type": "stream",
     "text": [
      "'         hello world        '\n",
      "'hello world        '\n",
      "'         hello world'\n",
      "'hello world'\n"
     ]
    }
   ],
   "source": [
    "a = '         hello world        '\n",
    "print(\"{!r}\".format(a))\n",
    "print(\"{!r}\".format(a.lstrip()))\n",
    "print(\"{!r}\".format(a.rstrip()))\n",
    "print(\"{!r}\".format(a.strip()))"
   ]
  },
  {
   "cell_type": "code",
   "execution_count": 12,
   "metadata": {},
   "outputs": [
    {
     "name": "stdout",
     "output_type": "stream",
     "text": [
      "         hello world        \n"
     ]
    }
   ],
   "source": [
    "print(a)"
   ]
  },
  {
   "cell_type": "code",
   "execution_count": 18,
   "metadata": {},
   "outputs": [
    {
     "data": {
      "text/plain": [
       "'                                                                          python is awsome'"
      ]
     },
     "execution_count": 18,
     "metadata": {},
     "output_type": "execute_result"
    }
   ],
   "source": [
    "b = 'python is awsome'\n",
    "c = b.rjust(90)\n",
    "c"
   ]
  },
  {
   "cell_type": "code",
   "execution_count": 21,
   "metadata": {},
   "outputs": [
    {
     "data": {
      "text/plain": [
       "'python is awsome'"
      ]
     },
     "execution_count": 21,
     "metadata": {},
     "output_type": "execute_result"
    }
   ],
   "source": [
    "c.lstrip()"
   ]
  },
  {
   "cell_type": "code",
   "execution_count": 24,
   "metadata": {},
   "outputs": [],
   "source": [
    "x = 'hello world'"
   ]
  },
  {
   "cell_type": "code",
   "execution_count": 31,
   "metadata": {},
   "outputs": [
    {
     "data": {
      "text/plain": [
       "{119: 104, 104: 119}"
      ]
     },
     "execution_count": 31,
     "metadata": {},
     "output_type": "execute_result"
    }
   ],
   "source": [
    "st = 'wh'\n",
    "st1 = 'hw'\n",
    "#st2 = ' '\n",
    "trg = 'hello world'\n",
    "table = trg.maketrans(st,st1)\n",
    "table"
   ]
  },
  {
   "cell_type": "code",
   "execution_count": 32,
   "metadata": {},
   "outputs": [
    {
     "data": {
      "text/plain": [
       "'wello horld'"
      ]
     },
     "execution_count": 32,
     "metadata": {},
     "output_type": "execute_result"
    }
   ],
   "source": [
    "trg.translate(table)"
   ]
  },
  {
   "cell_type": "code",
   "execution_count": 33,
   "metadata": {},
   "outputs": [
    {
     "name": "stdout",
     "output_type": "stream",
     "text": [
      "['__add__', '__class__', '__contains__', '__delattr__', '__dir__', '__doc__', '__eq__', '__format__', '__ge__', '__getattribute__', '__getitem__', '__getnewargs__', '__gt__', '__hash__', '__init__', '__init_subclass__', '__iter__', '__le__', '__len__', '__lt__', '__mod__', '__mul__', '__ne__', '__new__', '__reduce__', '__reduce_ex__', '__repr__', '__rmod__', '__rmul__', '__setattr__', '__sizeof__', '__str__', '__subclasshook__', 'capitalize', 'casefold', 'center', 'count', 'encode', 'endswith', 'expandtabs', 'find', 'format', 'format_map', 'index', 'isalnum', 'isalpha', 'isdecimal', 'isdigit', 'isidentifier', 'islower', 'isnumeric', 'isprintable', 'isspace', 'istitle', 'isupper', 'join', 'ljust', 'lower', 'lstrip', 'maketrans', 'partition', 'replace', 'rfind', 'rindex', 'rjust', 'rpartition', 'rsplit', 'rstrip', 'split', 'splitlines', 'startswith', 'strip', 'swapcase', 'title', 'translate', 'upper', 'zfill']\n"
     ]
    }
   ],
   "source": [
    "print(dir(str))"
   ]
  },
  {
   "cell_type": "code",
   "execution_count": 36,
   "metadata": {},
   "outputs": [
    {
     "name": "stdout",
     "output_type": "stream",
     "text": [
      "hello world\n",
      "HELLO WORLD\n"
     ]
    }
   ],
   "source": [
    "print(x)\n",
    "print(x.swapcase())"
   ]
  },
  {
   "cell_type": "code",
   "execution_count": 39,
   "metadata": {},
   "outputs": [],
   "source": [
    "x = 'python is awsome , he said'"
   ]
  },
  {
   "cell_type": "code",
   "execution_count": 40,
   "metadata": {},
   "outputs": [
    {
     "data": {
      "text/plain": [
       "'Python Is Awsome , He Said'"
      ]
     },
     "execution_count": 40,
     "metadata": {},
     "output_type": "execute_result"
    }
   ],
   "source": [
    "x.title()"
   ]
  },
  {
   "cell_type": "code",
   "execution_count": 41,
   "metadata": {},
   "outputs": [
    {
     "data": {
      "text/plain": [
       "False"
      ]
     },
     "execution_count": 41,
     "metadata": {},
     "output_type": "execute_result"
    }
   ],
   "source": [
    "x.isidentifier()"
   ]
  },
  {
   "cell_type": "code",
   "execution_count": 44,
   "metadata": {},
   "outputs": [
    {
     "name": "stdout",
     "output_type": "stream",
     "text": [
      "Help on method_descriptor:\n",
      "\n",
      "isidentifier(...)\n",
      "    S.isidentifier() -> bool\n",
      "    \n",
      "    Return True if S is a valid identifier according\n",
      "    to the language definition.\n",
      "    \n",
      "    Use keyword.iskeyword() to test for reserved identifiers\n",
      "    such as \"def\" and \"class\".\n",
      "\n"
     ]
    }
   ],
   "source": [
    "help(str.isidentifier)"
   ]
  },
  {
   "cell_type": "code",
   "execution_count": 46,
   "metadata": {},
   "outputs": [],
   "source": [
    "str.isidentifier?"
   ]
  },
  {
   "cell_type": "markdown",
   "metadata": {},
   "source": [
    "# List"
   ]
  },
  {
   "cell_type": "code",
   "execution_count": 47,
   "metadata": {},
   "outputs": [
    {
     "name": "stdout",
     "output_type": "stream",
     "text": [
      "[1, 2, 3, 4, 5, 6, 7, 8, 9, 10]\n",
      "<class 'list'>\n"
     ]
    }
   ],
   "source": [
    "l = [1,2,3,4,5,6,7,8,9,10]\n",
    "print(l,type(l),sep='\\n')"
   ]
  },
  {
   "cell_type": "code",
   "execution_count": 48,
   "metadata": {},
   "outputs": [
    {
     "name": "stdout",
     "output_type": "stream",
     "text": [
      "['ajay', 'python', 'mohit', 'yogendra', 'sahil']\n",
      "<class 'list'>\n"
     ]
    }
   ],
   "source": [
    "li = ['ajay','python','mohit','yogendra','sahil']\n",
    "print(li,type(li),sep='\\n')"
   ]
  },
  {
   "cell_type": "code",
   "execution_count": 49,
   "metadata": {},
   "outputs": [
    {
     "name": "stdout",
     "output_type": "stream",
     "text": [
      "1\n",
      "2\n",
      "3\n",
      "4\n",
      "5\n",
      "6\n",
      "7\n",
      "8\n",
      "9\n",
      "10\n"
     ]
    }
   ],
   "source": [
    "for var in l:\n",
    "    print(var)"
   ]
  },
  {
   "cell_type": "code",
   "execution_count": 52,
   "metadata": {},
   "outputs": [
    {
     "name": "stdout",
     "output_type": "stream",
     "text": [
      "ajay python mohit yogendra sahil "
     ]
    }
   ],
   "source": [
    "for var in li:\n",
    "    print(var,end=' ')"
   ]
  },
  {
   "cell_type": "code",
   "execution_count": 54,
   "metadata": {},
   "outputs": [
    {
     "name": "stdout",
     "output_type": "stream",
     "text": [
      "ajay\n",
      "python\n",
      "mohit\n",
      "yogendra\n",
      "sahil\n"
     ]
    }
   ],
   "source": [
    "for var in li:\n",
    "    print(var,sep='\\t')"
   ]
  },
  {
   "cell_type": "code",
   "execution_count": 56,
   "metadata": {},
   "outputs": [
    {
     "name": "stdout",
     "output_type": "stream",
     "text": [
      "['__add__', '__class__', '__contains__', '__delattr__', '__delitem__', '__dir__', '__doc__', '__eq__', '__format__', '__ge__', '__getattribute__', '__getitem__', '__gt__', '__hash__', '__iadd__', '__imul__', '__init__', '__init_subclass__', '__iter__', '__le__', '__len__', '__lt__', '__mul__', '__ne__', '__new__', '__reduce__', '__reduce_ex__', '__repr__', '__reversed__', '__rmul__', '__setattr__', '__setitem__', '__sizeof__', '__str__', '__subclasshook__', 'append', 'clear', 'copy', 'count', 'extend', 'index', 'insert', 'pop', 'remove', 'reverse', 'sort']\n"
     ]
    }
   ],
   "source": [
    "print(dir(li))"
   ]
  },
  {
   "cell_type": "code",
   "execution_count": 57,
   "metadata": {},
   "outputs": [],
   "source": [
    "li.append('sachin')"
   ]
  },
  {
   "cell_type": "code",
   "execution_count": 58,
   "metadata": {},
   "outputs": [
    {
     "data": {
      "text/plain": [
       "['ajay', 'python', 'mohit', 'yogendra', 'sahil', 'sachin']"
      ]
     },
     "execution_count": 58,
     "metadata": {},
     "output_type": "execute_result"
    }
   ],
   "source": [
    "li"
   ]
  },
  {
   "cell_type": "code",
   "execution_count": 59,
   "metadata": {},
   "outputs": [],
   "source": [
    "li.append(['ajay','shubham','rajesjh','vijesh'])"
   ]
  },
  {
   "cell_type": "code",
   "execution_count": 60,
   "metadata": {},
   "outputs": [
    {
     "data": {
      "text/plain": [
       "['ajay',\n",
       " 'python',\n",
       " 'mohit',\n",
       " 'yogendra',\n",
       " 'sahil',\n",
       " 'sachin',\n",
       " ['ajay', 'shubham', 'rajesjh', 'vijesh']]"
      ]
     },
     "execution_count": 60,
     "metadata": {},
     "output_type": "execute_result"
    }
   ],
   "source": [
    "li"
   ]
  },
  {
   "cell_type": "code",
   "execution_count": 61,
   "metadata": {},
   "outputs": [],
   "source": [
    "li.append((1,2,3,4,5))"
   ]
  },
  {
   "cell_type": "code",
   "execution_count": 62,
   "metadata": {},
   "outputs": [
    {
     "data": {
      "text/plain": [
       "['ajay',\n",
       " 'python',\n",
       " 'mohit',\n",
       " 'yogendra',\n",
       " 'sahil',\n",
       " 'sachin',\n",
       " ['ajay', 'shubham', 'rajesjh', 'vijesh'],\n",
       " (1, 2, 3, 4, 5)]"
      ]
     },
     "execution_count": 62,
     "metadata": {},
     "output_type": "execute_result"
    }
   ],
   "source": [
    "li"
   ]
  },
  {
   "cell_type": "code",
   "execution_count": 72,
   "metadata": {},
   "outputs": [],
   "source": [
    "i = [1,2,3,4,5,65]\n",
    "for var in i:\n",
    "    li.append(var)"
   ]
  },
  {
   "cell_type": "code",
   "execution_count": 73,
   "metadata": {},
   "outputs": [
    {
     "data": {
      "text/plain": [
       "['ajay',\n",
       " 'python',\n",
       " 'mohit',\n",
       " 'yogendra',\n",
       " 'sahil',\n",
       " 'sachin',\n",
       " ['ajay', 'shubham', 'rajesjh', 'vijesh'],\n",
       " (1, 2, 3, 4, 5),\n",
       " 1,\n",
       " 2,\n",
       " 3,\n",
       " 4,\n",
       " 5,\n",
       " 65]"
      ]
     },
     "execution_count": 73,
     "metadata": {},
     "output_type": "execute_result"
    }
   ],
   "source": [
    "li"
   ]
  },
  {
   "cell_type": "code",
   "execution_count": 77,
   "metadata": {},
   "outputs": [],
   "source": [
    "o = li.copy()"
   ]
  },
  {
   "cell_type": "code",
   "execution_count": 74,
   "metadata": {},
   "outputs": [],
   "source": [
    "li_new = li"
   ]
  },
  {
   "cell_type": "code",
   "execution_count": 75,
   "metadata": {},
   "outputs": [
    {
     "data": {
      "text/plain": [
       "['ajay',\n",
       " 'python',\n",
       " 'mohit',\n",
       " 'yogendra',\n",
       " 'sahil',\n",
       " 'sachin',\n",
       " ['ajay', 'shubham', 'rajesjh', 'vijesh'],\n",
       " (1, 2, 3, 4, 5),\n",
       " 1,\n",
       " 2,\n",
       " 3,\n",
       " 4,\n",
       " 5,\n",
       " 65]"
      ]
     },
     "execution_count": 75,
     "metadata": {},
     "output_type": "execute_result"
    }
   ],
   "source": [
    "li_new"
   ]
  },
  {
   "cell_type": "code",
   "execution_count": 76,
   "metadata": {},
   "outputs": [
    {
     "data": {
      "text/plain": [
       "['ajay',\n",
       " 'python',\n",
       " 'mohit',\n",
       " 'yogendra',\n",
       " 'sahil',\n",
       " 'sachin',\n",
       " ['ajay', 'shubham', 'rajesjh', 'vijesh'],\n",
       " (1, 2, 3, 4, 5),\n",
       " 1,\n",
       " 2,\n",
       " 3,\n",
       " 4,\n",
       " 5,\n",
       " 65]"
      ]
     },
     "execution_count": 76,
     "metadata": {},
     "output_type": "execute_result"
    }
   ],
   "source": [
    "li"
   ]
  },
  {
   "cell_type": "code",
   "execution_count": 78,
   "metadata": {},
   "outputs": [
    {
     "name": "stdout",
     "output_type": "stream",
     "text": [
      "2545210490632\n",
      "2545210490632\n"
     ]
    }
   ],
   "source": [
    "print(id(li))\n",
    "print(id(li_new))"
   ]
  },
  {
   "cell_type": "code",
   "execution_count": 85,
   "metadata": {},
   "outputs": [
    {
     "data": {
      "text/plain": [
       "2545210751112"
      ]
     },
     "execution_count": 85,
     "metadata": {},
     "output_type": "execute_result"
    }
   ],
   "source": [
    "id(o)"
   ]
  },
  {
   "cell_type": "code",
   "execution_count": 79,
   "metadata": {},
   "outputs": [],
   "source": [
    "li.append('ajay')"
   ]
  },
  {
   "cell_type": "code",
   "execution_count": 82,
   "metadata": {},
   "outputs": [],
   "source": [
    "li.clear()"
   ]
  },
  {
   "cell_type": "code",
   "execution_count": 83,
   "metadata": {},
   "outputs": [
    {
     "data": {
      "text/plain": [
       "[]"
      ]
     },
     "execution_count": 83,
     "metadata": {},
     "output_type": "execute_result"
    }
   ],
   "source": [
    "li_new"
   ]
  },
  {
   "cell_type": "code",
   "execution_count": 84,
   "metadata": {},
   "outputs": [
    {
     "data": {
      "text/plain": [
       "['ajay',\n",
       " 'python',\n",
       " 'mohit',\n",
       " 'yogendra',\n",
       " 'sahil',\n",
       " 'sachin',\n",
       " ['ajay', 'shubham', 'rajesjh', 'vijesh'],\n",
       " (1, 2, 3, 4, 5),\n",
       " 1,\n",
       " 2,\n",
       " 3,\n",
       " 4,\n",
       " 5,\n",
       " 65]"
      ]
     },
     "execution_count": 84,
     "metadata": {},
     "output_type": "execute_result"
    }
   ],
   "source": [
    "o"
   ]
  },
  {
   "cell_type": "code",
   "execution_count": 88,
   "metadata": {},
   "outputs": [],
   "source": [
    "li = o.copy()\n"
   ]
  },
  {
   "cell_type": "code",
   "execution_count": 89,
   "metadata": {},
   "outputs": [],
   "source": [
    "li.extend(['ajay','rajvendra','vipul'])"
   ]
  },
  {
   "cell_type": "code",
   "execution_count": 90,
   "metadata": {},
   "outputs": [
    {
     "data": {
      "text/plain": [
       "['ajay',\n",
       " 'python',\n",
       " 'mohit',\n",
       " 'yogendra',\n",
       " 'sahil',\n",
       " 'sachin',\n",
       " ['ajay', 'shubham', 'rajesjh', 'vijesh'],\n",
       " (1, 2, 3, 4, 5),\n",
       " 1,\n",
       " 2,\n",
       " 3,\n",
       " 4,\n",
       " 5,\n",
       " 65,\n",
       " 'ajay',\n",
       " 'rajvendra',\n",
       " 'vipul']"
      ]
     },
     "execution_count": 90,
     "metadata": {},
     "output_type": "execute_result"
    }
   ],
   "source": [
    "li"
   ]
  },
  {
   "cell_type": "code",
   "execution_count": 91,
   "metadata": {},
   "outputs": [],
   "source": [
    "b = [1,2,3,4,5]\n",
    "c = [1,2,3,4,5]\n",
    "d = b+c"
   ]
  },
  {
   "cell_type": "code",
   "execution_count": 92,
   "metadata": {},
   "outputs": [
    {
     "data": {
      "text/plain": [
       "[1, 2, 3, 4, 5, 1, 2, 3, 4, 5]"
      ]
     },
     "execution_count": 92,
     "metadata": {},
     "output_type": "execute_result"
    }
   ],
   "source": [
    "d"
   ]
  },
  {
   "cell_type": "code",
   "execution_count": 93,
   "metadata": {},
   "outputs": [
    {
     "name": "stdout",
     "output_type": "stream",
     "text": [
      "['__add__', '__class__', '__contains__', '__delattr__', '__delitem__', '__dir__', '__doc__', '__eq__', '__format__', '__ge__', '__getattribute__', '__getitem__', '__gt__', '__hash__', '__iadd__', '__imul__', '__init__', '__init_subclass__', '__iter__', '__le__', '__len__', '__lt__', '__mul__', '__ne__', '__new__', '__reduce__', '__reduce_ex__', '__repr__', '__reversed__', '__rmul__', '__setattr__', '__setitem__', '__sizeof__', '__str__', '__subclasshook__', 'append', 'clear', 'copy', 'count', 'extend', 'index', 'insert', 'pop', 'remove', 'reverse', 'sort']\n"
     ]
    }
   ],
   "source": [
    "print(dir(list))"
   ]
  },
  {
   "cell_type": "code",
   "execution_count": 96,
   "metadata": {},
   "outputs": [
    {
     "data": {
      "text/plain": [
       "5"
      ]
     },
     "execution_count": 96,
     "metadata": {},
     "output_type": "execute_result"
    }
   ],
   "source": [
    "li.index('sachin')"
   ]
  },
  {
   "cell_type": "code",
   "execution_count": 97,
   "metadata": {},
   "outputs": [],
   "source": [
    "li.insert(1,'nikhil')"
   ]
  },
  {
   "cell_type": "code",
   "execution_count": 99,
   "metadata": {},
   "outputs": [
    {
     "data": {
      "text/plain": [
       "'nikhil'"
      ]
     },
     "execution_count": 99,
     "metadata": {},
     "output_type": "execute_result"
    }
   ],
   "source": [
    "li[1]"
   ]
  },
  {
   "cell_type": "code",
   "execution_count": 100,
   "metadata": {},
   "outputs": [
    {
     "data": {
      "text/plain": [
       "'vipul'"
      ]
     },
     "execution_count": 100,
     "metadata": {},
     "output_type": "execute_result"
    }
   ],
   "source": [
    "li.pop()"
   ]
  },
  {
   "cell_type": "code",
   "execution_count": 101,
   "metadata": {},
   "outputs": [
    {
     "name": "stdout",
     "output_type": "stream",
     "text": [
      "['ajay', 'nikhil', 'python', 'mohit', 'yogendra', 'sahil', 'sachin', ['ajay', 'shubham', 'rajesjh', 'vijesh'], (1, 2, 3, 4, 5), 1, 2, 3, 4, 5, 65, 'ajay', 'rajvendra']\n"
     ]
    }
   ],
   "source": [
    "print(li)"
   ]
  },
  {
   "cell_type": "code",
   "execution_count": 102,
   "metadata": {},
   "outputs": [],
   "source": [
    "li.remove('ajay')"
   ]
  },
  {
   "cell_type": "code",
   "execution_count": 105,
   "metadata": {},
   "outputs": [
    {
     "name": "stdout",
     "output_type": "stream",
     "text": [
      "['nikhil', 'python', 'mohit', 'yogendra', 'sahil', 'sachin', ['ajay', 'shubham', 'rajesjh', 'vijesh'], (1, 2, 3, 4, 5), 1, 2, 3, 4, 5, 65, 'ajay', 'rajvendra']\n"
     ]
    }
   ],
   "source": [
    "li.reverse()\n",
    "print(li)"
   ]
  },
  {
   "cell_type": "code",
   "execution_count": 111,
   "metadata": {
    "collapsed": true
   },
   "outputs": [
    {
     "name": "stdout",
     "output_type": "stream",
     "text": [
      "[[77, 94, 70, 69, 95, 7, 3, 23, 72, 51, 35, 53, 99, 50, 85, 41, 40, 16, 67, 1, 84, 73, 76, 43, 38, 12, 10, 44, 79, 18, 15, 68, 2, 22, 19, 62, 34, 83, 82, 91, 11, 52, 14, 25, 8, 5, 57, 13, 98, 27], [88, 16, 74, 8, 68, 26, 34, 86, 63, 60, 20, 28, 10, 5, 76, 3, 90, 21, 93, 65, 48, 73, 58, 81, 31, 95, 6, 62, 30, 94, 87, 12, 35, 85, 51, 46, 2, 37, 79, 71, 41, 18, 56, 69, 64, 25, 45, 92, 29, 39], [71, 35, 62, 33, 16, 1, 80, 26, 99, 52, 67, 43, 30, 23, 54, 55, 95, 46, 29, 32, 74, 53, 27, 34, 37, 79, 18, 28, 72, 90, 70, 31, 48, 75, 78, 13, 96, 59, 25, 68, 2, 66, 11, 15, 63, 42, 12, 56, 58, 92], [7, 41, 77, 18, 74, 16, 17, 47, 45, 51, 32, 96, 40, 46, 28, 90, 29, 66, 37, 8, 24, 6, 54, 15, 56, 50, 49, 52, 25, 34, 70, 93, 72, 1, 75, 64, 78, 14, 44, 68, 10, 57, 65, 58, 9, 36, 88, 30, 59, 71], [12, 98, 20, 26, 79, 54, 34, 95, 28, 35, 75, 11, 40, 19, 80, 51, 22, 37, 18, 31, 7, 91, 77, 69, 85, 62, 61, 25, 44, 2, 23, 74, 30, 46, 56, 60, 72, 92, 88, 36, 50, 27, 66, 6, 48, 29, 49, 90, 84, 3], [67, 96, 40, 7, 99, 11, 44, 12, 59, 15, 38, 21, 66, 97, 30, 19, 92, 10, 13, 5, 9, 23, 75, 62, 41, 90, 70, 63, 83, 57, 32, 71, 8, 61, 2, 24, 82, 20, 72, 47, 35, 48, 76, 49, 43, 80, 36, 79, 46, 88], [73, 22, 52, 90, 15, 64, 18, 98, 31, 3, 17, 70, 44, 26, 74, 47, 75, 27, 96, 41, 10, 62, 86, 38, 30, 56, 93, 59, 91, 78, 76, 66, 99, 60, 92, 46, 20, 9, 57, 32, 83, 45, 82, 71, 63, 42, 21, 88, 7, 4], [48, 38, 98, 52, 30, 65, 46, 43, 50, 78, 40, 63, 74, 26, 32, 61, 8, 39, 76, 54, 84, 12, 34, 97, 89, 73, 25, 71, 75, 85, 53, 24, 15, 57, 20, 16, 3, 55, 58, 41, 29, 51, 92, 60, 44, 22, 11, 90, 49, 33], [63, 46, 28, 70, 59, 92, 13, 24, 53, 56, 57, 8, 51, 71, 99, 14, 17, 37, 47, 82, 16, 35, 68, 49, 40, 83, 79, 11, 2, 27, 58, 77, 65, 31, 1, 43, 10, 55, 5, 18, 73, 95, 50, 34, 39, 29, 91, 85, 61, 54], [21, 6, 68, 80, 62, 12, 69, 45, 23, 24, 51, 72, 88, 5, 35, 87, 28, 93, 64, 84, 18, 82, 78, 76, 67, 15, 65, 32, 10, 52, 20, 44, 49, 16, 50, 60, 41, 29, 86, 13, 47, 96, 31, 79, 33, 71, 94, 7, 26, 97], [71, 94, 73, 58, 65, 28, 20, 31, 59, 16, 67, 68, 1, 4, 83, 19, 55, 74, 61, 18, 13, 78, 98, 79, 72, 64, 62, 76, 87, 47, 56, 30, 8, 84, 90, 35, 21, 91, 22, 25, 86, 60, 75, 92, 26, 39, 52, 93, 43, 54], [78, 37, 22, 84, 36, 7, 43, 89, 27, 34, 46, 68, 90, 29, 4, 71, 54, 50, 97, 41, 48, 19, 60, 82, 24, 9, 88, 32, 20, 87, 86, 91, 83, 35, 62, 95, 94, 39, 66, 69, 63, 98, 42, 67, 55, 80, 61, 77, 72, 57], [58, 71, 31, 76, 17, 54, 60, 93, 78, 87, 61, 4, 79, 59, 74, 97, 66, 36, 11, 69, 42, 92, 33, 3, 5, 48, 85, 29, 21, 22, 38, 82, 86, 45, 80, 99, 57, 8, 96, 46, 62, 47, 26, 1, 19, 24, 39, 98, 68, 55], [85, 80, 77, 60, 37, 67, 6, 99, 46, 92, 49, 29, 93, 83, 17, 15, 43, 81, 9, 34, 87, 48, 26, 35, 25, 53, 5, 86, 98, 52, 78, 79, 7, 41, 14, 10, 62, 68, 42, 1, 57, 4, 96, 54, 89, 19, 2, 24, 91, 27], [14, 2, 39, 18, 63, 69, 41, 76, 54, 90, 36, 11, 95, 65, 67, 52, 93, 91, 80, 37, 53, 48, 20, 75, 60, 83, 51, 82, 26, 13, 58, 59, 98, 46, 4, 74, 3, 31, 88, 56, 84, 5, 28, 62, 94, 10, 97, 47, 25, 70], [39, 66, 82, 57, 30, 61, 46, 27, 41, 9, 90, 37, 51, 99, 79, 85, 40, 76, 77, 25, 89, 13, 87, 83, 16, 59, 67, 19, 15, 12, 18, 69, 68, 23, 64, 31, 22, 94, 95, 21, 42, 72, 86, 74, 20, 48, 52, 55, 10, 60], [62, 15, 53, 45, 17, 61, 20, 30, 87, 64, 23, 40, 65, 93, 27, 97, 46, 79, 77, 10, 42, 73, 60, 21, 58, 39, 1, 91, 33, 63, 11, 81, 35, 14, 86, 50, 4, 92, 5, 47, 2, 55, 82, 68, 98, 75, 24, 18, 96, 29], [38, 79, 15, 70, 47, 53, 81, 44, 1, 19, 10, 74, 5, 20, 67, 97, 32, 69, 91, 28, 14, 48, 37, 22, 96, 51, 57, 25, 50, 40, 76, 68, 66, 18, 88, 52, 82, 86, 90, 80, 39, 62, 42, 60, 9, 36, 17, 77, 7, 71], [97, 76, 22, 95, 1, 85, 54, 51, 78, 14, 80, 50, 98, 62, 83, 53, 65, 45, 70, 61, 5, 48, 77, 67, 29, 93, 26, 42, 64, 63, 3, 81, 88, 6, 39, 58, 4, 68, 13, 56, 66, 46, 71, 38, 43, 35, 33, 32, 17, 18], [12, 7, 71, 46, 80, 62, 33, 58, 42, 17, 52, 82, 60, 38, 73, 81, 8, 75, 16, 86, 13, 10, 23, 98, 63, 55, 72, 78, 49, 20, 65, 64, 53, 21, 85, 2, 95, 66, 36, 51, 22, 74, 24, 96, 68, 37, 3, 99, 27, 11], [20, 98, 22, 14, 66, 59, 26, 76, 93, 44, 67, 34, 23, 97, 81, 39, 42, 4, 32, 11, 36, 84, 87, 56, 70, 9, 37, 77, 86, 19, 62, 52, 27, 79, 3, 15, 68, 31, 63, 40, 91, 80, 61, 2, 45, 28, 82, 25, 74, 69], [30, 14, 85, 62, 93, 12, 90, 15, 52, 87, 99, 40, 34, 57, 41, 35, 59, 55, 38, 21, 95, 71, 89, 36, 80, 75, 25, 26, 22, 43, 96, 58, 4, 13, 51, 83, 88, 39, 44, 42, 94, 37, 9, 6, 31, 66, 29, 72, 48, 20], [59, 70, 84, 93, 61, 96, 39, 40, 31, 83, 8, 80, 67, 6, 55, 62, 12, 52, 66, 9, 17, 64, 77, 27, 48, 20, 16, 71, 44, 57, 72, 10, 81, 90, 74, 18, 21, 94, 47, 88, 73, 4, 51, 34, 24, 19, 5, 45, 25, 46], [17, 87, 14, 39, 95, 10, 36, 70, 21, 4, 55, 51, 26, 67, 27, 94, 30, 23, 8, 29, 83, 88, 73, 82, 61, 64, 24, 97, 15, 65, 43, 69, 84, 76, 34, 93, 18, 80, 62, 63, 56, 13, 53, 77, 38, 3, 99, 32, 11, 86], [81, 34, 50, 10, 43, 5, 86, 39, 49, 47, 69, 70, 14, 19, 87, 38, 46, 90, 32, 88, 63, 71, 85, 13, 59, 95, 21, 61, 75, 55, 65, 73, 42, 68, 56, 91, 4, 79, 94, 37, 26, 74, 67, 83, 7, 15, 35, 48, 62, 80], [35, 14, 4, 63, 84, 41, 65, 24, 56, 46, 93, 33, 8, 73, 53, 13, 88, 75, 79, 67, 11, 89, 9, 22, 40, 66, 45, 83, 64, 28, 92, 78, 3, 90, 15, 38, 12, 25, 95, 30, 87, 80, 37, 76, 7, 32, 58, 17, 91, 72], [9, 72, 55, 19, 60, 92, 94, 12, 65, 46, 52, 36, 99, 97, 63, 35, 56, 45, 89, 73, 6, 67, 71, 98, 95, 7, 33, 28, 3, 23, 90, 61, 34, 83, 58, 1, 49, 38, 79, 74, 15, 31, 18, 41, 14, 8, 64, 91, 42, 2], [57, 67, 3, 20, 24, 8, 68, 78, 11, 43, 53, 40, 93, 96, 29, 46, 27, 36, 5, 30, 99, 9, 85, 60, 34, 28, 50, 1, 51, 76, 12, 38, 23, 61, 7, 25, 13, 47, 69, 70, 92, 16, 71, 26, 63, 81, 80, 32, 15, 56], [3, 22, 64, 17, 68, 25, 19, 58, 77, 11, 10, 13, 40, 67, 91, 23, 90, 61, 53, 29, 74, 66, 5, 82, 56, 41, 31, 46, 89, 85, 9, 2, 79, 1, 48, 54, 97, 98, 63, 38, 12, 24, 43, 55, 72, 18, 42, 95, 32, 37], [77, 51, 64, 82, 53, 93, 48, 97, 54, 63, 39, 29, 9, 16, 31, 66, 32, 90, 92, 62, 2, 69, 42, 33, 11, 91, 68, 49, 38, 85, 50, 79, 35, 26, 75, 95, 65, 19, 57, 21, 20, 12, 76, 98, 17, 80, 86, 58, 72, 83], [95, 7, 91, 59, 9, 14, 17, 58, 99, 4, 38, 93, 70, 20, 27, 10, 65, 29, 56, 49, 76, 89, 68, 55, 64, 45, 52, 34, 57, 66, 94, 40, 43, 1, 84, 81, 46, 62, 5, 83, 28, 2, 16, 71, 11, 30, 35, 98, 6, 75], [33, 41, 55, 5, 68, 35, 82, 20, 44, 45, 65, 39, 77, 59, 62, 57, 37, 48, 46, 38, 63, 76, 24, 90, 53, 91, 75, 81, 72, 21, 25, 56, 70, 36, 22, 9, 64, 66, 74, 96, 1, 17, 54, 94, 28, 89, 51, 61, 16, 31], [27, 99, 15, 12, 85, 64, 10, 79, 28, 31, 69, 45, 30, 49, 9, 26, 81, 6, 13, 40, 80, 5, 68, 47, 48, 84, 38, 87, 86, 57, 76, 50, 52, 1, 29, 95, 2, 82, 21, 92, 11, 17, 42, 18, 71, 83, 93, 72, 78, 58], [85, 83, 35, 87, 76, 98, 84, 48, 4, 18, 79, 59, 57, 74, 38, 66, 26, 8, 24, 16, 61, 93, 32, 3, 19, 77, 91, 36, 30, 68, 6, 60, 41, 33, 42, 15, 65, 86, 55, 46, 29, 53, 71, 73, 2, 40, 58, 13, 31, 75], [37, 26, 68, 9, 47, 16, 27, 12, 84, 73, 72, 43, 19, 65, 8, 34, 49, 39, 10, 11, 1, 25, 24, 44, 94, 5, 45, 51, 21, 46, 22, 52, 3, 59, 58, 18, 42, 92, 54, 71, 82, 56, 6, 77, 99, 74, 7, 67, 89, 2], [98, 88, 63, 54, 73, 82, 8, 77, 66, 97, 10, 19, 94, 72, 31, 52, 7, 27, 91, 30, 55, 37, 93, 60, 71, 39, 56, 79, 95, 48, 44, 75, 96, 78, 51, 26, 46, 16, 24, 5, 76, 22, 43, 11, 90, 87, 61, 99, 42, 34], [72, 19, 92, 1, 82, 29, 58, 93, 65, 51, 55, 20, 15, 60, 24, 10, 16, 34, 25, 44, 47, 42, 30, 52, 40, 7, 76, 96, 38, 95, 70, 90, 87, 98, 22, 2, 64, 84, 31, 9, 12, 75, 4, 17, 91, 62, 3, 71, 57, 21], [95, 7, 46, 40, 43, 48, 83, 14, 17, 8, 85, 53, 51, 63, 27, 80, 96, 77, 70, 41, 55, 26, 33, 84, 75, 98, 90, 57, 23, 50, 65, 13, 32, 9, 66, 6, 16, 64, 82, 47, 5, 24, 34, 18, 93, 37, 78, 11, 61, 1], [66, 8, 99, 84, 25, 41, 37, 9, 68, 83, 92, 85, 79, 49, 51, 30, 64, 27, 15, 75, 29, 47, 80, 5, 14, 44, 63, 38, 61, 43, 40, 89, 45, 3, 24, 50, 46, 2, 4, 98, 7, 35, 93, 88, 77, 58, 73, 21, 60, 76], [38, 42, 91, 82, 22, 25, 13, 31, 83, 99, 78, 19, 48, 44, 64, 62, 56, 33, 63, 26, 94, 57, 10, 46, 40, 95, 43, 3, 18, 76, 51, 65, 58, 27, 45, 21, 89, 17, 66, 16, 88, 29, 4, 96, 71, 79, 41, 87, 92, 86], [73, 22, 71, 47, 17, 23, 8, 31, 63, 52, 42, 65, 64, 75, 86, 88, 99, 9, 24, 51, 13, 62, 54, 74, 53, 83, 92, 91, 19, 27, 56, 81, 96, 29, 26, 37, 89, 85, 93, 2, 5, 77, 57, 94, 58, 69, 97, 18, 40, 80], [26, 24, 88, 86, 59, 42, 80, 98, 82, 1, 34, 76, 63, 84, 78, 23, 81, 64, 45, 72, 56, 35, 68, 29, 89, 32, 52, 73, 18, 47, 6, 61, 7, 2, 21, 94, 53, 65, 60, 46, 44, 97, 13, 4, 66, 55, 49, 93, 87, 20], [87, 72, 37, 59, 99, 28, 98, 1, 24, 69, 74, 75, 70, 21, 44, 9, 46, 64, 40, 34, 12, 19, 48, 62, 29, 67, 18, 57, 71, 16, 31, 80, 85, 77, 41, 56, 5, 52, 11, 95, 2, 38, 10, 68, 22, 81, 36, 6, 54, 39], [13, 65, 56, 60, 76, 14, 32, 66, 95, 11, 88, 55, 48, 96, 94, 5, 77, 51, 19, 30, 90, 39, 34, 22, 74, 24, 64, 59, 92, 28, 67, 27, 10, 37, 57, 89, 80, 98, 81, 62, 72, 86, 53, 6, 78, 43, 68, 31, 91, 36], [26, 23, 99, 18, 67, 22, 87, 13, 11, 30, 70, 25, 31, 27, 62, 10, 21, 46, 89, 92, 6, 15, 16, 73, 71, 96, 53, 52, 60, 8, 20, 80, 36, 97, 42, 76, 9, 51, 94, 49, 86, 29, 55, 54, 17, 4, 1, 40, 57, 68], [89, 13, 31, 70, 14, 79, 93, 66, 56, 44, 26, 39, 15, 46, 35, 72, 27, 8, 25, 99, 82, 80, 51, 63, 42, 28, 53, 38, 6, 7, 36, 19, 49, 69, 62, 98, 29, 87, 61, 9, 33, 17, 83, 68, 64, 58, 90, 84, 92, 76], [78, 54, 15, 69, 74, 38, 60, 11, 9, 73, 85, 83, 57, 37, 8, 68, 64, 21, 96, 7, 88, 40, 27, 90, 61, 86, 98, 42, 25, 89, 99, 81, 31, 67, 92, 20, 91, 22, 2, 29, 50, 72, 82, 65, 1, 53, 3, 77, 97, 39], [91, 15, 52, 68, 14, 37, 83, 10, 7, 23, 78, 80, 6, 90, 85, 70, 47, 21, 98, 18, 5, 87, 46, 73, 72, 32, 19, 13, 89, 17, 20, 3, 59, 51, 26, 44, 22, 92, 58, 45, 42, 65, 1, 35, 88, 93, 28, 82, 41, 4], [95, 6, 79, 29, 86, 87, 64, 20, 55, 56, 3, 67, 36, 30, 52, 76, 77, 24, 15, 7, 18, 14, 42, 43, 51, 72, 22, 13, 57, 70, 84, 44, 16, 35, 90, 37, 10, 60, 94, 33, 73, 82, 2, 96, 59, 81, 69, 98, 65, 78], [24, 96, 38, 46, 23, 60, 20, 54, 98, 64, 19, 74, 85, 13, 67, 8, 45, 33, 69, 36, 77, 92, 28, 25, 51, 11, 16, 12, 1, 75, 57, 27, 78, 6, 97, 14, 88, 40, 35, 18, 47, 32, 79, 89, 2, 90, 86, 5, 93, 31]]\n"
     ]
    }
   ],
   "source": [
    "import random\n",
    "n = [random.sample(range(1,100),50) for var in range(50)]\n",
    "print(n)"
   ]
  },
  {
   "cell_type": "code",
   "execution_count": 113,
   "metadata": {},
   "outputs": [],
   "source": [
    "j = []\n",
    "for var in n:\n",
    "    j.extend(var)"
   ]
  },
  {
   "cell_type": "code",
   "execution_count": 116,
   "metadata": {},
   "outputs": [
    {
     "name": "stdout",
     "output_type": "stream",
     "text": [
      "2500\n"
     ]
    }
   ],
   "source": [
    "print(len(j))"
   ]
  },
  {
   "cell_type": "code",
   "execution_count": 119,
   "metadata": {},
   "outputs": [],
   "source": [
    "j.sort(reverse=True)"
   ]
  },
  {
   "cell_type": "code",
   "execution_count": 120,
   "metadata": {
    "collapsed": true
   },
   "outputs": [
    {
     "name": "stdout",
     "output_type": "stream",
     "text": [
      "[99, 99, 99, 99, 99, 99, 99, 99, 99, 99, 99, 99, 99, 99, 99, 99, 99, 99, 99, 99, 99, 99, 99, 99, 98, 98, 98, 98, 98, 98, 98, 98, 98, 98, 98, 98, 98, 98, 98, 98, 98, 98, 98, 98, 98, 98, 98, 98, 98, 98, 98, 98, 98, 98, 97, 97, 97, 97, 97, 97, 97, 97, 97, 97, 97, 97, 97, 97, 97, 97, 97, 97, 97, 97, 96, 96, 96, 96, 96, 96, 96, 96, 96, 96, 96, 96, 96, 96, 96, 96, 96, 96, 96, 96, 96, 96, 96, 96, 95, 95, 95, 95, 95, 95, 95, 95, 95, 95, 95, 95, 95, 95, 95, 95, 95, 95, 95, 95, 95, 95, 95, 95, 95, 95, 94, 94, 94, 94, 94, 94, 94, 94, 94, 94, 94, 94, 94, 94, 94, 94, 94, 94, 94, 94, 94, 94, 93, 93, 93, 93, 93, 93, 93, 93, 93, 93, 93, 93, 93, 93, 93, 93, 93, 93, 93, 93, 93, 93, 93, 93, 93, 93, 93, 93, 93, 92, 92, 92, 92, 92, 92, 92, 92, 92, 92, 92, 92, 92, 92, 92, 92, 92, 92, 92, 92, 92, 92, 92, 92, 92, 92, 92, 91, 91, 91, 91, 91, 91, 91, 91, 91, 91, 91, 91, 91, 91, 91, 91, 91, 91, 91, 91, 91, 91, 91, 91, 91, 91, 90, 90, 90, 90, 90, 90, 90, 90, 90, 90, 90, 90, 90, 90, 90, 90, 90, 90, 90, 90, 90, 90, 90, 90, 90, 90, 90, 90, 90, 89, 89, 89, 89, 89, 89, 89, 89, 89, 89, 89, 89, 89, 89, 89, 89, 89, 89, 89, 89, 89, 88, 88, 88, 88, 88, 88, 88, 88, 88, 88, 88, 88, 88, 88, 88, 88, 88, 88, 88, 88, 88, 88, 88, 88, 87, 87, 87, 87, 87, 87, 87, 87, 87, 87, 87, 87, 87, 87, 87, 87, 87, 87, 87, 87, 87, 87, 87, 87, 86, 86, 86, 86, 86, 86, 86, 86, 86, 86, 86, 86, 86, 86, 86, 86, 86, 86, 86, 86, 86, 86, 86, 86, 86, 85, 85, 85, 85, 85, 85, 85, 85, 85, 85, 85, 85, 85, 85, 85, 85, 85, 85, 85, 85, 85, 85, 85, 85, 84, 84, 84, 84, 84, 84, 84, 84, 84, 84, 84, 84, 84, 84, 84, 84, 84, 84, 84, 84, 84, 83, 83, 83, 83, 83, 83, 83, 83, 83, 83, 83, 83, 83, 83, 83, 83, 83, 83, 83, 83, 83, 83, 83, 83, 83, 83, 83, 82, 82, 82, 82, 82, 82, 82, 82, 82, 82, 82, 82, 82, 82, 82, 82, 82, 82, 82, 82, 82, 82, 82, 82, 82, 82, 82, 82, 81, 81, 81, 81, 81, 81, 81, 81, 81, 81, 81, 81, 81, 81, 81, 81, 81, 81, 81, 80, 80, 80, 80, 80, 80, 80, 80, 80, 80, 80, 80, 80, 80, 80, 80, 80, 80, 80, 80, 80, 80, 80, 80, 80, 80, 80, 80, 80, 79, 79, 79, 79, 79, 79, 79, 79, 79, 79, 79, 79, 79, 79, 79, 79, 79, 79, 79, 79, 79, 79, 79, 79, 79, 79, 79, 78, 78, 78, 78, 78, 78, 78, 78, 78, 78, 78, 78, 78, 78, 78, 78, 78, 78, 78, 78, 78, 78, 78, 77, 77, 77, 77, 77, 77, 77, 77, 77, 77, 77, 77, 77, 77, 77, 77, 77, 77, 77, 77, 77, 77, 77, 77, 77, 77, 77, 76, 76, 76, 76, 76, 76, 76, 76, 76, 76, 76, 76, 76, 76, 76, 76, 76, 76, 76, 76, 76, 76, 76, 76, 76, 76, 76, 76, 76, 76, 75, 75, 75, 75, 75, 75, 75, 75, 75, 75, 75, 75, 75, 75, 75, 75, 75, 75, 75, 75, 75, 75, 75, 75, 74, 74, 74, 74, 74, 74, 74, 74, 74, 74, 74, 74, 74, 74, 74, 74, 74, 74, 74, 74, 74, 74, 74, 74, 74, 73, 73, 73, 73, 73, 73, 73, 73, 73, 73, 73, 73, 73, 73, 73, 73, 73, 73, 73, 73, 73, 73, 73, 72, 72, 72, 72, 72, 72, 72, 72, 72, 72, 72, 72, 72, 72, 72, 72, 72, 72, 72, 72, 72, 72, 72, 72, 72, 72, 72, 72, 71, 71, 71, 71, 71, 71, 71, 71, 71, 71, 71, 71, 71, 71, 71, 71, 71, 71, 71, 71, 71, 71, 71, 71, 71, 71, 71, 71, 71, 70, 70, 70, 70, 70, 70, 70, 70, 70, 70, 70, 70, 70, 70, 70, 70, 70, 70, 70, 70, 70, 70, 70, 69, 69, 69, 69, 69, 69, 69, 69, 69, 69, 69, 69, 69, 69, 69, 69, 69, 69, 69, 69, 69, 68, 68, 68, 68, 68, 68, 68, 68, 68, 68, 68, 68, 68, 68, 68, 68, 68, 68, 68, 68, 68, 68, 68, 68, 68, 68, 68, 68, 68, 68, 68, 68, 68, 67, 67, 67, 67, 67, 67, 67, 67, 67, 67, 67, 67, 67, 67, 67, 67, 67, 67, 67, 67, 67, 67, 67, 67, 67, 67, 66, 66, 66, 66, 66, 66, 66, 66, 66, 66, 66, 66, 66, 66, 66, 66, 66, 66, 66, 66, 66, 66, 66, 66, 66, 66, 66, 65, 65, 65, 65, 65, 65, 65, 65, 65, 65, 65, 65, 65, 65, 65, 65, 65, 65, 65, 65, 65, 65, 65, 65, 65, 65, 65, 65, 64, 64, 64, 64, 64, 64, 64, 64, 64, 64, 64, 64, 64, 64, 64, 64, 64, 64, 64, 64, 64, 64, 64, 64, 64, 64, 64, 64, 64, 64, 63, 63, 63, 63, 63, 63, 63, 63, 63, 63, 63, 63, 63, 63, 63, 63, 63, 63, 63, 63, 63, 63, 63, 63, 63, 63, 63, 62, 62, 62, 62, 62, 62, 62, 62, 62, 62, 62, 62, 62, 62, 62, 62, 62, 62, 62, 62, 62, 62, 62, 62, 62, 62, 62, 62, 62, 62, 62, 61, 61, 61, 61, 61, 61, 61, 61, 61, 61, 61, 61, 61, 61, 61, 61, 61, 61, 61, 61, 61, 61, 61, 61, 61, 60, 60, 60, 60, 60, 60, 60, 60, 60, 60, 60, 60, 60, 60, 60, 60, 60, 60, 60, 60, 60, 60, 60, 60, 60, 60, 59, 59, 59, 59, 59, 59, 59, 59, 59, 59, 59, 59, 59, 59, 59, 59, 59, 59, 59, 59, 59, 59, 58, 58, 58, 58, 58, 58, 58, 58, 58, 58, 58, 58, 58, 58, 58, 58, 58, 58, 58, 58, 58, 58, 58, 58, 58, 58, 57, 57, 57, 57, 57, 57, 57, 57, 57, 57, 57, 57, 57, 57, 57, 57, 57, 57, 57, 57, 57, 57, 57, 57, 57, 57, 57, 57, 57, 56, 56, 56, 56, 56, 56, 56, 56, 56, 56, 56, 56, 56, 56, 56, 56, 56, 56, 56, 56, 56, 56, 56, 56, 56, 56, 56, 55, 55, 55, 55, 55, 55, 55, 55, 55, 55, 55, 55, 55, 55, 55, 55, 55, 55, 55, 55, 55, 55, 55, 55, 55, 54, 54, 54, 54, 54, 54, 54, 54, 54, 54, 54, 54, 54, 54, 54, 54, 54, 54, 54, 54, 54, 53, 53, 53, 53, 53, 53, 53, 53, 53, 53, 53, 53, 53, 53, 53, 53, 53, 53, 53, 53, 53, 53, 53, 53, 52, 52, 52, 52, 52, 52, 52, 52, 52, 52, 52, 52, 52, 52, 52, 52, 52, 52, 52, 52, 52, 52, 52, 52, 52, 52, 52, 51, 51, 51, 51, 51, 51, 51, 51, 51, 51, 51, 51, 51, 51, 51, 51, 51, 51, 51, 51, 51, 51, 51, 51, 51, 51, 51, 51, 51, 51, 51, 50, 50, 50, 50, 50, 50, 50, 50, 50, 50, 50, 50, 50, 50, 50, 50, 50, 49, 49, 49, 49, 49, 49, 49, 49, 49, 49, 49, 49, 49, 49, 49, 49, 49, 49, 48, 48, 48, 48, 48, 48, 48, 48, 48, 48, 48, 48, 48, 48, 48, 48, 48, 48, 48, 48, 48, 48, 48, 48, 48, 47, 47, 47, 47, 47, 47, 47, 47, 47, 47, 47, 47, 47, 47, 47, 47, 47, 47, 47, 47, 47, 47, 46, 46, 46, 46, 46, 46, 46, 46, 46, 46, 46, 46, 46, 46, 46, 46, 46, 46, 46, 46, 46, 46, 46, 46, 46, 46, 46, 46, 46, 46, 46, 46, 46, 46, 46, 46, 45, 45, 45, 45, 45, 45, 45, 45, 45, 45, 45, 45, 45, 45, 45, 45, 45, 45, 45, 45, 44, 44, 44, 44, 44, 44, 44, 44, 44, 44, 44, 44, 44, 44, 44, 44, 44, 44, 44, 44, 44, 44, 43, 43, 43, 43, 43, 43, 43, 43, 43, 43, 43, 43, 43, 43, 43, 43, 43, 43, 43, 43, 43, 43, 42, 42, 42, 42, 42, 42, 42, 42, 42, 42, 42, 42, 42, 42, 42, 42, 42, 42, 42, 42, 42, 42, 42, 42, 42, 42, 42, 42, 42, 41, 41, 41, 41, 41, 41, 41, 41, 41, 41, 41, 41, 41, 41, 41, 41, 41, 41, 41, 41, 41, 41, 40, 40, 40, 40, 40, 40, 40, 40, 40, 40, 40, 40, 40, 40, 40, 40, 40, 40, 40, 40, 40, 40, 40, 40, 40, 40, 40, 39, 39, 39, 39, 39, 39, 39, 39, 39, 39, 39, 39, 39, 39, 39, 39, 39, 39, 39, 39, 39, 39, 39, 39, 38, 38, 38, 38, 38, 38, 38, 38, 38, 38, 38, 38, 38, 38, 38, 38, 38, 38, 38, 38, 38, 38, 38, 38, 38, 38, 38, 37, 37, 37, 37, 37, 37, 37, 37, 37, 37, 37, 37, 37, 37, 37, 37, 37, 37, 37, 37, 37, 37, 37, 37, 37, 37, 37, 36, 36, 36, 36, 36, 36, 36, 36, 36, 36, 36, 36, 36, 36, 36, 36, 36, 36, 36, 36, 36, 35, 35, 35, 35, 35, 35, 35, 35, 35, 35, 35, 35, 35, 35, 35, 35, 35, 35, 35, 35, 35, 35, 35, 35, 35, 35, 34, 34, 34, 34, 34, 34, 34, 34, 34, 34, 34, 34, 34, 34, 34, 34, 34, 34, 34, 34, 34, 34, 34, 34, 33, 33, 33, 33, 33, 33, 33, 33, 33, 33, 33, 33, 33, 33, 33, 33, 33, 32, 32, 32, 32, 32, 32, 32, 32, 32, 32, 32, 32, 32, 32, 32, 32, 32, 32, 32, 32, 32, 32, 31, 31, 31, 31, 31, 31, 31, 31, 31, 31, 31, 31, 31, 31, 31, 31, 31, 31, 31, 31, 31, 31, 31, 31, 31, 31, 31, 31, 31, 30, 30, 30, 30, 30, 30, 30, 30, 30, 30, 30, 30, 30, 30, 30, 30, 30, 30, 30, 30, 30, 30, 30, 29, 29, 29, 29, 29, 29, 29, 29, 29, 29, 29, 29, 29, 29, 29, 29, 29, 29, 29, 29, 29, 29, 29, 29, 29, 29, 29, 29, 29, 29, 28, 28, 28, 28, 28, 28, 28, 28, 28, 28, 28, 28, 28, 28, 28, 28, 28, 28, 28, 28, 28, 27, 27, 27, 27, 27, 27, 27, 27, 27, 27, 27, 27, 27, 27, 27, 27, 27, 27, 27, 27, 27, 27, 27, 27, 27, 27, 27, 26, 26, 26, 26, 26, 26, 26, 26, 26, 26, 26, 26, 26, 26, 26, 26, 26, 26, 26, 26, 26, 26, 26, 26, 26, 26, 26, 26, 25, 25, 25, 25, 25, 25, 25, 25, 25, 25, 25, 25, 25, 25, 25, 25, 25, 25, 25, 25, 25, 25, 25, 25, 25, 25, 24, 24, 24, 24, 24, 24, 24, 24, 24, 24, 24, 24, 24, 24, 24, 24, 24, 24, 24, 24, 24, 24, 24, 24, 24, 24, 24, 24, 23, 23, 23, 23, 23, 23, 23, 23, 23, 23, 23, 23, 23, 23, 23, 23, 23, 23, 23, 22, 22, 22, 22, 22, 22, 22, 22, 22, 22, 22, 22, 22, 22, 22, 22, 22, 22, 22, 22, 22, 22, 22, 22, 22, 22, 22, 21, 21, 21, 21, 21, 21, 21, 21, 21, 21, 21, 21, 21, 21, 21, 21, 21, 21, 21, 21, 21, 21, 21, 21, 21, 20, 20, 20, 20, 20, 20, 20, 20, 20, 20, 20, 20, 20, 20, 20, 20, 20, 20, 20, 20, 20, 20, 20, 20, 20, 20, 20, 19, 19, 19, 19, 19, 19, 19, 19, 19, 19, 19, 19, 19, 19, 19, 19, 19, 19, 19, 19, 19, 19, 19, 19, 19, 19, 18, 18, 18, 18, 18, 18, 18, 18, 18, 18, 18, 18, 18, 18, 18, 18, 18, 18, 18, 18, 18, 18, 18, 18, 18, 18, 18, 18, 18, 18, 17, 17, 17, 17, 17, 17, 17, 17, 17, 17, 17, 17, 17, 17, 17, 17, 17, 17, 17, 17, 17, 17, 17, 17, 16, 16, 16, 16, 16, 16, 16, 16, 16, 16, 16, 16, 16, 16, 16, 16, 16, 16, 16, 16, 16, 16, 16, 16, 16, 15, 15, 15, 15, 15, 15, 15, 15, 15, 15, 15, 15, 15, 15, 15, 15, 15, 15, 15, 15, 15, 15, 15, 15, 15, 15, 15, 14, 14, 14, 14, 14, 14, 14, 14, 14, 14, 14, 14, 14, 14, 14, 14, 14, 14, 14, 14, 14, 14, 13, 13, 13, 13, 13, 13, 13, 13, 13, 13, 13, 13, 13, 13, 13, 13, 13, 13, 13, 13, 13, 13, 13, 13, 13, 13, 13, 13, 12, 12, 12, 12, 12, 12, 12, 12, 12, 12, 12, 12, 12, 12, 12, 12, 12, 12, 12, 12, 12, 11, 11, 11, 11, 11, 11, 11, 11, 11, 11, 11, 11, 11, 11, 11, 11, 11, 11, 11, 11, 11, 11, 11, 11, 11, 11, 10, 10, 10, 10, 10, 10, 10, 10, 10, 10, 10, 10, 10, 10, 10, 10, 10, 10, 10, 10, 10, 10, 10, 10, 10, 10, 10, 10, 9, 9, 9, 9, 9, 9, 9, 9, 9, 9, 9, 9, 9, 9, 9, 9, 9, 9, 9, 9, 9, 9, 9, 9, 9, 9, 9, 8, 8, 8, 8, 8, 8, 8, 8, 8, 8, 8, 8, 8, 8, 8, 8, 8, 8, 8, 8, 8, 8, 8, 8, 7, 7, 7, 7, 7, 7, 7, 7, 7, 7, 7, 7, 7, 7, 7, 7, 7, 7, 7, 7, 7, 7, 7, 7, 7, 6, 6, 6, 6, 6, 6, 6, 6, 6, 6, 6, 6, 6, 6, 6, 6, 6, 6, 6, 6, 6, 6, 5, 5, 5, 5, 5, 5, 5, 5, 5, 5, 5, 5, 5, 5, 5, 5, 5, 5, 5, 5, 5, 5, 5, 5, 5, 5, 5, 4, 4, 4, 4, 4, 4, 4, 4, 4, 4, 4, 4, 4, 4, 4, 4, 4, 4, 4, 4, 4, 4, 3, 3, 3, 3, 3, 3, 3, 3, 3, 3, 3, 3, 3, 3, 3, 3, 3, 3, 3, 3, 3, 3, 3, 2, 2, 2, 2, 2, 2, 2, 2, 2, 2, 2, 2, 2, 2, 2, 2, 2, 2, 2, 2, 2, 2, 2, 2, 2, 2, 1, 1, 1, 1, 1, 1, 1, 1, 1, 1, 1, 1, 1, 1, 1, 1, 1, 1, 1, 1, 1, 1, 1, 1, 1]\n"
     ]
    }
   ],
   "source": [
    "print(j)"
   ]
  },
  {
   "cell_type": "code",
   "execution_count": 1,
   "metadata": {},
   "outputs": [],
   "source": [
    "d = {\n",
    "    'name':'python',\n",
    "    'verion':3.7,\n",
    "    'creator':'guido van rossum'\n",
    "}"
   ]
  },
  {
   "cell_type": "code",
   "execution_count": 2,
   "metadata": {},
   "outputs": [],
   "source": [
    "di = {\n",
    "    'data_science':['numpy','pandas','matplot','seaborn'],\n",
    "    'softwares':['kiwi','tkinter'],\n",
    "    'big_data':['pyspark','pig','hdfs'],\n",
    "    'machine_lear':['scikitlearn','scipy']\n",
    "}"
   ]
  },
  {
   "cell_type": "code",
   "execution_count": 5,
   "metadata": {},
   "outputs": [
    {
     "data": {
      "text/plain": [
       "'el ol'"
      ]
     },
     "execution_count": 5,
     "metadata": {},
     "output_type": "execute_result"
    }
   ],
   "source": [
    "p = 'hello world'\n",
    "p[-10:100:2]"
   ]
  }
 ],
 "metadata": {
  "kernelspec": {
   "display_name": "Python 3",
   "language": "python",
   "name": "python3"
  },
  "language_info": {
   "codemirror_mode": {
    "name": "ipython",
    "version": 3
   },
   "file_extension": ".py",
   "mimetype": "text/x-python",
   "name": "python",
   "nbconvert_exporter": "python",
   "pygments_lexer": "ipython3",
   "version": "3.6.5"
  }
 },
 "nbformat": 4,
 "nbformat_minor": 2
}
