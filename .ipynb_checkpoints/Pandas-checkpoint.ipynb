{
 "cells": [
  {
   "cell_type": "code",
   "execution_count": 1,
   "metadata": {},
   "outputs": [],
   "source": [
    "import pandas as pd\n",
    "import numpy as np\n",
    "import matplotlib.pyplot as plt\n",
    "from decimal import Decimal\n",
    "%matplotlib inline"
   ]
  },
  {
   "cell_type": "code",
   "execution_count": 2,
   "metadata": {},
   "outputs": [],
   "source": [
    "s = pd.Series(['ajay','mohit','sahil',np.nan,'yogi','viyogi','nirogi'])"
   ]
  },
  {
   "cell_type": "code",
   "execution_count": 3,
   "metadata": {},
   "outputs": [
    {
     "data": {
      "text/plain": [
       "0      ajay\n",
       "1     mohit\n",
       "2     sahil\n",
       "3       NaN\n",
       "4      yogi\n",
       "5    viyogi\n",
       "6    nirogi\n",
       "dtype: object"
      ]
     },
     "execution_count": 3,
     "metadata": {},
     "output_type": "execute_result"
    }
   ],
   "source": [
    "s"
   ]
  },
  {
   "cell_type": "code",
   "execution_count": 4,
   "metadata": {},
   "outputs": [],
   "source": [
    "df = {\n",
    "    'Name' : ['sachin','tanvi','vijay','rajesh','garima','akhilesh','ajay','priya','rohit','mohit'],\n",
    "    'Age'  : [25,23,45,54,56,76,23,32,34,54],\n",
    "    'Sex'  : ['male','female','male','male','female','male','male','female','male','male'],\n",
    "    'Maths': [54,65,67,87,56,65,45,65,67,45],\n",
    "    'Phy'  : [65,45,65,45,54,87,56,67,98,56],\n",
    "    'Hindi': [66,54,65,56,656,65,76,87,87,78]\n",
    "}"
   ]
  },
  {
   "cell_type": "code",
   "execution_count": 6,
   "metadata": {},
   "outputs": [],
   "source": [
    "df = pd.DataFrame(df)"
   ]
  },
  {
   "cell_type": "code",
   "execution_count": 7,
   "metadata": {},
   "outputs": [
    {
     "data": {
      "text/html": [
       "<div>\n",
       "<style scoped>\n",
       "    .dataframe tbody tr th:only-of-type {\n",
       "        vertical-align: middle;\n",
       "    }\n",
       "\n",
       "    .dataframe tbody tr th {\n",
       "        vertical-align: top;\n",
       "    }\n",
       "\n",
       "    .dataframe thead th {\n",
       "        text-align: right;\n",
       "    }\n",
       "</style>\n",
       "<table border=\"1\" class=\"dataframe\">\n",
       "  <thead>\n",
       "    <tr style=\"text-align: right;\">\n",
       "      <th></th>\n",
       "      <th>Name</th>\n",
       "      <th>Age</th>\n",
       "      <th>Sex</th>\n",
       "      <th>Maths</th>\n",
       "      <th>Phy</th>\n",
       "      <th>Hindi</th>\n",
       "    </tr>\n",
       "  </thead>\n",
       "  <tbody>\n",
       "    <tr>\n",
       "      <th>0</th>\n",
       "      <td>sachin</td>\n",
       "      <td>25</td>\n",
       "      <td>male</td>\n",
       "      <td>54</td>\n",
       "      <td>65</td>\n",
       "      <td>66</td>\n",
       "    </tr>\n",
       "    <tr>\n",
       "      <th>1</th>\n",
       "      <td>tanvi</td>\n",
       "      <td>23</td>\n",
       "      <td>female</td>\n",
       "      <td>65</td>\n",
       "      <td>45</td>\n",
       "      <td>54</td>\n",
       "    </tr>\n",
       "    <tr>\n",
       "      <th>2</th>\n",
       "      <td>vijay</td>\n",
       "      <td>45</td>\n",
       "      <td>male</td>\n",
       "      <td>67</td>\n",
       "      <td>65</td>\n",
       "      <td>65</td>\n",
       "    </tr>\n",
       "    <tr>\n",
       "      <th>3</th>\n",
       "      <td>rajesh</td>\n",
       "      <td>54</td>\n",
       "      <td>male</td>\n",
       "      <td>87</td>\n",
       "      <td>45</td>\n",
       "      <td>56</td>\n",
       "    </tr>\n",
       "    <tr>\n",
       "      <th>4</th>\n",
       "      <td>garima</td>\n",
       "      <td>56</td>\n",
       "      <td>female</td>\n",
       "      <td>56</td>\n",
       "      <td>54</td>\n",
       "      <td>656</td>\n",
       "    </tr>\n",
       "    <tr>\n",
       "      <th>5</th>\n",
       "      <td>akhilesh</td>\n",
       "      <td>76</td>\n",
       "      <td>male</td>\n",
       "      <td>65</td>\n",
       "      <td>87</td>\n",
       "      <td>65</td>\n",
       "    </tr>\n",
       "    <tr>\n",
       "      <th>6</th>\n",
       "      <td>ajay</td>\n",
       "      <td>23</td>\n",
       "      <td>male</td>\n",
       "      <td>45</td>\n",
       "      <td>56</td>\n",
       "      <td>76</td>\n",
       "    </tr>\n",
       "    <tr>\n",
       "      <th>7</th>\n",
       "      <td>priya</td>\n",
       "      <td>32</td>\n",
       "      <td>female</td>\n",
       "      <td>65</td>\n",
       "      <td>67</td>\n",
       "      <td>87</td>\n",
       "    </tr>\n",
       "    <tr>\n",
       "      <th>8</th>\n",
       "      <td>rohit</td>\n",
       "      <td>34</td>\n",
       "      <td>male</td>\n",
       "      <td>67</td>\n",
       "      <td>98</td>\n",
       "      <td>87</td>\n",
       "    </tr>\n",
       "    <tr>\n",
       "      <th>9</th>\n",
       "      <td>mohit</td>\n",
       "      <td>54</td>\n",
       "      <td>male</td>\n",
       "      <td>45</td>\n",
       "      <td>56</td>\n",
       "      <td>78</td>\n",
       "    </tr>\n",
       "  </tbody>\n",
       "</table>\n",
       "</div>"
      ],
      "text/plain": [
       "       Name  Age     Sex  Maths  Phy  Hindi\n",
       "0    sachin   25    male     54   65     66\n",
       "1     tanvi   23  female     65   45     54\n",
       "2     vijay   45    male     67   65     65\n",
       "3    rajesh   54    male     87   45     56\n",
       "4    garima   56  female     56   54    656\n",
       "5  akhilesh   76    male     65   87     65\n",
       "6      ajay   23    male     45   56     76\n",
       "7     priya   32  female     65   67     87\n",
       "8     rohit   34    male     67   98     87\n",
       "9     mohit   54    male     45   56     78"
      ]
     },
     "execution_count": 7,
     "metadata": {},
     "output_type": "execute_result"
    }
   ],
   "source": [
    "df"
   ]
  },
  {
   "cell_type": "code",
   "execution_count": 8,
   "metadata": {},
   "outputs": [
    {
     "name": "stdout",
     "output_type": "stream",
     "text": [
      "<class 'pandas.core.frame.DataFrame'>\n",
      "RangeIndex: 10 entries, 0 to 9\n",
      "Data columns (total 6 columns):\n",
      "Name     10 non-null object\n",
      "Age      10 non-null int64\n",
      "Sex      10 non-null object\n",
      "Maths    10 non-null int64\n",
      "Phy      10 non-null int64\n",
      "Hindi    10 non-null int64\n",
      "dtypes: int64(4), object(2)\n",
      "memory usage: 560.0+ bytes\n"
     ]
    }
   ],
   "source": [
    "df.info()"
   ]
  },
  {
   "cell_type": "code",
   "execution_count": 9,
   "metadata": {},
   "outputs": [
    {
     "data": {
      "text/html": [
       "<div>\n",
       "<style scoped>\n",
       "    .dataframe tbody tr th:only-of-type {\n",
       "        vertical-align: middle;\n",
       "    }\n",
       "\n",
       "    .dataframe tbody tr th {\n",
       "        vertical-align: top;\n",
       "    }\n",
       "\n",
       "    .dataframe thead th {\n",
       "        text-align: right;\n",
       "    }\n",
       "</style>\n",
       "<table border=\"1\" class=\"dataframe\">\n",
       "  <thead>\n",
       "    <tr style=\"text-align: right;\">\n",
       "      <th></th>\n",
       "      <th>Age</th>\n",
       "      <th>Maths</th>\n",
       "      <th>Phy</th>\n",
       "      <th>Hindi</th>\n",
       "    </tr>\n",
       "  </thead>\n",
       "  <tbody>\n",
       "    <tr>\n",
       "      <th>count</th>\n",
       "      <td>10.000000</td>\n",
       "      <td>10.000000</td>\n",
       "      <td>10.000000</td>\n",
       "      <td>10.000000</td>\n",
       "    </tr>\n",
       "    <tr>\n",
       "      <th>mean</th>\n",
       "      <td>42.200000</td>\n",
       "      <td>61.600000</td>\n",
       "      <td>63.800000</td>\n",
       "      <td>129.000000</td>\n",
       "    </tr>\n",
       "    <tr>\n",
       "      <th>std</th>\n",
       "      <td>17.712519</td>\n",
       "      <td>12.375603</td>\n",
       "      <td>17.145132</td>\n",
       "      <td>185.526877</td>\n",
       "    </tr>\n",
       "    <tr>\n",
       "      <th>min</th>\n",
       "      <td>23.000000</td>\n",
       "      <td>45.000000</td>\n",
       "      <td>45.000000</td>\n",
       "      <td>54.000000</td>\n",
       "    </tr>\n",
       "    <tr>\n",
       "      <th>25%</th>\n",
       "      <td>26.750000</td>\n",
       "      <td>54.500000</td>\n",
       "      <td>54.500000</td>\n",
       "      <td>65.000000</td>\n",
       "    </tr>\n",
       "    <tr>\n",
       "      <th>50%</th>\n",
       "      <td>39.500000</td>\n",
       "      <td>65.000000</td>\n",
       "      <td>60.500000</td>\n",
       "      <td>71.000000</td>\n",
       "    </tr>\n",
       "    <tr>\n",
       "      <th>75%</th>\n",
       "      <td>54.000000</td>\n",
       "      <td>66.500000</td>\n",
       "      <td>66.500000</td>\n",
       "      <td>84.750000</td>\n",
       "    </tr>\n",
       "    <tr>\n",
       "      <th>max</th>\n",
       "      <td>76.000000</td>\n",
       "      <td>87.000000</td>\n",
       "      <td>98.000000</td>\n",
       "      <td>656.000000</td>\n",
       "    </tr>\n",
       "  </tbody>\n",
       "</table>\n",
       "</div>"
      ],
      "text/plain": [
       "             Age      Maths        Phy       Hindi\n",
       "count  10.000000  10.000000  10.000000   10.000000\n",
       "mean   42.200000  61.600000  63.800000  129.000000\n",
       "std    17.712519  12.375603  17.145132  185.526877\n",
       "min    23.000000  45.000000  45.000000   54.000000\n",
       "25%    26.750000  54.500000  54.500000   65.000000\n",
       "50%    39.500000  65.000000  60.500000   71.000000\n",
       "75%    54.000000  66.500000  66.500000   84.750000\n",
       "max    76.000000  87.000000  98.000000  656.000000"
      ]
     },
     "execution_count": 9,
     "metadata": {},
     "output_type": "execute_result"
    }
   ],
   "source": [
    "df.describe()"
   ]
  },
  {
   "cell_type": "code",
   "execution_count": 10,
   "metadata": {},
   "outputs": [
    {
     "data": {
      "text/plain": [
       "42.2"
      ]
     },
     "execution_count": 10,
     "metadata": {},
     "output_type": "execute_result"
    }
   ],
   "source": [
    "df['Age'].mean()"
   ]
  },
  {
   "cell_type": "code",
   "execution_count": 12,
   "metadata": {},
   "outputs": [
    {
     "data": {
      "text/html": [
       "<div>\n",
       "<style scoped>\n",
       "    .dataframe tbody tr th:only-of-type {\n",
       "        vertical-align: middle;\n",
       "    }\n",
       "\n",
       "    .dataframe tbody tr th {\n",
       "        vertical-align: top;\n",
       "    }\n",
       "\n",
       "    .dataframe thead th {\n",
       "        text-align: right;\n",
       "    }\n",
       "</style>\n",
       "<table border=\"1\" class=\"dataframe\">\n",
       "  <thead>\n",
       "    <tr style=\"text-align: right;\">\n",
       "      <th></th>\n",
       "      <th>Name</th>\n",
       "      <th>Age</th>\n",
       "      <th>Sex</th>\n",
       "      <th>Maths</th>\n",
       "      <th>Phy</th>\n",
       "      <th>Hindi</th>\n",
       "    </tr>\n",
       "  </thead>\n",
       "  <tbody>\n",
       "    <tr>\n",
       "      <th>0</th>\n",
       "      <td>sachin</td>\n",
       "      <td>25</td>\n",
       "      <td>male</td>\n",
       "      <td>54</td>\n",
       "      <td>65</td>\n",
       "      <td>66</td>\n",
       "    </tr>\n",
       "    <tr>\n",
       "      <th>1</th>\n",
       "      <td>tanvi</td>\n",
       "      <td>23</td>\n",
       "      <td>female</td>\n",
       "      <td>65</td>\n",
       "      <td>45</td>\n",
       "      <td>54</td>\n",
       "    </tr>\n",
       "    <tr>\n",
       "      <th>2</th>\n",
       "      <td>vijay</td>\n",
       "      <td>45</td>\n",
       "      <td>male</td>\n",
       "      <td>67</td>\n",
       "      <td>65</td>\n",
       "      <td>65</td>\n",
       "    </tr>\n",
       "  </tbody>\n",
       "</table>\n",
       "</div>"
      ],
      "text/plain": [
       "     Name  Age     Sex  Maths  Phy  Hindi\n",
       "0  sachin   25    male     54   65     66\n",
       "1   tanvi   23  female     65   45     54\n",
       "2   vijay   45    male     67   65     65"
      ]
     },
     "execution_count": 12,
     "metadata": {},
     "output_type": "execute_result"
    }
   ],
   "source": [
    "df.head(3)"
   ]
  },
  {
   "cell_type": "code",
   "execution_count": 15,
   "metadata": {},
   "outputs": [
    {
     "data": {
      "text/html": [
       "<div>\n",
       "<style scoped>\n",
       "    .dataframe tbody tr th:only-of-type {\n",
       "        vertical-align: middle;\n",
       "    }\n",
       "\n",
       "    .dataframe tbody tr th {\n",
       "        vertical-align: top;\n",
       "    }\n",
       "\n",
       "    .dataframe thead th {\n",
       "        text-align: right;\n",
       "    }\n",
       "</style>\n",
       "<table border=\"1\" class=\"dataframe\">\n",
       "  <thead>\n",
       "    <tr style=\"text-align: right;\">\n",
       "      <th></th>\n",
       "      <th>Name</th>\n",
       "      <th>Age</th>\n",
       "      <th>Sex</th>\n",
       "      <th>Maths</th>\n",
       "      <th>Phy</th>\n",
       "      <th>Hindi</th>\n",
       "    </tr>\n",
       "  </thead>\n",
       "  <tbody>\n",
       "    <tr>\n",
       "      <th>0</th>\n",
       "      <td>sachin</td>\n",
       "      <td>25</td>\n",
       "      <td>male</td>\n",
       "      <td>54</td>\n",
       "      <td>65</td>\n",
       "      <td>66</td>\n",
       "    </tr>\n",
       "    <tr>\n",
       "      <th>1</th>\n",
       "      <td>tanvi</td>\n",
       "      <td>23</td>\n",
       "      <td>female</td>\n",
       "      <td>65</td>\n",
       "      <td>45</td>\n",
       "      <td>54</td>\n",
       "    </tr>\n",
       "    <tr>\n",
       "      <th>2</th>\n",
       "      <td>vijay</td>\n",
       "      <td>45</td>\n",
       "      <td>male</td>\n",
       "      <td>67</td>\n",
       "      <td>65</td>\n",
       "      <td>65</td>\n",
       "    </tr>\n",
       "    <tr>\n",
       "      <th>3</th>\n",
       "      <td>rajesh</td>\n",
       "      <td>54</td>\n",
       "      <td>male</td>\n",
       "      <td>87</td>\n",
       "      <td>45</td>\n",
       "      <td>56</td>\n",
       "    </tr>\n",
       "    <tr>\n",
       "      <th>4</th>\n",
       "      <td>garima</td>\n",
       "      <td>56</td>\n",
       "      <td>female</td>\n",
       "      <td>56</td>\n",
       "      <td>54</td>\n",
       "      <td>656</td>\n",
       "    </tr>\n",
       "    <tr>\n",
       "      <th>5</th>\n",
       "      <td>akhilesh</td>\n",
       "      <td>76</td>\n",
       "      <td>male</td>\n",
       "      <td>65</td>\n",
       "      <td>87</td>\n",
       "      <td>65</td>\n",
       "    </tr>\n",
       "    <tr>\n",
       "      <th>6</th>\n",
       "      <td>ajay</td>\n",
       "      <td>23</td>\n",
       "      <td>male</td>\n",
       "      <td>45</td>\n",
       "      <td>56</td>\n",
       "      <td>76</td>\n",
       "    </tr>\n",
       "    <tr>\n",
       "      <th>7</th>\n",
       "      <td>priya</td>\n",
       "      <td>32</td>\n",
       "      <td>female</td>\n",
       "      <td>65</td>\n",
       "      <td>67</td>\n",
       "      <td>87</td>\n",
       "    </tr>\n",
       "    <tr>\n",
       "      <th>8</th>\n",
       "      <td>rohit</td>\n",
       "      <td>34</td>\n",
       "      <td>male</td>\n",
       "      <td>67</td>\n",
       "      <td>98</td>\n",
       "      <td>87</td>\n",
       "    </tr>\n",
       "    <tr>\n",
       "      <th>9</th>\n",
       "      <td>mohit</td>\n",
       "      <td>54</td>\n",
       "      <td>male</td>\n",
       "      <td>45</td>\n",
       "      <td>56</td>\n",
       "      <td>78</td>\n",
       "    </tr>\n",
       "  </tbody>\n",
       "</table>\n",
       "</div>"
      ],
      "text/plain": [
       "       Name  Age     Sex  Maths  Phy  Hindi\n",
       "0    sachin   25    male     54   65     66\n",
       "1     tanvi   23  female     65   45     54\n",
       "2     vijay   45    male     67   65     65\n",
       "3    rajesh   54    male     87   45     56\n",
       "4    garima   56  female     56   54    656\n",
       "5  akhilesh   76    male     65   87     65\n",
       "6      ajay   23    male     45   56     76\n",
       "7     priya   32  female     65   67     87\n",
       "8     rohit   34    male     67   98     87\n",
       "9     mohit   54    male     45   56     78"
      ]
     },
     "execution_count": 15,
     "metadata": {},
     "output_type": "execute_result"
    }
   ],
   "source": [
    "df.tail(10)"
   ]
  },
  {
   "cell_type": "code",
   "execution_count": 18,
   "metadata": {},
   "outputs": [],
   "source": [
    "df['Total'] = df['Maths'] + df['Phy'] + df['Hindi']"
   ]
  },
  {
   "cell_type": "code",
   "execution_count": 25,
   "metadata": {},
   "outputs": [],
   "source": [
    "df['Avg'] = round(df['Total'] / 3,2)"
   ]
  },
  {
   "cell_type": "code",
   "execution_count": 26,
   "metadata": {},
   "outputs": [
    {
     "data": {
      "text/html": [
       "<div>\n",
       "<style scoped>\n",
       "    .dataframe tbody tr th:only-of-type {\n",
       "        vertical-align: middle;\n",
       "    }\n",
       "\n",
       "    .dataframe tbody tr th {\n",
       "        vertical-align: top;\n",
       "    }\n",
       "\n",
       "    .dataframe thead th {\n",
       "        text-align: right;\n",
       "    }\n",
       "</style>\n",
       "<table border=\"1\" class=\"dataframe\">\n",
       "  <thead>\n",
       "    <tr style=\"text-align: right;\">\n",
       "      <th></th>\n",
       "      <th>Name</th>\n",
       "      <th>Age</th>\n",
       "      <th>Sex</th>\n",
       "      <th>Maths</th>\n",
       "      <th>Phy</th>\n",
       "      <th>Hindi</th>\n",
       "      <th>Total</th>\n",
       "      <th>Avg</th>\n",
       "    </tr>\n",
       "  </thead>\n",
       "  <tbody>\n",
       "    <tr>\n",
       "      <th>0</th>\n",
       "      <td>sachin</td>\n",
       "      <td>25</td>\n",
       "      <td>male</td>\n",
       "      <td>54</td>\n",
       "      <td>65</td>\n",
       "      <td>66</td>\n",
       "      <td>185</td>\n",
       "      <td>61.67</td>\n",
       "    </tr>\n",
       "    <tr>\n",
       "      <th>1</th>\n",
       "      <td>tanvi</td>\n",
       "      <td>23</td>\n",
       "      <td>female</td>\n",
       "      <td>65</td>\n",
       "      <td>45</td>\n",
       "      <td>54</td>\n",
       "      <td>164</td>\n",
       "      <td>54.67</td>\n",
       "    </tr>\n",
       "    <tr>\n",
       "      <th>2</th>\n",
       "      <td>vijay</td>\n",
       "      <td>45</td>\n",
       "      <td>male</td>\n",
       "      <td>67</td>\n",
       "      <td>65</td>\n",
       "      <td>65</td>\n",
       "      <td>197</td>\n",
       "      <td>65.67</td>\n",
       "    </tr>\n",
       "    <tr>\n",
       "      <th>3</th>\n",
       "      <td>rajesh</td>\n",
       "      <td>54</td>\n",
       "      <td>male</td>\n",
       "      <td>87</td>\n",
       "      <td>45</td>\n",
       "      <td>56</td>\n",
       "      <td>188</td>\n",
       "      <td>62.67</td>\n",
       "    </tr>\n",
       "    <tr>\n",
       "      <th>4</th>\n",
       "      <td>garima</td>\n",
       "      <td>56</td>\n",
       "      <td>female</td>\n",
       "      <td>56</td>\n",
       "      <td>54</td>\n",
       "      <td>656</td>\n",
       "      <td>766</td>\n",
       "      <td>255.33</td>\n",
       "    </tr>\n",
       "    <tr>\n",
       "      <th>5</th>\n",
       "      <td>akhilesh</td>\n",
       "      <td>76</td>\n",
       "      <td>male</td>\n",
       "      <td>65</td>\n",
       "      <td>87</td>\n",
       "      <td>65</td>\n",
       "      <td>217</td>\n",
       "      <td>72.33</td>\n",
       "    </tr>\n",
       "    <tr>\n",
       "      <th>6</th>\n",
       "      <td>ajay</td>\n",
       "      <td>23</td>\n",
       "      <td>male</td>\n",
       "      <td>45</td>\n",
       "      <td>56</td>\n",
       "      <td>76</td>\n",
       "      <td>177</td>\n",
       "      <td>59.00</td>\n",
       "    </tr>\n",
       "    <tr>\n",
       "      <th>7</th>\n",
       "      <td>priya</td>\n",
       "      <td>32</td>\n",
       "      <td>female</td>\n",
       "      <td>65</td>\n",
       "      <td>67</td>\n",
       "      <td>87</td>\n",
       "      <td>219</td>\n",
       "      <td>73.00</td>\n",
       "    </tr>\n",
       "    <tr>\n",
       "      <th>8</th>\n",
       "      <td>rohit</td>\n",
       "      <td>34</td>\n",
       "      <td>male</td>\n",
       "      <td>67</td>\n",
       "      <td>98</td>\n",
       "      <td>87</td>\n",
       "      <td>252</td>\n",
       "      <td>84.00</td>\n",
       "    </tr>\n",
       "    <tr>\n",
       "      <th>9</th>\n",
       "      <td>mohit</td>\n",
       "      <td>54</td>\n",
       "      <td>male</td>\n",
       "      <td>45</td>\n",
       "      <td>56</td>\n",
       "      <td>78</td>\n",
       "      <td>179</td>\n",
       "      <td>59.67</td>\n",
       "    </tr>\n",
       "  </tbody>\n",
       "</table>\n",
       "</div>"
      ],
      "text/plain": [
       "       Name  Age     Sex  Maths  Phy  Hindi  Total     Avg\n",
       "0    sachin   25    male     54   65     66    185   61.67\n",
       "1     tanvi   23  female     65   45     54    164   54.67\n",
       "2     vijay   45    male     67   65     65    197   65.67\n",
       "3    rajesh   54    male     87   45     56    188   62.67\n",
       "4    garima   56  female     56   54    656    766  255.33\n",
       "5  akhilesh   76    male     65   87     65    217   72.33\n",
       "6      ajay   23    male     45   56     76    177   59.00\n",
       "7     priya   32  female     65   67     87    219   73.00\n",
       "8     rohit   34    male     67   98     87    252   84.00\n",
       "9     mohit   54    male     45   56     78    179   59.67"
      ]
     },
     "execution_count": 26,
     "metadata": {},
     "output_type": "execute_result"
    }
   ],
   "source": [
    "df"
   ]
  },
  {
   "cell_type": "code",
   "execution_count": 32,
   "metadata": {},
   "outputs": [
    {
     "data": {
      "image/png": "[encoded data removed]",
      "text/plain": [
       "<Figure size 432x288 with 1 Axes>"
      ]
     },
     "metadata": {
      "needs_background": "light"
     },
     "output_type": "display_data"
    }
   ],
   "source": [
    "df.Sex.value_counts().plot(kind='bar',color=['r','b'])\n",
    "plt.show()"
   ]
  },
  {
   "cell_type": "code",
   "execution_count": 56,
   "metadata": {},
   "outputs": [],
   "source": [
    "date = pd.date_range('20191114',periods=15)"
   ]
  },
  {
   "cell_type": "code",
   "execution_count": 37,
   "metadata": {},
   "outputs": [
    {
     "data": {
      "text/plain": [
       "array([[0.41073431, 0.85618711, 0.80149397, 0.97940819, 0.76579414],\n",
       "       [0.91738087, 0.25497638, 0.12869312, 0.73830086, 0.69856048],\n",
       "       [0.14665459, 0.48818108, 0.51648195, 0.925532  , 0.77683237],\n",
       "       [0.81741218, 0.15515368, 0.60004061, 0.09755562, 0.33326418],\n",
       "       [0.77827277, 0.54956608, 0.57619025, 0.56820491, 0.61934926],\n",
       "       [0.64554703, 0.68262843, 0.23687928, 0.90256513, 0.52745633],\n",
       "       [0.65030072, 0.92946607, 0.2615843 , 0.73949198, 0.50869337]])"
      ]
     },
     "execution_count": 37,
     "metadata": {},
     "output_type": "execute_result"
    }
   ],
   "source": [
    "np.random.random(35).reshape(7,5)"
   ]
  },
  {
   "cell_type": "code",
   "execution_count": 39,
   "metadata": {},
   "outputs": [],
   "source": [
    "dff = pd.DataFrame(np.random.random(25).reshape(5,5),columns=list('ABCDE'),index=range(1,6))"
   ]
  },
  {
   "cell_type": "code",
   "execution_count": 40,
   "metadata": {},
   "outputs": [
    {
     "data": {
      "text/html": [
       "<div>\n",
       "<style scoped>\n",
       "    .dataframe tbody tr th:only-of-type {\n",
       "        vertical-align: middle;\n",
       "    }\n",
       "\n",
       "    .dataframe tbody tr th {\n",
       "        vertical-align: top;\n",
       "    }\n",
       "\n",
       "    .dataframe thead th {\n",
       "        text-align: right;\n",
       "    }\n",
       "</style>\n",
       "<table border=\"1\" class=\"dataframe\">\n",
       "  <thead>\n",
       "    <tr style=\"text-align: right;\">\n",
       "      <th></th>\n",
       "      <th>A</th>\n",
       "      <th>B</th>\n",
       "      <th>C</th>\n",
       "      <th>D</th>\n",
       "      <th>E</th>\n",
       "    </tr>\n",
       "  </thead>\n",
       "  <tbody>\n",
       "    <tr>\n",
       "      <th>1</th>\n",
       "      <td>0.622808</td>\n",
       "      <td>0.082366</td>\n",
       "      <td>0.066983</td>\n",
       "      <td>0.436862</td>\n",
       "      <td>0.083113</td>\n",
       "    </tr>\n",
       "    <tr>\n",
       "      <th>2</th>\n",
       "      <td>0.524830</td>\n",
       "      <td>0.547024</td>\n",
       "      <td>0.881191</td>\n",
       "      <td>0.399099</td>\n",
       "      <td>0.803779</td>\n",
       "    </tr>\n",
       "    <tr>\n",
       "      <th>3</th>\n",
       "      <td>0.769761</td>\n",
       "      <td>0.343029</td>\n",
       "      <td>0.889813</td>\n",
       "      <td>0.553542</td>\n",
       "      <td>0.954945</td>\n",
       "    </tr>\n",
       "    <tr>\n",
       "      <th>4</th>\n",
       "      <td>0.240758</td>\n",
       "      <td>0.050553</td>\n",
       "      <td>0.866990</td>\n",
       "      <td>0.055277</td>\n",
       "      <td>0.395485</td>\n",
       "    </tr>\n",
       "    <tr>\n",
       "      <th>5</th>\n",
       "      <td>0.583402</td>\n",
       "      <td>0.767145</td>\n",
       "      <td>0.901823</td>\n",
       "      <td>0.726283</td>\n",
       "      <td>0.557643</td>\n",
       "    </tr>\n",
       "  </tbody>\n",
       "</table>\n",
       "</div>"
      ],
      "text/plain": [
       "          A         B         C         D         E\n",
       "1  0.622808  0.082366  0.066983  0.436862  0.083113\n",
       "2  0.524830  0.547024  0.881191  0.399099  0.803779\n",
       "3  0.769761  0.343029  0.889813  0.553542  0.954945\n",
       "4  0.240758  0.050553  0.866990  0.055277  0.395485\n",
       "5  0.583402  0.767145  0.901823  0.726283  0.557643"
      ]
     },
     "execution_count": 40,
     "metadata": {},
     "output_type": "execute_result"
    }
   ],
   "source": [
    "dff"
   ]
  },
  {
   "cell_type": "code",
   "execution_count": 41,
   "metadata": {},
   "outputs": [],
   "source": [
    "dff1 = pd.DataFrame(np.random.random(25).reshape(5,5),columns=list('ABCDE'))"
   ]
  },
  {
   "cell_type": "code",
   "execution_count": 42,
   "metadata": {},
   "outputs": [
    {
     "data": {
      "text/html": [
       "<div>\n",
       "<style scoped>\n",
       "    .dataframe tbody tr th:only-of-type {\n",
       "        vertical-align: middle;\n",
       "    }\n",
       "\n",
       "    .dataframe tbody tr th {\n",
       "        vertical-align: top;\n",
       "    }\n",
       "\n",
       "    .dataframe thead th {\n",
       "        text-align: right;\n",
       "    }\n",
       "</style>\n",
       "<table border=\"1\" class=\"dataframe\">\n",
       "  <thead>\n",
       "    <tr style=\"text-align: right;\">\n",
       "      <th></th>\n",
       "      <th>A</th>\n",
       "      <th>B</th>\n",
       "      <th>C</th>\n",
       "      <th>D</th>\n",
       "      <th>E</th>\n",
       "    </tr>\n",
       "  </thead>\n",
       "  <tbody>\n",
       "    <tr>\n",
       "      <th>0</th>\n",
       "      <td>0.316259</td>\n",
       "      <td>0.247001</td>\n",
       "      <td>0.880708</td>\n",
       "      <td>0.630122</td>\n",
       "      <td>0.543919</td>\n",
       "    </tr>\n",
       "    <tr>\n",
       "      <th>1</th>\n",
       "      <td>0.320728</td>\n",
       "      <td>0.727336</td>\n",
       "      <td>0.484010</td>\n",
       "      <td>0.789572</td>\n",
       "      <td>0.335283</td>\n",
       "    </tr>\n",
       "    <tr>\n",
       "      <th>2</th>\n",
       "      <td>0.521812</td>\n",
       "      <td>0.368327</td>\n",
       "      <td>0.399319</td>\n",
       "      <td>0.117675</td>\n",
       "      <td>0.373201</td>\n",
       "    </tr>\n",
       "    <tr>\n",
       "      <th>3</th>\n",
       "      <td>0.657820</td>\n",
       "      <td>0.007798</td>\n",
       "      <td>0.947857</td>\n",
       "      <td>0.455065</td>\n",
       "      <td>0.427614</td>\n",
       "    </tr>\n",
       "    <tr>\n",
       "      <th>4</th>\n",
       "      <td>0.025269</td>\n",
       "      <td>0.807763</td>\n",
       "      <td>0.817116</td>\n",
       "      <td>0.314203</td>\n",
       "      <td>0.551683</td>\n",
       "    </tr>\n",
       "  </tbody>\n",
       "</table>\n",
       "</div>"
      ],
      "text/plain": [
       "          A         B         C         D         E\n",
       "0  0.316259  0.247001  0.880708  0.630122  0.543919\n",
       "1  0.320728  0.727336  0.484010  0.789572  0.335283\n",
       "2  0.521812  0.368327  0.399319  0.117675  0.373201\n",
       "3  0.657820  0.007798  0.947857  0.455065  0.427614\n",
       "4  0.025269  0.807763  0.817116  0.314203  0.551683"
      ]
     },
     "execution_count": 42,
     "metadata": {},
     "output_type": "execute_result"
    }
   ],
   "source": [
    "dff1"
   ]
  },
  {
   "cell_type": "code",
   "execution_count": 52,
   "metadata": {},
   "outputs": [],
   "source": [
    "dff = dff.append(dff1,ignore_index=True)"
   ]
  },
  {
   "cell_type": "code",
   "execution_count": 58,
   "metadata": {},
   "outputs": [],
   "source": [
    "dff.index = date[:10]"
   ]
  },
  {
   "cell_type": "code",
   "execution_count": 59,
   "metadata": {},
   "outputs": [
    {
     "data": {
      "text/html": [
       "<div>\n",
       "<style scoped>\n",
       "    .dataframe tbody tr th:only-of-type {\n",
       "        vertical-align: middle;\n",
       "    }\n",
       "\n",
       "    .dataframe tbody tr th {\n",
       "        vertical-align: top;\n",
       "    }\n",
       "\n",
       "    .dataframe thead th {\n",
       "        text-align: right;\n",
       "    }\n",
       "</style>\n",
       "<table border=\"1\" class=\"dataframe\">\n",
       "  <thead>\n",
       "    <tr style=\"text-align: right;\">\n",
       "      <th></th>\n",
       "      <th>A</th>\n",
       "      <th>B</th>\n",
       "      <th>C</th>\n",
       "      <th>D</th>\n",
       "      <th>E</th>\n",
       "    </tr>\n",
       "  </thead>\n",
       "  <tbody>\n",
       "    <tr>\n",
       "      <th>2019-11-14</th>\n",
       "      <td>0.622808</td>\n",
       "      <td>0.082366</td>\n",
       "      <td>0.066983</td>\n",
       "      <td>0.436862</td>\n",
       "      <td>0.083113</td>\n",
       "    </tr>\n",
       "    <tr>\n",
       "      <th>2019-11-15</th>\n",
       "      <td>0.524830</td>\n",
       "      <td>0.547024</td>\n",
       "      <td>0.881191</td>\n",
       "      <td>0.399099</td>\n",
       "      <td>0.803779</td>\n",
       "    </tr>\n",
       "    <tr>\n",
       "      <th>2019-11-16</th>\n",
       "      <td>0.769761</td>\n",
       "      <td>0.343029</td>\n",
       "      <td>0.889813</td>\n",
       "      <td>0.553542</td>\n",
       "      <td>0.954945</td>\n",
       "    </tr>\n",
       "    <tr>\n",
       "      <th>2019-11-17</th>\n",
       "      <td>0.240758</td>\n",
       "      <td>0.050553</td>\n",
       "      <td>0.866990</td>\n",
       "      <td>0.055277</td>\n",
       "      <td>0.395485</td>\n",
       "    </tr>\n",
       "    <tr>\n",
       "      <th>2019-11-18</th>\n",
       "      <td>0.583402</td>\n",
       "      <td>0.767145</td>\n",
       "      <td>0.901823</td>\n",
       "      <td>0.726283</td>\n",
       "      <td>0.557643</td>\n",
       "    </tr>\n",
       "    <tr>\n",
       "      <th>2019-11-19</th>\n",
       "      <td>0.316259</td>\n",
       "      <td>0.247001</td>\n",
       "      <td>0.880708</td>\n",
       "      <td>0.630122</td>\n",
       "      <td>0.543919</td>\n",
       "    </tr>\n",
       "    <tr>\n",
       "      <th>2019-11-20</th>\n",
       "      <td>0.320728</td>\n",
       "      <td>0.727336</td>\n",
       "      <td>0.484010</td>\n",
       "      <td>0.789572</td>\n",
       "      <td>0.335283</td>\n",
       "    </tr>\n",
       "    <tr>\n",
       "      <th>2019-11-21</th>\n",
       "      <td>0.521812</td>\n",
       "      <td>0.368327</td>\n",
       "      <td>0.399319</td>\n",
       "      <td>0.117675</td>\n",
       "      <td>0.373201</td>\n",
       "    </tr>\n",
       "    <tr>\n",
       "      <th>2019-11-22</th>\n",
       "      <td>0.657820</td>\n",
       "      <td>0.007798</td>\n",
       "      <td>0.947857</td>\n",
       "      <td>0.455065</td>\n",
       "      <td>0.427614</td>\n",
       "    </tr>\n",
       "    <tr>\n",
       "      <th>2019-11-23</th>\n",
       "      <td>0.025269</td>\n",
       "      <td>0.807763</td>\n",
       "      <td>0.817116</td>\n",
       "      <td>0.314203</td>\n",
       "      <td>0.551683</td>\n",
       "    </tr>\n",
       "  </tbody>\n",
       "</table>\n",
       "</div>"
      ],
      "text/plain": [
       "                   A         B         C         D         E\n",
       "2019-11-14  0.622808  0.082366  0.066983  0.436862  0.083113\n",
       "2019-11-15  0.524830  0.547024  0.881191  0.399099  0.803779\n",
       "2019-11-16  0.769761  0.343029  0.889813  0.553542  0.954945\n",
       "2019-11-17  0.240758  0.050553  0.866990  0.055277  0.395485\n",
       "2019-11-18  0.583402  0.767145  0.901823  0.726283  0.557643\n",
       "2019-11-19  0.316259  0.247001  0.880708  0.630122  0.543919\n",
       "2019-11-20  0.320728  0.727336  0.484010  0.789572  0.335283\n",
       "2019-11-21  0.521812  0.368327  0.399319  0.117675  0.373201\n",
       "2019-11-22  0.657820  0.007798  0.947857  0.455065  0.427614\n",
       "2019-11-23  0.025269  0.807763  0.817116  0.314203  0.551683"
      ]
     },
     "execution_count": 59,
     "metadata": {},
     "output_type": "execute_result"
    }
   ],
   "source": [
    "dff"
   ]
  },
  {
   "cell_type": "code",
   "execution_count": 64,
   "metadata": {},
   "outputs": [
    {
     "data": {
      "text/html": [
       "<div>\n",
       "<style scoped>\n",
       "    .dataframe tbody tr th:only-of-type {\n",
       "        vertical-align: middle;\n",
       "    }\n",
       "\n",
       "    .dataframe tbody tr th {\n",
       "        vertical-align: top;\n",
       "    }\n",
       "\n",
       "    .dataframe thead th {\n",
       "        text-align: right;\n",
       "    }\n",
       "</style>\n",
       "<table border=\"1\" class=\"dataframe\">\n",
       "  <thead>\n",
       "    <tr style=\"text-align: right;\">\n",
       "      <th></th>\n",
       "      <th>A</th>\n",
       "      <th>C</th>\n",
       "    </tr>\n",
       "  </thead>\n",
       "  <tbody>\n",
       "    <tr>\n",
       "      <th>2019-11-14</th>\n",
       "      <td>0.622808</td>\n",
       "      <td>0.066983</td>\n",
       "    </tr>\n",
       "    <tr>\n",
       "      <th>2019-11-15</th>\n",
       "      <td>0.524830</td>\n",
       "      <td>0.881191</td>\n",
       "    </tr>\n",
       "    <tr>\n",
       "      <th>2019-11-16</th>\n",
       "      <td>0.769761</td>\n",
       "      <td>0.889813</td>\n",
       "    </tr>\n",
       "    <tr>\n",
       "      <th>2019-11-17</th>\n",
       "      <td>0.240758</td>\n",
       "      <td>0.866990</td>\n",
       "    </tr>\n",
       "    <tr>\n",
       "      <th>2019-11-18</th>\n",
       "      <td>0.583402</td>\n",
       "      <td>0.901823</td>\n",
       "    </tr>\n",
       "    <tr>\n",
       "      <th>2019-11-19</th>\n",
       "      <td>0.316259</td>\n",
       "      <td>0.880708</td>\n",
       "    </tr>\n",
       "    <tr>\n",
       "      <th>2019-11-20</th>\n",
       "      <td>0.320728</td>\n",
       "      <td>0.484010</td>\n",
       "    </tr>\n",
       "  </tbody>\n",
       "</table>\n",
       "</div>"
      ],
      "text/plain": [
       "                   A         C\n",
       "2019-11-14  0.622808  0.066983\n",
       "2019-11-15  0.524830  0.881191\n",
       "2019-11-16  0.769761  0.889813\n",
       "2019-11-17  0.240758  0.866990\n",
       "2019-11-18  0.583402  0.901823\n",
       "2019-11-19  0.316259  0.880708\n",
       "2019-11-20  0.320728  0.484010"
      ]
     },
     "execution_count": 64,
     "metadata": {},
     "output_type": "execute_result"
    }
   ],
   "source": [
    "dff.loc[:'20191120',['A','C']]"
   ]
  },
  {
   "cell_type": "code",
   "execution_count": 73,
   "metadata": {},
   "outputs": [
    {
     "data": {
      "text/plain": [
       "DatetimeIndex(['2019-11-12', '2019-11-13', '2019-11-14', '2019-11-15',\n",
       "               '2019-11-16', '2019-11-17', '2019-11-18', '2019-11-19',\n",
       "               '2019-11-20', '2019-11-21'],\n",
       "              dtype='datetime64[ns]', freq='D')"
      ]
     },
     "execution_count": 73,
     "metadata": {},
     "output_type": "execute_result"
    }
   ],
   "source": [
    "pd.date_range('20191112',periods=10)"
   ]
  },
  {
   "cell_type": "code",
   "execution_count": 77,
   "metadata": {},
   "outputs": [],
   "source": [
    "df = pd.DataFrame({\n",
    "    'A' : 1.,\n",
    "    'B' : np.array([3] * 4),\n",
    "    'C' : pd.Categorical(['male','female','male','female']),\n",
    "    'D' : ['foo','bar'] *2,\n",
    "    'E' : pd.Timestamp('2019-11-14')\n",
    "})"
   ]
  },
  {
   "cell_type": "code",
   "execution_count": 79,
   "metadata": {},
   "outputs": [],
   "source": [
    "df.index = date[:4]"
   ]
  },
  {
   "cell_type": "code",
   "execution_count": 80,
   "metadata": {},
   "outputs": [
    {
     "data": {
      "text/html": [
       "<div>\n",
       "<style scoped>\n",
       "    .dataframe tbody tr th:only-of-type {\n",
       "        vertical-align: middle;\n",
       "    }\n",
       "\n",
       "    .dataframe tbody tr th {\n",
       "        vertical-align: top;\n",
       "    }\n",
       "\n",
       "    .dataframe thead th {\n",
       "        text-align: right;\n",
       "    }\n",
       "</style>\n",
       "<table border=\"1\" class=\"dataframe\">\n",
       "  <thead>\n",
       "    <tr style=\"text-align: right;\">\n",
       "      <th></th>\n",
       "      <th>A</th>\n",
       "      <th>B</th>\n",
       "      <th>C</th>\n",
       "      <th>D</th>\n",
       "      <th>E</th>\n",
       "    </tr>\n",
       "  </thead>\n",
       "  <tbody>\n",
       "    <tr>\n",
       "      <th>2019-11-14</th>\n",
       "      <td>1.0</td>\n",
       "      <td>3</td>\n",
       "      <td>male</td>\n",
       "      <td>foo</td>\n",
       "      <td>2019-11-14</td>\n",
       "    </tr>\n",
       "    <tr>\n",
       "      <th>2019-11-15</th>\n",
       "      <td>1.0</td>\n",
       "      <td>3</td>\n",
       "      <td>female</td>\n",
       "      <td>bar</td>\n",
       "      <td>2019-11-14</td>\n",
       "    </tr>\n",
       "    <tr>\n",
       "      <th>2019-11-16</th>\n",
       "      <td>1.0</td>\n",
       "      <td>3</td>\n",
       "      <td>male</td>\n",
       "      <td>foo</td>\n",
       "      <td>2019-11-14</td>\n",
       "    </tr>\n",
       "    <tr>\n",
       "      <th>2019-11-17</th>\n",
       "      <td>1.0</td>\n",
       "      <td>3</td>\n",
       "      <td>female</td>\n",
       "      <td>bar</td>\n",
       "      <td>2019-11-14</td>\n",
       "    </tr>\n",
       "  </tbody>\n",
       "</table>\n",
       "</div>"
      ],
      "text/plain": [
       "              A  B       C    D          E\n",
       "2019-11-14  1.0  3    male  foo 2019-11-14\n",
       "2019-11-15  1.0  3  female  bar 2019-11-14\n",
       "2019-11-16  1.0  3    male  foo 2019-11-14\n",
       "2019-11-17  1.0  3  female  bar 2019-11-14"
      ]
     },
     "execution_count": 80,
     "metadata": {},
     "output_type": "execute_result"
    }
   ],
   "source": [
    "df"
   ]
  },
  {
   "cell_type": "code",
   "execution_count": 83,
   "metadata": {},
   "outputs": [],
   "source": [
    "s = pd.Series([1,2,3,4,5,6,4,4,6,7,8,6,5,3,5,6,20,18,8,7,5])"
   ]
  },
  {
   "cell_type": "code",
   "execution_count": 84,
   "metadata": {},
   "outputs": [
    {
     "data": {
      "text/plain": [
       "<matplotlib.axes._subplots.AxesSubplot at 0x182ea3b1cf8>"
      ]
     },
     "execution_count": 84,
     "metadata": {},
     "output_type": "execute_result"
    },
    {
     "data": {
      "image/png": "[encoded data removed]",
      "text/plain": [
       "<Figure size 432x288 with 1 Axes>"
      ]
     },
     "metadata": {
      "needs_background": "light"
     },
     "output_type": "display_data"
    }
   ],
   "source": [
    "s.plot(kind='bar')"
   ]
  },
  {
   "cell_type": "code",
   "execution_count": 85,
   "metadata": {},
   "outputs": [],
   "source": [
    "from random import randint"
   ]
  },
  {
   "cell_type": "code",
   "execution_count": 89,
   "metadata": {},
   "outputs": [],
   "source": [
    "new = pd.DataFrame(data=[[randint(1,100) for var in range(50)],[randint(1,200) for var in range(50)],[randint(1,200) for var in range(50)]])"
   ]
  },
  {
   "cell_type": "code",
   "execution_count": 90,
   "metadata": {},
   "outputs": [
    {
     "data": {
      "text/html": [
       "<div>\n",
       "<style scoped>\n",
       "    .dataframe tbody tr th:only-of-type {\n",
       "        vertical-align: middle;\n",
       "    }\n",
       "\n",
       "    .dataframe tbody tr th {\n",
       "        vertical-align: top;\n",
       "    }\n",
       "\n",
       "    .dataframe thead th {\n",
       "        text-align: right;\n",
       "    }\n",
       "</style>\n",
       "<table border=\"1\" class=\"dataframe\">\n",
       "  <thead>\n",
       "    <tr style=\"text-align: right;\">\n",
       "      <th></th>\n",
       "      <th>A</th>\n",
       "      <th>B</th>\n",
       "      <th>C</th>\n",
       "      <th>D</th>\n",
       "      <th>E</th>\n",
       "    </tr>\n",
       "  </thead>\n",
       "  <tbody>\n",
       "    <tr>\n",
       "      <th>2019-11-14</th>\n",
       "      <td>1.0</td>\n",
       "      <td>3</td>\n",
       "      <td>male</td>\n",
       "      <td>foo</td>\n",
       "      <td>2019-11-14</td>\n",
       "    </tr>\n",
       "    <tr>\n",
       "      <th>2019-11-15</th>\n",
       "      <td>1.0</td>\n",
       "      <td>3</td>\n",
       "      <td>female</td>\n",
       "      <td>bar</td>\n",
       "      <td>2019-11-14</td>\n",
       "    </tr>\n",
       "    <tr>\n",
       "      <th>2019-11-16</th>\n",
       "      <td>1.0</td>\n",
       "      <td>3</td>\n",
       "      <td>male</td>\n",
       "      <td>foo</td>\n",
       "      <td>2019-11-14</td>\n",
       "    </tr>\n",
       "    <tr>\n",
       "      <th>2019-11-17</th>\n",
       "      <td>1.0</td>\n",
       "      <td>3</td>\n",
       "      <td>female</td>\n",
       "      <td>bar</td>\n",
       "      <td>2019-11-14</td>\n",
       "    </tr>\n",
       "  </tbody>\n",
       "</table>\n",
       "</div>"
      ],
      "text/plain": [
       "              A  B       C    D          E\n",
       "2019-11-14  1.0  3    male  foo 2019-11-14\n",
       "2019-11-15  1.0  3  female  bar 2019-11-14\n",
       "2019-11-16  1.0  3    male  foo 2019-11-14\n",
       "2019-11-17  1.0  3  female  bar 2019-11-14"
      ]
     },
     "execution_count": 90,
     "metadata": {},
     "output_type": "execute_result"
    }
   ],
   "source": [
    "df"
   ]
  },
  {
   "cell_type": "code",
   "execution_count": 93,
   "metadata": {},
   "outputs": [],
   "source": [
    "new = new.T"
   ]
  },
  {
   "cell_type": "code",
   "execution_count": 95,
   "metadata": {},
   "outputs": [],
   "source": [
    "new.columns = ['one','two','three']"
   ]
  },
  {
   "cell_type": "code",
   "execution_count": 100,
   "metadata": {},
   "outputs": [],
   "source": [
    "new.sort_values('one',inplace=True)"
   ]
  },
  {
   "cell_type": "code",
   "execution_count": 103,
   "metadata": {},
   "outputs": [],
   "source": [
    "new.reset_index(inplace=True)"
   ]
  },
  {
   "cell_type": "code",
   "execution_count": 109,
   "metadata": {},
   "outputs": [],
   "source": [
    "new.drop('index',axis=1,inplace=True)"
   ]
  },
  {
   "cell_type": "code",
   "execution_count": 122,
   "metadata": {},
   "outputs": [
    {
     "data": {
      "image/png": "[encoded data removed]",
      "text/plain": [
       "<Figure size 432x288 with 1 Axes>"
      ]
     },
     "metadata": {
      "needs_background": "light"
     },
     "output_type": "display_data"
    }
   ],
   "source": [
    "plt.scatter(new.one,new.two,color='red')\n",
    "plt.plot(new.one,new.two,color='black')\n",
    "plt.legend(labels=['one','two'])\n",
    "plt.show()"
   ]
  },
  {
   "cell_type": "code",
   "execution_count": 2,
   "metadata": {},
   "outputs": [],
   "source": [
    "x = np.linspace(-1,1,100)"
   ]
  },
  {
   "cell_type": "code",
   "execution_count": 6,
   "metadata": {},
   "outputs": [
    {
     "data": {
      "image/png": "[encoded data removed]",
      "text/plain": [
       "<Figure size 720x360 with 1 Axes>"
      ]
     },
     "metadata": {
      "needs_background": "light"
     },
     "output_type": "display_data"
    }
   ],
   "source": [
    "plt.figure(figsize=(10,5))\n",
    "plt.plot(x,x**2,'m',label='$X^2$')\n",
    "plt.plot(x,x**3,'y',label='$X^3$')\n",
    "plt.plot(x,x**4,'g',label='$X^4$')\n",
    "plt.legend()\n",
    "plt.title('GRAPH')\n",
    "plt.xlabel('x-axis')\n",
    "plt.ylabel('y-axis')\n",
    "plt.show()"
   ]
  },
  {
   "cell_type": "code",
   "execution_count": 7,
   "metadata": {},
   "outputs": [],
   "source": [
    "x = np.linspace(0,5,11)\n",
    "y = x**3"
   ]
  },
  {
   "cell_type": "code",
   "execution_count": 11,
   "metadata": {},
   "outputs": [
    {
     "data": {
      "text/plain": [
       "array([0. , 0.5, 1. , 1.5, 2. , 2.5, 3. , 3.5, 4. , 4.5, 5. ])"
      ]
     },
     "execution_count": 11,
     "metadata": {},
     "output_type": "execute_result"
    }
   ],
   "source": [
    "x"
   ]
  },
  {
   "cell_type": "code",
   "execution_count": 12,
   "metadata": {},
   "outputs": [
    {
     "data": {
      "text/plain": [
       "array([  0.   ,   0.125,   1.   ,   3.375,   8.   ,  15.625,  27.   ,\n",
       "        42.875,  64.   ,  91.125, 125.   ])"
      ]
     },
     "execution_count": 12,
     "metadata": {},
     "output_type": "execute_result"
    }
   ],
   "source": [
    "y"
   ]
  },
  {
   "cell_type": "code",
   "execution_count": 13,
   "metadata": {},
   "outputs": [
    {
     "data": {
      "image/png": "[encoded data removed]",
      "text/plain": [
       "<Figure size 720x360 with 1 Axes>"
      ]
     },
     "metadata": {
      "needs_background": "light"
     },
     "output_type": "display_data"
    }
   ],
   "source": [
    "plt.figure(figsize=(10,5))\n",
    "plt.plot([1,2,3,4,5],[1,4,9,16,25],'go',x,y,'rv')\n",
    "#plt.plot(x,y,'r^')\n",
    "plt.show()"
   ]
  },
  {
   "cell_type": "code",
   "execution_count": 36,
   "metadata": {},
   "outputs": [
    {
     "data": {
      "image/png": "[encoded data removed]",
      "text/plain": [
       "<Figure size 720x360 with 1 Axes>"
      ]
     },
     "metadata": {},
     "output_type": "display_data"
    }
   ],
   "source": [
    "plt.figure(figsize=(10,5),facecolor='black')\n",
    "plt.style.use('ggplot')\n",
    "plt.rcParams['text.color'] = 'blue'\n",
    "plt.plot([1,2,3,4,5],[1,4,9,16,25],'g',marker='o',markersize=10,markeredgecolor='black')\n",
    "plt.title('GRAPH of x,y')\n",
    "plt.xlabel('x-axis',fontdict={'color':'y'})\n",
    "plt.ylabel('y-axis',fontdict={'color':'y'})\n",
    "plt.plot(x,y,'r',marker='^',markersize=10,markeredgecolor='black')\n",
    "plt.savefig('C:/Users/Ajay/Desktop/mygraph.jpeg',facecolor='black')"
   ]
  },
  {
   "cell_type": "code",
   "execution_count": 23,
   "metadata": {},
   "outputs": [
    {
     "data": {
      "text/plain": [
       "array([0. , 0.5, 1. , 1.5, 2. , 2.5, 3. , 3.5, 4. , 4.5, 5. ])"
      ]
     },
     "execution_count": 23,
     "metadata": {},
     "output_type": "execute_result"
    }
   ],
   "source": [
    "x"
   ]
  },
  {
   "cell_type": "code",
   "execution_count": 24,
   "metadata": {},
   "outputs": [
    {
     "data": {
      "text/plain": [
       "array([  0.   ,   0.125,   1.   ,   3.375,   8.   ,  15.625,  27.   ,\n",
       "        42.875,  64.   ,  91.125, 125.   ])"
      ]
     },
     "execution_count": 24,
     "metadata": {},
     "output_type": "execute_result"
    }
   ],
   "source": [
    "y"
   ]
  },
  {
   "cell_type": "code",
   "execution_count": 40,
   "metadata": {},
   "outputs": [
    {
     "data": {
      "image/png": "[encoded data removed]",
      "text/plain": [
       "<Figure size 640x480 with 1 Axes>"
      ]
     },
     "metadata": {},
     "output_type": "display_data"
    }
   ],
   "source": [
    "plt.scatter(x,y)\n",
    "plt.style.use('default')\n",
    "plt.show()"
   ]
  },
  {
   "cell_type": "code",
   "execution_count": 45,
   "metadata": {},
   "outputs": [
    {
     "data": {
      "image/png": "[encoded data removed]",
      "text/plain": [
       "<Figure size 640x480 with 2 Axes>"
      ]
     },
     "metadata": {},
     "output_type": "display_data"
    }
   ],
   "source": [
    "plt.subplot(1,2,1)  #row,col,acces of graph\n",
    "plt.plot(x,y,'g:')\n",
    "plt.title('first graph')\n",
    "\n",
    "plt.subplot(1,2,2)\n",
    "plt.plot(y,x,'r:')\n",
    "plt.title('second graph')\n",
    "\n",
    "plt.suptitle('subplots')\n",
    "\n",
    "plt.show()"
   ]
  },
  {
   "cell_type": "code",
   "execution_count": 49,
   "metadata": {},
   "outputs": [
    {
     "data": {
      "text/plain": [
       "Text(0.5, 1.0, 'small plot')"
      ]
     },
     "execution_count": 49,
     "metadata": {},
     "output_type": "execute_result"
    },
    {
     "data": {
      "image/png": "[encoded data removed]",
      "text/plain": [
       "<Figure size 800x500 with 2 Axes>"
      ]
     },
     "metadata": {},
     "output_type": "display_data"
    }
   ],
   "source": [
    "fig = plt.figure(figsize=(8,5))\n",
    "\n",
    "ax  = fig.add_axes([0,0,0.8,0.8])   #left,bottom,width,height\n",
    "ax1 = fig.add_axes([0.1,0.3,0.4,0.4])\n",
    "\n",
    "ax.plot(x,y,'m--')\n",
    "ax.set_title('large plot')\n",
    "\n",
    "ax1.plot(y,x,'y--')\n",
    "ax1.set_title('small plot')"
   ]
  },
  {
   "cell_type": "code",
   "execution_count": 70,
   "metadata": {},
   "outputs": [
    {
     "data": {
      "text/plain": [
       "[<matplotlib.lines.Line2D at 0x1562ab2a4e0>]"
      ]
     },
     "execution_count": 70,
     "metadata": {},
     "output_type": "execute_result"
    },
    {
     "data": {
      "image/png": "[encoded data removed]",
      "text/plain": [
       "<Figure size 640x480 with 1 Axes>"
      ]
     },
     "metadata": {},
     "output_type": "display_data"
    }
   ],
   "source": [
    "fig,ax = plt.subplots()\n",
    "\n",
    "ax.plot(x,x+1,'red',lw=2,alpha=0.25,linestyle='--')\n",
    "ax.plot(x,x+2,'red',lw=3,alpha=0.50,ls='--',marker='o')\n",
    "ax.plot(x,x+3,'red',lw=4,alpha=1.0,marker='s',markeredgecolor='black',markerfacecolor='g')\n",
    "ax.plot(x,x+4,'blue',lw=5,alpha=1.0,marker='v',markeredgecolor='black',markerfacecolor='y')\n",
    "ax.plot(x,x+5,'blue',lw=6,alpha=1.0,marker='*',markeredgecolor='black',markerfacecolor='m')"
   ]
  },
  {
   "cell_type": "code",
   "execution_count": 79,
   "metadata": {},
   "outputs": [],
   "source": [
    "x = np.arange(1,30)"
   ]
  },
  {
   "cell_type": "code",
   "execution_count": 81,
   "metadata": {},
   "outputs": [
    {
     "data": {
      "image/png": "[encoded data removed]",
      "text/plain": [
       "<Figure size 1000x500 with 1 Axes>"
      ]
     },
     "metadata": {},
     "output_type": "display_data"
    }
   ],
   "source": [
    "plt.figure(figsize=(10,5))\n",
    "plt.plot(x,np.sin(x),label='$sin \\Theta$')\n",
    "plt.plot(x,np.cos(x),label='$cos \\Theta$')\n",
    "plt.legend()\n",
    "plt.show()"
   ]
  },
  {
   "cell_type": "code",
   "execution_count": null,
   "metadata": {},
   "outputs": [],
   "source": []
  }
 ],
 "metadata": {
  "kernelspec": {
   "display_name": "Python 3",
   "language": "python",
   "name": "python3"
  },
  "language_info": {
   "codemirror_mode": {
    "name": "ipython",
    "version": 3
   },
   "file_extension": ".py",
   "mimetype": "text/x-python",
   "name": "python",
   "nbconvert_exporter": "python",
   "pygments_lexer": "ipython3",
   "version": "3.7.3"
  }
 },
 "nbformat": 4,
 "nbformat_minor": 2
}
